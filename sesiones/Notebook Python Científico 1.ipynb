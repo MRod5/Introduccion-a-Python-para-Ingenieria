{
 "cells": [
  {
   "cell_type": "markdown",
   "metadata": {
    "slideshow": {
     "slide_type": "slide"
    }
   },
   "source": [
    "# Sesión 1: Nociones Básicas de Programación\n",
    "\n",
    "$$ $$\n",
    "$$ $$\n",
    "$$ $$\n",
    "$$ $$\n",
    "$$ $$\n",
    "$$ $$\n",
    "  \n",
    "\n",
    "#### Introducción a Python para Ingeniería\n",
    "#### M. Rodríguez, 2020 - 2022"
   ]
  },
  {
   "cell_type": "markdown",
   "metadata": {
    "slideshow": {
     "slide_type": "slide"
    }
   },
   "source": [
    "## ¡Bienvenido!\n",
    "Bienvenido a tu primer Notebook. Aquí encontrarás una forma rápida de codificar, a la vez que versátil: se pueden adjuntar imágenes, textos en Markdown, edición de ecuaciones LaTEX, generación de Slides y exportación a PDF..."
   ]
  },
  {
   "cell_type": "markdown",
   "metadata": {
    "slideshow": {
     "slide_type": "subslide"
    }
   },
   "source": [
    "El curso de Python en MECEA estará centrado en Notebooks con **conceptos de programación** y Notebooks con **ejercicios prácticos**.\n",
    "\n",
    "El objetivo de los ejercicios es que se **realicen en el aula** con ayuda del profesor y de forma participativa."
   ]
  },
  {
   "cell_type": "markdown",
   "metadata": {
    "slideshow": {
     "slide_type": "subslide"
    }
   },
   "source": [
    "Los notebooks pueden exportarse a **PDF** o pueden convertirse en una presentación ejecutable desde cualquier explorador de internet **como esta**.\n",
    "\n",
    "Son una forma útil y versátil de acudir a reuniones y presentar resultados o entregar trabajos pues:"
   ]
  },
  {
   "cell_type": "markdown",
   "metadata": {
    "slideshow": {
     "slide_type": "fragment"
    }
   },
   "source": [
    "* Permiten codificar de manera ágil y con ayudas similares a Spyder"
   ]
  },
  {
   "cell_type": "markdown",
   "metadata": {
    "slideshow": {
     "slide_type": "fragment"
    }
   },
   "source": [
    "* Se pueden presentar resultados a la vez que textos explicativos y ecuaciones sin perder tiempo y recursos haciendo 3 documentos distintos... ¡Todo en uno!"
   ]
  },
  {
   "cell_type": "markdown",
   "metadata": {
    "slideshow": {
     "slide_type": "fragment"
    }
   },
   "source": [
    "* ¡Tienen sistema de versiones!"
   ]
  },
  {
   "cell_type": "markdown",
   "metadata": {
    "slideshow": {
     "slide_type": "subslide"
    }
   },
   "source": [
    "### ¡Empezamos!"
   ]
  },
  {
   "cell_type": "markdown",
   "metadata": {
    "slideshow": {
     "slide_type": "slide"
    }
   },
   "source": [
    "## Contenido del Notebook:\n",
    "\n",
    "1. Tipos de datos\n",
    "    1. Variables enteras\n",
    "    2. Variables reales\n",
    "    3. Variables complejas\n",
    "    4. Variables caracter\n",
    "    5. Variables booleanas (lógicas)\n",
    "    6. Listas\n",
    "    7. Tuplas\n",
    "    8. Diccionarios\n",
    "    \n",
    "2. Aproximación a la programación: estructuras básicas de programación\n",
    "    1. Bucles\n",
    "    2. Condicionales\n",
    "    3. Funciones\n",
    "   "
   ]
  },
  {
   "cell_type": "markdown",
   "metadata": {
    "slideshow": {
     "slide_type": "slide"
    }
   },
   "source": [
    "## 1) Tipos de datos:\n",
    "\n",
    "\n",
    "En Python, como en todos los lenguajes de programación, existen distintos tipos de datos. Éstos suponen los datos que el lenguaje de programación es capaz de entender y de manejar."
   ]
  },
  {
   "cell_type": "markdown",
   "metadata": {
    "slideshow": {
     "slide_type": "fragment"
    }
   },
   "source": [
    "Es importante conocer y recordar los distintos tipos. ¡Muchos errores se cometen al confundir o asumir un tipo de datos erróneo!"
   ]
  },
  {
   "cell_type": "markdown",
   "metadata": {
    "slideshow": {
     "slide_type": "subslide"
    }
   },
   "source": [
    "### Tipo Numérico:\n",
    "\n",
    "Así, los tipos numéricos serían los enteros (`int`), reales (`float`), complejos (`complex`)... En concordancia con los distintos dominios numéricos de la matemática básica."
   ]
  },
  {
   "cell_type": "code",
   "execution_count": 1,
   "metadata": {
    "slideshow": {
     "slide_type": "fragment"
    }
   },
   "outputs": [],
   "source": [
    "entero = 1\n",
    "real = 1.0\n",
    "complejo = 1.0 + 1j"
   ]
  },
  {
   "cell_type": "markdown",
   "metadata": {
    "slideshow": {
     "slide_type": "fragment"
    }
   },
   "source": [
    "Al escribir `entero = 1` se asigna el valor `1` a la variable, recién creada `entero`. Es importante tener en cuenta que `entero = 1` **no** es una forma de ecuación sino de **asignación**.\n",
    "\n",
    "La asignación entre variables se puede hacer si la variable ya existe."
   ]
  },
  {
   "cell_type": "code",
   "execution_count": 2,
   "metadata": {},
   "outputs": [],
   "source": [
    "otro_entero = entero + 10"
   ]
  },
  {
   "cell_type": "markdown",
   "metadata": {
    "slideshow": {
     "slide_type": "subslide"
    }
   },
   "source": [
    "Cuando se escribe código en una celda, las variables se debe hacer uso de la **sintaxis** del lenguaje de programación. El ordenador entiende nuestras órdenes si nos expresamos en Python porque estamos usando este intérprete.\n",
    "\n",
    "Si queremos que el ordenador obvie una linea se debe usar un caracter especial: `#`. De esta forma cualquier linea precedida por `#`será ignorada por el intérprete"
   ]
  },
  {
   "cell_type": "code",
   "execution_count": 3,
   "metadata": {
    "slideshow": {
     "slide_type": "-"
    }
   },
   "outputs": [],
   "source": [
    "# Esto es un comentario"
   ]
  },
  {
   "cell_type": "code",
   "execution_count": 4,
   "metadata": {
    "slideshow": {
     "slide_type": "subslide"
    }
   },
   "outputs": [],
   "source": [
    "entero = 1 # Cifra entera\n",
    "real = 1.0 # Esta cifra es del dominio real por llevar el punto decimal"
   ]
  },
  {
   "cell_type": "markdown",
   "metadata": {
    "slideshow": {
     "slide_type": "subslide"
    }
   },
   "source": [
    "Con los tipos numéricos se pueden aplicar los operadores matemáticos comunes:"
   ]
  },
  {
   "cell_type": "code",
   "execution_count": 5,
   "metadata": {},
   "outputs": [
    {
     "data": {
      "text/plain": [
       "4.0"
      ]
     },
     "execution_count": 5,
     "metadata": {},
     "output_type": "execute_result"
    }
   ],
   "source": [
    "1 + 6/2"
   ]
  },
  {
   "cell_type": "code",
   "execution_count": 6,
   "metadata": {},
   "outputs": [
    {
     "data": {
      "text/plain": [
       "2"
      ]
     },
     "execution_count": 6,
     "metadata": {},
     "output_type": "execute_result"
    }
   ],
   "source": [
    "5//2 #División entera"
   ]
  },
  {
   "cell_type": "code",
   "execution_count": 7,
   "metadata": {},
   "outputs": [
    {
     "data": {
      "text/plain": [
       "(2+0j)"
      ]
     },
     "execution_count": 7,
     "metadata": {},
     "output_type": "execute_result"
    }
   ],
   "source": [
    "complejo*(1-1j)"
   ]
  },
  {
   "cell_type": "code",
   "execution_count": 8,
   "metadata": {},
   "outputs": [
    {
     "data": {
      "text/plain": [
       "1.6666666666666667"
      ]
     },
     "execution_count": 8,
     "metadata": {},
     "output_type": "execute_result"
    }
   ],
   "source": [
    "x = 0\n",
    "(x + 5)/3"
   ]
  },
  {
   "cell_type": "code",
   "execution_count": 9,
   "metadata": {
    "scrolled": true
   },
   "outputs": [
    {
     "data": {
      "text/plain": [
       "-75611.5"
      ]
     },
     "execution_count": 9,
     "metadata": {},
     "output_type": "execute_result"
    }
   ],
   "source": [
    "20 - 3**2*(21/3)**5/2"
   ]
  },
  {
   "cell_type": "markdown",
   "metadata": {
    "slideshow": {
     "slide_type": "subslide"
    }
   },
   "source": [
    "La prioridad de los operadores es la típica del álgebra.\n",
    "> **Atención:** Al escribir las operaciones en linea se pierde, a veces, el sentido de la prioridad matemática. Es muy recomendable separar con espacios y usar paréntesis `()` redundantes si la legibilidad aumenta"
   ]
  },
  {
   "cell_type": "code",
   "execution_count": 10,
   "metadata": {
    "slideshow": {
     "slide_type": "fragment"
    }
   },
   "outputs": [
    {
     "data": {
      "text/plain": [
       "-75611.5"
      ]
     },
     "execution_count": 10,
     "metadata": {},
     "output_type": "execute_result"
    }
   ],
   "source": [
    "20 - 3**2*(21/3)**5/2"
   ]
  },
  {
   "cell_type": "code",
   "execution_count": 11,
   "metadata": {
    "slideshow": {
     "slide_type": "fragment"
    }
   },
   "outputs": [
    {
     "data": {
      "text/plain": [
       "-75611.5"
      ]
     },
     "execution_count": 11,
     "metadata": {},
     "output_type": "execute_result"
    }
   ],
   "source": [
    "20 - 3**2 * ((21/3)**5) / 2 # Más legible -> Menores errores"
   ]
  },
  {
   "cell_type": "markdown",
   "metadata": {
    "slideshow": {
     "slide_type": "subslide"
    }
   },
   "source": [
    "Es posible leer el valor de una variable ya asignada anteriormente pidiéndole al intérprete que imprima su valor: `print(Variable)`.\n",
    "\n",
    "> **Atención:** Reutilizar variables está bien, pero hay que cerciorarse del valor almacenado. Esto es una fuente de error muy típica... Iniciar siempre las variables es una buena práctica!\n",
    "\n",
    "Además, ¡Atención a las mayúsculas! Python es *Case-Sensitive*:"
   ]
  },
  {
   "cell_type": "code",
   "execution_count": 12,
   "metadata": {
    "slideshow": {
     "slide_type": "-"
    }
   },
   "outputs": [
    {
     "ename": "NameError",
     "evalue": "name 'Real' is not defined",
     "output_type": "error",
     "traceback": [
      "\u001b[1;31m---------------------------------------------------------------------------\u001b[0m",
      "\u001b[1;31mNameError\u001b[0m                                 Traceback (most recent call last)",
      "\u001b[1;32m<ipython-input-12-88bbf625c877>\u001b[0m in \u001b[0;36m<module>\u001b[1;34m\u001b[0m\n\u001b[1;32m----> 1\u001b[1;33m \u001b[0mprint\u001b[0m\u001b[1;33m(\u001b[0m\u001b[0mReal\u001b[0m\u001b[1;33m)\u001b[0m\u001b[1;33m\u001b[0m\u001b[1;33m\u001b[0m\u001b[0m\n\u001b[0m",
      "\u001b[1;31mNameError\u001b[0m: name 'Real' is not defined"
     ]
    }
   ],
   "source": [
    "print(Real)"
   ]
  },
  {
   "cell_type": "markdown",
   "metadata": {
    "slideshow": {
     "slide_type": "subslide"
    }
   },
   "source": [
    "._.\n",
    "\n",
    "\n",
    "## **¡El primer error!**\n",
    "\n",
    "Cuando el intérprete no sea capaz de entender nuestra orden producirá un error. Los errores tienen distintas clasificaciones según la naturaleza:\n"
   ]
  },
  {
   "cell_type": "code",
   "execution_count": 13,
   "metadata": {
    "slideshow": {
     "slide_type": "subslide"
    }
   },
   "outputs": [
    {
     "ename": "ZeroDivisionError",
     "evalue": "division by zero",
     "output_type": "error",
     "traceback": [
      "\u001b[1;31m---------------------------------------------------------------------------\u001b[0m",
      "\u001b[1;31mZeroDivisionError\u001b[0m                         Traceback (most recent call last)",
      "\u001b[1;32m<ipython-input-13-9e1622b385b6>\u001b[0m in \u001b[0;36m<module>\u001b[1;34m\u001b[0m\n\u001b[1;32m----> 1\u001b[1;33m \u001b[1;36m1\u001b[0m\u001b[1;33m/\u001b[0m\u001b[1;36m0\u001b[0m\u001b[1;33m\u001b[0m\u001b[1;33m\u001b[0m\u001b[0m\n\u001b[0m",
      "\u001b[1;31mZeroDivisionError\u001b[0m: division by zero"
     ]
    }
   ],
   "source": [
    "1/0"
   ]
  },
  {
   "cell_type": "code",
   "execution_count": 14,
   "metadata": {
    "slideshow": {
     "slide_type": "fragment"
    }
   },
   "outputs": [
    {
     "ename": "NameError",
     "evalue": "name 'Real' is not defined",
     "output_type": "error",
     "traceback": [
      "\u001b[1;31m---------------------------------------------------------------------------\u001b[0m",
      "\u001b[1;31mNameError\u001b[0m                                 Traceback (most recent call last)",
      "\u001b[1;32m<ipython-input-14-5ff56bdbe99e>\u001b[0m in \u001b[0;36m<module>\u001b[1;34m\u001b[0m\n\u001b[1;32m----> 1\u001b[1;33m \u001b[0mReal\u001b[0m\u001b[1;33m\u001b[0m\u001b[1;33m\u001b[0m\u001b[0m\n\u001b[0m",
      "\u001b[1;31mNameError\u001b[0m: name 'Real' is not defined"
     ]
    }
   ],
   "source": [
    "Real"
   ]
  },
  {
   "cell_type": "code",
   "execution_count": 15,
   "metadata": {
    "scrolled": true,
    "slideshow": {
     "slide_type": "fragment"
    }
   },
   "outputs": [
    {
     "ename": "TypeError",
     "evalue": "unsupported operand type(s) for +: 'builtin_function_or_method' and 'int'",
     "output_type": "error",
     "traceback": [
      "\u001b[1;31m---------------------------------------------------------------------------\u001b[0m",
      "\u001b[1;31mTypeError\u001b[0m                                 Traceback (most recent call last)",
      "\u001b[1;32m<ipython-input-15-ac76789afda4>\u001b[0m in \u001b[0;36m<module>\u001b[1;34m\u001b[0m\n\u001b[1;32m----> 1\u001b[1;33m \u001b[0mprint\u001b[0m \u001b[1;33m+\u001b[0m \u001b[1;36m5\u001b[0m\u001b[1;33m\u001b[0m\u001b[1;33m\u001b[0m\u001b[0m\n\u001b[0m",
      "\u001b[1;31mTypeError\u001b[0m: unsupported operand type(s) for +: 'builtin_function_or_method' and 'int'"
     ]
    }
   ],
   "source": [
    "print + 5"
   ]
  },
  {
   "cell_type": "markdown",
   "metadata": {},
   "source": [
    "Otras errores que tendrán más sentido más adelante..."
   ]
  },
  {
   "cell_type": "code",
   "execution_count": 16,
   "metadata": {
    "slideshow": {
     "slide_type": "subslide"
    }
   },
   "outputs": [
    {
     "ename": "TypeError",
     "evalue": "'int' object is not callable",
     "output_type": "error",
     "traceback": [
      "\u001b[1;31m---------------------------------------------------------------------------\u001b[0m",
      "\u001b[1;31mTypeError\u001b[0m                                 Traceback (most recent call last)",
      "\u001b[1;32m<ipython-input-16-293178a145fe>\u001b[0m in \u001b[0;36m<module>\u001b[1;34m\u001b[0m\n\u001b[0;32m      1\u001b[0m \u001b[0mvariable1\u001b[0m \u001b[1;33m=\u001b[0m \u001b[1;36m5\u001b[0m\u001b[1;33m\u001b[0m\u001b[1;33m\u001b[0m\u001b[0m\n\u001b[1;32m----> 2\u001b[1;33m \u001b[0mvariable2\u001b[0m \u001b[1;33m=\u001b[0m \u001b[0mvariable1\u001b[0m\u001b[1;33m(\u001b[0m\u001b[1;36m2\u001b[0m\u001b[1;33m)\u001b[0m\u001b[1;33m\u001b[0m\u001b[1;33m\u001b[0m\u001b[0m\n\u001b[0m",
      "\u001b[1;31mTypeError\u001b[0m: 'int' object is not callable"
     ]
    }
   ],
   "source": [
    "variable1 = 5\n",
    "variable2 = variable1(2)"
   ]
  },
  {
   "cell_type": "code",
   "execution_count": 17,
   "metadata": {
    "slideshow": {
     "slide_type": "fragment"
    }
   },
   "outputs": [
    {
     "name": "stdout",
     "output_type": "stream",
     "text": [
      "False\n",
      "[False False False]\n"
     ]
    },
    {
     "ename": "TypeError",
     "evalue": "'>' not supported between instances of 'list' and 'int'",
     "output_type": "error",
     "traceback": [
      "\u001b[1;31m---------------------------------------------------------------------------\u001b[0m",
      "\u001b[1;31mTypeError\u001b[0m                                 Traceback (most recent call last)",
      "\u001b[1;32m<ipython-input-17-038a99ff6534>\u001b[0m in \u001b[0;36m<module>\u001b[1;34m\u001b[0m\n\u001b[0;32m      3\u001b[0m \u001b[0mprint\u001b[0m\u001b[1;33m(\u001b[0m\u001b[0mnp\u001b[0m\u001b[1;33m.\u001b[0m\u001b[0many\u001b[0m\u001b[1;33m(\u001b[0m\u001b[0mvector\u001b[0m\u001b[1;33m>\u001b[0m\u001b[0mvariable1\u001b[0m\u001b[1;33m)\u001b[0m\u001b[1;33m)\u001b[0m\u001b[1;33m\u001b[0m\u001b[1;33m\u001b[0m\u001b[0m\n\u001b[0;32m      4\u001b[0m \u001b[0mprint\u001b[0m\u001b[1;33m(\u001b[0m\u001b[0mvector\u001b[0m\u001b[1;33m>\u001b[0m\u001b[1;36m5\u001b[0m\u001b[1;33m)\u001b[0m\u001b[1;33m\u001b[0m\u001b[1;33m\u001b[0m\u001b[0m\n\u001b[1;32m----> 5\u001b[1;33m \u001b[0mprint\u001b[0m\u001b[1;33m(\u001b[0m\u001b[1;33m[\u001b[0m\u001b[1;36m1\u001b[0m\u001b[1;33m,\u001b[0m \u001b[1;36m0\u001b[0m\u001b[1;33m,\u001b[0m \u001b[1;36m0\u001b[0m\u001b[1;33m]\u001b[0m\u001b[1;33m>\u001b[0m\u001b[1;36m5\u001b[0m\u001b[1;33m)\u001b[0m\u001b[1;33m\u001b[0m\u001b[1;33m\u001b[0m\u001b[0m\n\u001b[0m",
      "\u001b[1;31mTypeError\u001b[0m: '>' not supported between instances of 'list' and 'int'"
     ]
    }
   ],
   "source": [
    "import numpy as np\n",
    "vector = np.array([1, 0, 0])\n",
    "print(np.any(vector>variable1))\n",
    "print(vector>5)\n",
    "print([1, 0, 0]>5)"
   ]
  },
  {
   "cell_type": "markdown",
   "metadata": {
    "slideshow": {
     "slide_type": "subslide"
    }
   },
   "source": [
    "Lidiar con los errores es inherente a la programación. Todos los programadores cometen errores, lo que da la experiencia es la soltura para resolverlos.\n",
    "\n",
    "Cuando un algoritmo falla es recomendable:\n",
    "1. Leer el error con esmero, el intérprete siempre indica la linea y la posición que no entiende\n",
    "2. Interpretar el mensaje de error: La capacidad de comunicación del ordenador es limitado pero no por ello poco útil\n",
    "3. No desesperar... Esto ya ha pasado muchas veces: busca ayuda en internet (stackoverflow.com, GitHub, etc.)\n",
    "4. Tómate un respiro, es un buen momento para desconectar unos minutos"
   ]
  },
  {
   "cell_type": "markdown",
   "metadata": {
    "slideshow": {
     "slide_type": "subslide"
    }
   },
   "source": [
    "### Tipo caracter:\n",
    "\n",
    "El tipo de caracter o string (`str`) supone cualquier conjunto alfanumérico interpretable.\n",
    "> Se puede usar UTF8: Python entiende tildes, ñ y caracteres griegos (µ) tanto en el nombre de variables como en el tipo `int`"
   ]
  },
  {
   "cell_type": "markdown",
   "metadata": {},
   "source": [
    "El tipo caracter, además, puede concatenarse y repetirse fácilmente haciendo uso de operadores sobre strings:"
   ]
  },
  {
   "cell_type": "code",
   "execution_count": 18,
   "metadata": {
    "slideshow": {
     "slide_type": "subslide"
    }
   },
   "outputs": [
    {
     "name": "stdout",
     "output_type": "stream",
     "text": [
      "Hola hoy hace un buen día\n",
      "µ= 0\n"
     ]
    }
   ],
   "source": [
    "car1 = 'Hola'\n",
    "car2 = 'hoy hace un buen día'\n",
    "\n",
    "print(car1, car2)\n",
    "\n",
    "µ = 0\n",
    "print('µ=',µ)"
   ]
  },
  {
   "cell_type": "code",
   "execution_count": 19,
   "metadata": {},
   "outputs": [
    {
     "name": "stdout",
     "output_type": "stream",
     "text": [
      "Hola, queridos amigos. Hola, queridos amigos. Hola, queridos amigos. \n"
     ]
    }
   ],
   "source": [
    "car3 =(car1 + ', queridos amigos. ') #Concatenación\n",
    "print(car3*3) #Repetición"
   ]
  },
  {
   "cell_type": "code",
   "execution_count": 20,
   "metadata": {},
   "outputs": [
    {
     "name": "stdout",
     "output_type": "stream",
     "text": [
      "De trapo\n",
      "Podemos usar tildes, ñ y caracteres especiales!!! :)\n"
     ]
    }
   ],
   "source": [
    "muñeco = 'De trapo' # Esto fallaría en la mayoría de lenguajes de programación\n",
    "print(muñeco)\n",
    "print('Podemos usar tildes, ñ y caracteres especiales!!! :)')"
   ]
  },
  {
   "cell_type": "markdown",
   "metadata": {
    "slideshow": {
     "slide_type": "subslide"
    }
   },
   "source": [
    "### Tipo Booleano\n",
    "\n",
    "Las variables booleanas (lógicas) son de suma importancia en programación: tienen dos estados (verdadero/falso, 1/0, `True/False`) y despliegan un álgebra propia (álgebra de Boole, lógica). Nos permiten comparar variables asignadas y dotar de elementos de toma de decisiones a nuestros algoritmos.\n",
    "\n",
    "Entre otros operadores tenemos disponible:\n",
    "- Y lógico (`and`)\n",
    "- O lógico (`or`)\n",
    "- NO lógico (`not`)\n",
    "- IDENTIDAD lógica (`IS`)"
   ]
  },
  {
   "cell_type": "code",
   "execution_count": 21,
   "metadata": {
    "slideshow": {
     "slide_type": "subslide"
    }
   },
   "outputs": [],
   "source": [
    "verdadero = True\n",
    "falso = False"
   ]
  },
  {
   "cell_type": "code",
   "execution_count": 22,
   "metadata": {},
   "outputs": [
    {
     "data": {
      "text/plain": [
       "False"
      ]
     },
     "execution_count": 22,
     "metadata": {},
     "output_type": "execute_result"
    }
   ],
   "source": [
    "verdadero and falso"
   ]
  },
  {
   "cell_type": "code",
   "execution_count": 23,
   "metadata": {},
   "outputs": [
    {
     "data": {
      "text/plain": [
       "True"
      ]
     },
     "execution_count": 23,
     "metadata": {},
     "output_type": "execute_result"
    }
   ],
   "source": [
    "verdadero is True"
   ]
  },
  {
   "cell_type": "code",
   "execution_count": 24,
   "metadata": {},
   "outputs": [
    {
     "data": {
      "text/plain": [
       "True"
      ]
     },
     "execution_count": 24,
     "metadata": {},
     "output_type": "execute_result"
    }
   ],
   "source": [
    "verdadero or falso"
   ]
  },
  {
   "cell_type": "markdown",
   "metadata": {
    "slideshow": {
     "slide_type": "subslide"
    }
   },
   "source": [
    "### Listas:\n",
    "\n",
    "Las listas son sucesiones ordenadas de los tipos anteriores. Mediante una lista podemos establecer series, series de series y así sucesivamente. Son una primera aproximación para conseguir multidimensionalidad.\n",
    "\n",
    "Una lista se declara haciendo uso de los corchetes `[ ]`, por lo que el intérprete de Python sabrá diferenciar una lista de otro tipo si aparecen en su declaración los corchetes.\n",
    "\n",
    "Al ser sucesiones ordenadas, entre la lista y un valor concreto de la lista se establece una relación unívoca, que se puede invocar con el **ordinal** correspondiente a la posición del valor.\n",
    "\n",
    "> **Atención:** En Python las listas se empiezan a numerar en 0, y no en 1. Por tanto la primera posición corresponde al ordinal \"0\", la segunda al \"1\" y así sucesivamente."
   ]
  },
  {
   "cell_type": "code",
   "execution_count": 25,
   "metadata": {},
   "outputs": [
    {
     "name": "stdout",
     "output_type": "stream",
     "text": [
      "[1, 2, 3, 4, 5, 4, 3, 2, 1, 0, -1, -2, -3]\n"
     ]
    }
   ],
   "source": [
    "lista = [1, 2, 3, 4, 5, 4, 3, 2, 1, 0, -1, -2, -3]\n",
    "\n",
    "print(lista)"
   ]
  },
  {
   "cell_type": "code",
   "execution_count": 26,
   "metadata": {
    "slideshow": {
     "slide_type": "subslide"
    }
   },
   "outputs": [
    {
     "name": "stdout",
     "output_type": "stream",
     "text": [
      " Primera posición:  1\n",
      " Sexta posición:  4\n",
      " Décima posición:  0\n",
      " Última posición:  -3\n",
      " Penúltima posición:  -2\n"
     ]
    }
   ],
   "source": [
    "print(' Primera posición: ', lista[0])\n",
    "print(' Sexta posición: ', lista[5])\n",
    "print(' Décima posición: ', lista[9])\n",
    "print(' Última posición: ', lista[-1])\n",
    "print(' Penúltima posición: ', lista[-2])"
   ]
  },
  {
   "cell_type": "markdown",
   "metadata": {
    "slideshow": {
     "slide_type": "-"
    }
   },
   "source": [
    "Las listas son sucesiones ordenadas, no son vectores (arrays) ni cumplen con el Álgebra lineal (ver Numpy Array más adelante). Por tanto:\n"
   ]
  },
  {
   "cell_type": "code",
   "execution_count": 27,
   "metadata": {
    "slideshow": {
     "slide_type": "subslide"
    }
   },
   "outputs": [
    {
     "data": {
      "text/plain": [
       "[1,\n",
       " 2,\n",
       " 3,\n",
       " 4,\n",
       " 5,\n",
       " 4,\n",
       " 3,\n",
       " 2,\n",
       " 1,\n",
       " 0,\n",
       " -1,\n",
       " -2,\n",
       " -3,\n",
       " 1,\n",
       " 2,\n",
       " 3,\n",
       " 4,\n",
       " 5,\n",
       " 4,\n",
       " 3,\n",
       " 2,\n",
       " 1,\n",
       " 0,\n",
       " -1,\n",
       " -2,\n",
       " -3]"
      ]
     },
     "execution_count": 27,
     "metadata": {},
     "output_type": "execute_result"
    }
   ],
   "source": [
    "lista*2 #Duplicar"
   ]
  },
  {
   "cell_type": "code",
   "execution_count": 28,
   "metadata": {
    "slideshow": {
     "slide_type": "subslide"
    }
   },
   "outputs": [
    {
     "name": "stdout",
     "output_type": "stream",
     "text": [
      "[1, 2, 3, 4, 5, 4, 3, 2, 1, 0, -1, -2, -3, 10, 100, 1000]\n"
     ]
    }
   ],
   "source": [
    "lista2 = [10, 100, 1000]\n",
    "lista3 = lista + lista2 #Concatenar\n",
    "print(lista3)"
   ]
  },
  {
   "cell_type": "markdown",
   "metadata": {
    "slideshow": {
     "slide_type": "subslide"
    }
   },
   "source": [
    "Se puede extraer una sección de una lista y no sólo un único valor. Para ello se hace uso del operador `:`, de forma que:"
   ]
  },
  {
   "cell_type": "code",
   "execution_count": 29,
   "metadata": {
    "slideshow": {
     "slide_type": "fragment"
    }
   },
   "outputs": [
    {
     "name": "stdout",
     "output_type": "stream",
     "text": [
      "[1, 2, 3]\n",
      "[4, 5]\n",
      "[4, 3, 2, 1, 0, -1, -2, -3, 10, 100]\n",
      "[4, 3, 2, 1, 0, -1, -2, -3, 10, 100, 1000]\n"
     ]
    }
   ],
   "source": [
    "print(lista3[0:3]) # No se incluye el último ordinal!\n",
    "print(lista3[3:5])\n",
    "print(lista3[5:-1]) # Que no se incluye el último ordinal!!!\n",
    "print(lista3[5:]) # Ahora sí :)"
   ]
  },
  {
   "cell_type": "markdown",
   "metadata": {
    "slideshow": {
     "slide_type": "subslide"
    }
   },
   "source": [
    "Las listas además tienen la propiedad de mezclar tipos en su interior:"
   ]
  },
  {
   "cell_type": "code",
   "execution_count": 30,
   "metadata": {
    "scrolled": true,
    "slideshow": {
     "slide_type": "fragment"
    }
   },
   "outputs": [
    {
     "name": "stdout",
     "output_type": "stream",
     "text": [
      "(1+1j)\n",
      "0.3333333333333333\n"
     ]
    }
   ],
   "source": [
    "lista3 = ['Hola', 1/3, True, complejo]\n",
    "print(lista3[-1])\n",
    "print(lista3[+1])"
   ]
  },
  {
   "cell_type": "code",
   "execution_count": 31,
   "metadata": {
    "slideshow": {
     "slide_type": "subslide"
    }
   },
   "outputs": [
    {
     "name": "stdout",
     "output_type": "stream",
     "text": [
      "[[0, 1, 2, 3], 'Hola', [(1+1j)], [True, False, 1]]\n",
      "[0, 1, 2, 3]\n"
     ]
    }
   ],
   "source": [
    "super_lista = [[0, 1, 2, 3], 'Hola', [complejo], [verdadero, falso, 1]]\n",
    "print(super_lista)\n",
    "print(super_lista[0])"
   ]
  },
  {
   "cell_type": "markdown",
   "metadata": {
    "slideshow": {
     "slide_type": "subslide"
    }
   },
   "source": [
    "¡Las listas de listas son viables! Para invocar una lista dentro de otra lista se concatenan los corchetes."
   ]
  },
  {
   "cell_type": "code",
   "execution_count": 32,
   "metadata": {
    "slideshow": {
     "slide_type": "fragment"
    }
   },
   "outputs": [
    {
     "name": "stdout",
     "output_type": "stream",
     "text": [
      "0\n",
      "[1, 2, 3]\n"
     ]
    }
   ],
   "source": [
    "print(super_lista[0][0])\n",
    "print(super_lista[0][1:])"
   ]
  },
  {
   "cell_type": "markdown",
   "metadata": {},
   "source": [
    "De todas formas las listas **NO** son el modo preferente para almacenar vectores, matrices o tensores (*array*). Para ello se dispone de *Numpy*."
   ]
  },
  {
   "cell_type": "markdown",
   "metadata": {
    "slideshow": {
     "slide_type": "subslide"
    }
   },
   "source": [
    "### Tuplas:\n",
    "\n",
    "A efectos prácticos una tupla es una lista inmutable. Esto es, que una vez se ha declarado, no se pueden usar ningún operador para mutar el valor de ninguna posición de la tupla.\n",
    "\n",
    "Crear tuplas de distintos tipos o crear tuplas de tuplas es viable, al igual que con las listas.\n",
    "\n",
    "Para distinguir una lista de una tupla usamos los corchetes (para listas) y los paréntesis `( )` para las tuplas: esto denota que una tupla es una **definición** (ver funciones más adelante)."
   ]
  },
  {
   "cell_type": "code",
   "execution_count": 33,
   "metadata": {},
   "outputs": [],
   "source": [
    "tupla = (1, 2, 3, 'texto')"
   ]
  },
  {
   "cell_type": "code",
   "execution_count": 34,
   "metadata": {},
   "outputs": [
    {
     "name": "stdout",
     "output_type": "stream",
     "text": [
      "1 texto\n"
     ]
    }
   ],
   "source": [
    "print(tupla[0], tupla[-1])"
   ]
  },
  {
   "cell_type": "code",
   "execution_count": 35,
   "metadata": {
    "slideshow": {
     "slide_type": "subslide"
    }
   },
   "outputs": [
    {
     "name": "stdout",
     "output_type": "stream",
     "text": [
      "[1, 2, 3, 4, 5, 4, 3, 2, 1, 0, -1, -2, -3]\n",
      "[500, 6, 3, 4, 5, 4, 3, 2, 1, 0, -1, -2, -3]\n"
     ]
    }
   ],
   "source": [
    "print(lista)\n",
    "lista[0] = 500\n",
    "lista[1] = lista[1] + 4 # Al valor de la lista[1] se le actualiza el valor\n",
    "print(lista)"
   ]
  },
  {
   "cell_type": "code",
   "execution_count": 36,
   "metadata": {},
   "outputs": [
    {
     "name": "stdout",
     "output_type": "stream",
     "text": [
      "(1, 2, 3, 'texto')\n"
     ]
    },
    {
     "ename": "TypeError",
     "evalue": "'tuple' object does not support item assignment",
     "output_type": "error",
     "traceback": [
      "\u001b[1;31m---------------------------------------------------------------------------\u001b[0m",
      "\u001b[1;31mTypeError\u001b[0m                                 Traceback (most recent call last)",
      "\u001b[1;32m<ipython-input-36-29ecc95d1329>\u001b[0m in \u001b[0;36m<module>\u001b[1;34m\u001b[0m\n\u001b[0;32m      1\u001b[0m \u001b[0mprint\u001b[0m\u001b[1;33m(\u001b[0m\u001b[0mtupla\u001b[0m\u001b[1;33m)\u001b[0m\u001b[1;33m\u001b[0m\u001b[1;33m\u001b[0m\u001b[0m\n\u001b[1;32m----> 2\u001b[1;33m \u001b[0mtupla\u001b[0m\u001b[1;33m[\u001b[0m\u001b[1;36m0\u001b[0m\u001b[1;33m]\u001b[0m \u001b[1;33m=\u001b[0m \u001b[1;36m0\u001b[0m\u001b[1;33m\u001b[0m\u001b[1;33m\u001b[0m\u001b[0m\n\u001b[0m",
      "\u001b[1;31mTypeError\u001b[0m: 'tuple' object does not support item assignment"
     ]
    }
   ],
   "source": [
    "print(tupla)\n",
    "tupla[0] = 0"
   ]
  },
  {
   "cell_type": "markdown",
   "metadata": {},
   "source": [
    "Las tuplas son buena forma de proteger suceciones de valores."
   ]
  },
  {
   "cell_type": "markdown",
   "metadata": {
    "slideshow": {
     "slide_type": "subslide"
    }
   },
   "source": [
    "### Diccionario:\n",
    "\n",
    "Los diccionarios son un tipo de datos propio de Python (Java y otros lenguajes de programación tienen tipos similares, si bien es cierto que la la mayoría de los lenguajes científicos no).\n",
    "\n",
    "El objetivo del diccionario es proveer de una sucesiones de valores **NO** ordenados, recuperable ya no por un ordinal (obviamente, al ser no ordenado, el diccionario no tiene ordinales como la lista para vincular valor-posición) si no por una **palabra clave**.\n",
    "\n",
    "De esta forma un diccionario tiene **llaves (`keys`)** para recuperar los valores (`values`).\n",
    "La forma de distinguir un diccionario es mediante el uso de llaves `{ }`.\n",
    "\n",
    "Se pueden declarar de múltiples formas, siendo la más directa:"
   ]
  },
  {
   "cell_type": "code",
   "execution_count": 37,
   "metadata": {},
   "outputs": [],
   "source": [
    "diccionario = {'llave': 0, 'llave2': 'Hola'}"
   ]
  },
  {
   "cell_type": "code",
   "execution_count": 38,
   "metadata": {},
   "outputs": [
    {
     "name": "stdout",
     "output_type": "stream",
     "text": [
      "0\n",
      "Hola\n"
     ]
    }
   ],
   "source": [
    "print(diccionario['llave'])\n",
    "print(diccionario['llave2'])"
   ]
  },
  {
   "cell_type": "markdown",
   "metadata": {
    "slideshow": {
     "slide_type": "subslide"
    }
   },
   "source": [
    "Las llaves de un diccionario siempre son de tipo caracter y nunca numérico (no deben establecer orden). Son, por tanto, elementos potentes de almacenamiento de propiedades e información.\n",
    "\n",
    "De igual forma que las listas y las tuplas, aceptan (como valor) cualquier tipo, incluyendo los diccionarios de diccionarios."
   ]
  },
  {
   "cell_type": "code",
   "execution_count": 39,
   "metadata": {},
   "outputs": [],
   "source": [
    "estructura_datos = {'Nombre': 'Marcos', 'Edad': 34, 'Profesión': 'Ingeniero', 'Profesor': True}"
   ]
  },
  {
   "cell_type": "code",
   "execution_count": 40,
   "metadata": {},
   "outputs": [
    {
     "name": "stdout",
     "output_type": "stream",
     "text": [
      "Marcos\n",
      "Ingeniero\n",
      "True\n"
     ]
    }
   ],
   "source": [
    "print(estructura_datos['Nombre'])\n",
    "print(estructura_datos['Profesión'])\n",
    "print(estructura_datos['Profesor'])"
   ]
  },
  {
   "cell_type": "markdown",
   "metadata": {
    "slideshow": {
     "slide_type": "slide"
    }
   },
   "source": [
    "## 2) Estructuras Básicas de Programación:\n",
    "\n",
    "Todo lenguaje de programación está basado en la **repetición** de tareas (operaciones matemáticas básicas, booleanas...) **predefinidas** (programadas) en un orden concreto.\n",
    "\n",
    "> Un ordenador no *piensa*, sólo repite un grupo de acciones una cantidad de veces dada y compara valores\n",
    "\n",
    "A la hora de llevar a cabo estas **acciones** y estas **comparaciones**, los lenguajes de programación pueden interpretar que una asignación se debe repetir una cantidad de veces dada o mientras se cumpla una condición resultado de una comparación si se declara correctamente la estructura conocida como **bucle**."
   ]
  },
  {
   "cell_type": "markdown",
   "metadata": {
    "slideshow": {
     "slide_type": "fragment"
    }
   },
   "source": [
    "Un bucle es, por tanto, la agrupación de una o varias sentencias de programación que se repiten un número de veces finito o mientras que tenga lugar un evento dado, fruto de comparar dos valores booleanos."
   ]
  },
  {
   "cell_type": "markdown",
   "metadata": {
    "slideshow": {
     "slide_type": "subslide"
    }
   },
   "source": [
    "En Python podemos distinguir entre dos tipos de bucles:\n",
    "- `for`: las sentencias agrupadas se repiten para un número de ocasiones dadas\n",
    "- `while`: las sentencias agrupadas se repiten mientras que se dé lugar un evento\n",
    "\n",
    "Los bucles `for` suponen una enumeración, que puede ser conseguida con cualquier elemento ordenado que forme parte de una sucesión. Es decir, el **contador** de un bucle `for` puede ser un número entero que crece, o que decrece, o pueden ser los elementos de una lista, o las llaves de un diccionario, o los elementos de una tupla."
   ]
  },
  {
   "cell_type": "code",
   "execution_count": 41,
   "metadata": {
    "slideshow": {
     "slide_type": "fragment"
    }
   },
   "outputs": [
    {
     "name": "stdout",
     "output_type": "stream",
     "text": [
      "[1, 2, 3, 4, 5, 6]\n",
      "[1, 2, 3, 4, 5, 6]\n",
      "[1, 2, 3, 4, 5, 6]\n",
      "[1, 2, 3, 4, 5, 6]\n",
      "[1, 2, 3, 4, 5, 6]\n",
      "[1, 2, 3, 4, 5, 6]\n"
     ]
    }
   ],
   "source": [
    "lista = [1, 2, 3, 4, 5, 6]\n",
    "for item in lista:\n",
    "    print(lista)"
   ]
  },
  {
   "cell_type": "markdown",
   "metadata": {
    "slideshow": {
     "slide_type": "subslide"
    }
   },
   "source": [
    "El bucle anterior se define para cada elemento (`item`) de la `lista`. La indicación de que el contador del bucle ha quedado definido se realiza mediante el símbolo`:`de dos puntos, indicando que a partir de ahí se agrupan las sentencias a repetir.\n",
    "\n",
    "En el ejemplo del bucle anterior se repite la escritura de `lista` para cada elemento de la lista. Como hay 6 elementos el contenido de `lista` se escribe 6 veces."
   ]
  },
  {
   "cell_type": "markdown",
   "metadata": {
    "slideshow": {
     "slide_type": "skip"
    }
   },
   "source": [
    "Ahora, si se pretende escribir cada elemento por separado:"
   ]
  },
  {
   "cell_type": "code",
   "execution_count": 42,
   "metadata": {},
   "outputs": [
    {
     "name": "stdout",
     "output_type": "stream",
     "text": [
      "1\n",
      "2\n",
      "3\n",
      "4\n",
      "5\n",
      "6\n"
     ]
    }
   ],
   "source": [
    "for item in lista:\n",
    "    print(item)"
   ]
  },
  {
   "cell_type": "markdown",
   "metadata": {
    "slideshow": {
     "slide_type": "subslide"
    }
   },
   "source": [
    "Se puede hacer uso de una lista y su contenido para ejecutar en bucle una serie de operaciones de manera fácil. Por ejemplo:\n",
    "\n",
    "$$x=\\sum_{i=1}^9{i^2}$$"
   ]
  },
  {
   "cell_type": "code",
   "execution_count": 43,
   "metadata": {},
   "outputs": [
    {
     "name": "stdout",
     "output_type": "stream",
     "text": [
      "1 1\n",
      "2 5\n",
      "3 14\n",
      "4 30\n",
      "5 55\n",
      "6 91\n",
      "7 140\n",
      "8 204\n",
      "9 285\n"
     ]
    }
   ],
   "source": [
    "lista = [1,2,3,4,5,6,7,8,9]\n",
    "x = 0 # Hay que inicializarlo primero! Si no, la primera iteración mostrará un error\n",
    "for i in lista:\n",
    "    x = x + i**2\n",
    "    print(i, x)\n"
   ]
  },
  {
   "cell_type": "markdown",
   "metadata": {
    "slideshow": {
     "slide_type": "subslide"
    }
   },
   "source": [
    "Como las listas pueden incorporar distintos tipos, se debe tener precaución de no incurrir en operaciones no permitidas:"
   ]
  },
  {
   "cell_type": "code",
   "execution_count": 44,
   "metadata": {},
   "outputs": [],
   "source": [
    "lista = [1,2,3,4,'Marcos','Python', True]"
   ]
  },
  {
   "cell_type": "code",
   "execution_count": 45,
   "metadata": {},
   "outputs": [
    {
     "name": "stdout",
     "output_type": "stream",
     "text": [
      "Elemento actual:  1\n",
      "1\n",
      "--------------------------\n",
      "Elemento actual:  2\n",
      "4\n",
      "--------------------------\n",
      "Elemento actual:  3\n",
      "9\n",
      "--------------------------\n",
      "Elemento actual:  4\n",
      "16\n",
      "--------------------------\n",
      "Elemento actual:  Marcos\n"
     ]
    },
    {
     "ename": "TypeError",
     "evalue": "unsupported operand type(s) for ** or pow(): 'str' and 'int'",
     "output_type": "error",
     "traceback": [
      "\u001b[1;31m---------------------------------------------------------------------------\u001b[0m",
      "\u001b[1;31mTypeError\u001b[0m                                 Traceback (most recent call last)",
      "\u001b[1;32m<ipython-input-45-8276c1148fbf>\u001b[0m in \u001b[0;36m<module>\u001b[1;34m\u001b[0m\n\u001b[0;32m      1\u001b[0m \u001b[1;32mfor\u001b[0m \u001b[0mitem\u001b[0m \u001b[1;32min\u001b[0m \u001b[0mlista\u001b[0m\u001b[1;33m:\u001b[0m\u001b[1;33m\u001b[0m\u001b[1;33m\u001b[0m\u001b[0m\n\u001b[0;32m      2\u001b[0m     \u001b[0mprint\u001b[0m\u001b[1;33m(\u001b[0m\u001b[1;34m'Elemento actual: '\u001b[0m\u001b[1;33m,\u001b[0m \u001b[0mitem\u001b[0m\u001b[1;33m)\u001b[0m\u001b[1;33m\u001b[0m\u001b[1;33m\u001b[0m\u001b[0m\n\u001b[1;32m----> 3\u001b[1;33m     \u001b[0mprint\u001b[0m\u001b[1;33m(\u001b[0m\u001b[0mitem\u001b[0m\u001b[1;33m**\u001b[0m\u001b[1;36m2\u001b[0m\u001b[1;33m)\u001b[0m\u001b[1;33m\u001b[0m\u001b[1;33m\u001b[0m\u001b[0m\n\u001b[0m\u001b[0;32m      4\u001b[0m     \u001b[0mprint\u001b[0m\u001b[1;33m(\u001b[0m\u001b[1;34m'--------------------------'\u001b[0m\u001b[1;33m)\u001b[0m\u001b[1;33m\u001b[0m\u001b[1;33m\u001b[0m\u001b[0m\n",
      "\u001b[1;31mTypeError\u001b[0m: unsupported operand type(s) for ** or pow(): 'str' and 'int'"
     ]
    }
   ],
   "source": [
    "for item in lista:\n",
    "    print('Elemento actual: ', item)\n",
    "    print(item**2)\n",
    "    print('--------------------------')"
   ]
  },
  {
   "cell_type": "markdown",
   "metadata": {
    "slideshow": {
     "slide_type": "subslide"
    }
   },
   "source": [
    "Un bucle tipo `while` tiene una filosofía distinta: en lugar de establecer un contador y de repetir las operaciones encapsuladas una cantidad de veces predefinida, los bucles `while`se ejecutan *mientras* se cumple una condición evaluable.\n",
    "\n",
    "Así, si la condición es verdadero `true`entonces el bucle sigue, pero si el estado de la condición a evaluar pasa a `false` éste para:"
   ]
  },
  {
   "cell_type": "code",
   "execution_count": 46,
   "metadata": {
    "slideshow": {
     "slide_type": "fragment"
    }
   },
   "outputs": [
    {
     "name": "stdout",
     "output_type": "stream",
     "text": [
      "1 True\n",
      "2 True\n",
      "3 True\n",
      "4 True\n",
      "5 True\n",
      "6 True\n",
      "7 True\n",
      "8 True\n",
      "9 True\n",
      "10 True\n",
      "11 True\n"
     ]
    }
   ],
   "source": [
    "condicion = True\n",
    "n_iteraciones = 0\n",
    "x = 0\n",
    "while condicion and n_iteraciones<11:\n",
    "    n_iteraciones = n_iteraciones + 1\n",
    "    x += n_iteraciones**2/2 # Esto es una adición. Es equivalente a x=x+n_iteraciones**2/2\n",
    "    \n",
    "    condicion = n_iteraciones>0 # Esto evalua que n_iteraciones sea positivo\n",
    "    print(n_iteraciones, condicion)\n",
    "    "
   ]
  },
  {
   "cell_type": "markdown",
   "metadata": {
    "slideshow": {
     "slide_type": "subslide"
    }
   },
   "source": [
    "Se puede observar que un bucle `while` mantiene la estructura del bucle for: se define la acción con la palabra clave `for/while`, se marca el final de la condición o contador con `:` y se agrupan las acciones **indentando**.\n",
    "\n",
    "Como veremos a lo largo del día, la indentación determina la subordinación de las acciones. En ambos bucles, las lineas indentadas están supetidadas al bucle. Por ejemplo:"
   ]
  },
  {
   "cell_type": "code",
   "execution_count": 47,
   "metadata": {
    "slideshow": {
     "slide_type": "subslide"
    }
   },
   "outputs": [
    {
     "name": "stdout",
     "output_type": "stream",
     "text": [
      "Dentro del bucle:\n",
      "Nombre :  Marcos\n",
      "-----------------------\n",
      "Edad :  34\n",
      "-----------------------\n",
      "Profesión :  Ingeniero\n",
      "-----------------------\n",
      "Profesor :  True\n",
      "-----------------------\n",
      "\n",
      "Fuera del bucle:\n",
      "Nombre :  Marcos\n",
      "Edad :  34\n",
      "Profesión :  Ingeniero\n",
      "Profesor :  True\n",
      "-----------------------\n"
     ]
    }
   ],
   "source": [
    "print('Dentro del bucle:')\n",
    "for llaves in estructura_datos:\n",
    "    print(llaves,': ',estructura_datos[llaves])\n",
    "    print('-----------------------')\n",
    "    \n",
    "\n",
    "print('')\n",
    "print('Fuera del bucle:')\n",
    "for llaves in estructura_datos:\n",
    "    print(llaves,': ',estructura_datos[llaves])\n",
    "print('-----------------------')"
   ]
  },
  {
   "cell_type": "markdown",
   "metadata": {
    "slideshow": {
     "slide_type": "subslide"
    }
   },
   "source": [
    "Las acciones de un bucle se pueden enumerar siempre creando un contador:"
   ]
  },
  {
   "cell_type": "code",
   "execution_count": 48,
   "metadata": {},
   "outputs": [
    {
     "name": "stdout",
     "output_type": "stream",
     "text": [
      "Bucle while 0\n",
      "Bucle while 1\n",
      "Bucle while 2\n",
      "Bucle while 3\n",
      "Bucle while 4\n",
      "Bucle while 5\n",
      "Bucle while 6\n",
      "Bucle while 7\n",
      "Bucle while 8\n",
      "Bucle while 9\n",
      "Bucle while 10\n",
      "Bucle for 0 1\n",
      "Bucle for 1 2\n",
      "Bucle for 2 3\n",
      "Bucle for 3 4\n",
      "Bucle for 4 Marcos\n",
      "Bucle for 5 Python\n",
      "Bucle for 6 True\n"
     ]
    }
   ],
   "source": [
    "ii = 0\n",
    "while ii<11:\n",
    "    print('Bucle while', ii)\n",
    "    ii+=1\n",
    "\n",
    "for ii, item in enumerate(lista):\n",
    "    print('Bucle for', ii, item)"
   ]
  },
  {
   "cell_type": "markdown",
   "metadata": {
    "slideshow": {
     "slide_type": "subslide"
    }
   },
   "source": [
    "### Condicionales:\n",
    "\n",
    "Con la introducción de los bucles `while` y `for`, y teniendo en mente el tipo de datos booleano o lógico, queda clara la utilidad de un recurso de programación que dote de capacidad de decisión al algoritmo en función del resultado de una operación booleana:\n",
    "- Mayor que `>`\n",
    "- Menor que `<`\n",
    "- Mayor o igual que `>=`\n",
    "- Menor o igual que `<=`\n",
    "- Estrictamente igual `==`\n",
    "- Distinto `!=``\n"
   ]
  },
  {
   "cell_type": "markdown",
   "metadata": {
    "slideshow": {
     "slide_type": "subslide"
    }
   },
   "source": [
    "Por lo tanto, se pretende que el intérprete reconozca que **si** (`if`) se cumple una condición (es `True`) entonces haga una acción dada, subordinada al cumplimiento. **Si no, si** (`elif`) se cumple otra condición distinta (es `True` la otra condición) entonces se ejecuta otro bloque de sentencias. Finalmente, **si no** (`else`) se cumple ninguna condición anterior, se ejecuta el bloque de código alternativo.\n",
    "\n",
    "Por ejemplo: si **x** es menor que 10, calcular el cuadrado de **x**, si no, si está entre 10 y 20 calcular la mitad de **x** y si no, no sabemos que hacer:"
   ]
  },
  {
   "cell_type": "code",
   "execution_count": 49,
   "metadata": {
    "slideshow": {
     "slide_type": "fragment"
    }
   },
   "outputs": [],
   "source": [
    "x = 0\n",
    "if x<10:\n",
    "    x = x**2\n",
    "elif 10<=x<=20:\n",
    "    x = x / 2\n",
    "else:\n",
    "    x = '???'"
   ]
  },
  {
   "cell_type": "code",
   "execution_count": 50,
   "metadata": {
    "slideshow": {
     "slide_type": "subslide"
    }
   },
   "outputs": [
    {
     "name": "stdout",
     "output_type": "stream",
     "text": [
      "5.0\n"
     ]
    }
   ],
   "source": [
    "# Si x = 10\n",
    "x=10\n",
    "if x<10:\n",
    "    x = x**2\n",
    "elif 10<=x<=20:\n",
    "    x = x / 2\n",
    "else:\n",
    "    x = '???'\n",
    "\n",
    "print(x)"
   ]
  },
  {
   "cell_type": "code",
   "execution_count": 51,
   "metadata": {
    "slideshow": {
     "slide_type": "subslide"
    }
   },
   "outputs": [
    {
     "name": "stdout",
     "output_type": "stream",
     "text": [
      "49\n"
     ]
    }
   ],
   "source": [
    "# Si x = 7\n",
    "x=7\n",
    "if x<10:\n",
    "    x = x**2\n",
    "elif 10<=x<=20:\n",
    "    x = x / 2\n",
    "else:\n",
    "    x = '???'\n",
    "\n",
    "print(x)"
   ]
  },
  {
   "cell_type": "code",
   "execution_count": 52,
   "metadata": {
    "slideshow": {
     "slide_type": "subslide"
    }
   },
   "outputs": [
    {
     "name": "stdout",
     "output_type": "stream",
     "text": [
      "???\n"
     ]
    }
   ],
   "source": [
    "# Si x = 100\n",
    "x=100\n",
    "if x<10:\n",
    "    x = x**2\n",
    "elif 10<=x<=20:\n",
    "    x = x / 2\n",
    "else:\n",
    "    x = '???'\n",
    "\n",
    "print(x)"
   ]
  },
  {
   "cell_type": "markdown",
   "metadata": {
    "slideshow": {
     "slide_type": "subslide"
    }
   },
   "source": [
    "### Funciones:\n",
    "\n",
    "Los tipos de datos, las estructuras de almacenamiento de dato y las estructuras de repetición y evaluación de condiciones confieren al código de utilidad de cálculo.\n",
    "\n",
    "Sin embargo, desde un punto de vista práctico, si uno quiere calcular una media y una desviación típica haciendo sumatorios (bucles) y condicionales a una población de datos de 10 muestras, no queda más remedio que copiar y pegar la sección de código correspondiente 10 veces, variando convenientemente en cada repetición la muestra a calcular.\n",
    "\n",
    "Si la población de datos crece, pongamos que 100 datos distintos, copiar y pegar el bucle de medais y desviaciones típicas se antoja ya tedioso e inútil.\n",
    "\n",
    "Es obvio que la programación nos asiste en tareas repetitivas de cálculo, pero si el coste es copiar y pegar tantas veces como elementos a calcular, la utilidad del algoritmo codificado sería escasa."
   ]
  },
  {
   "cell_type": "markdown",
   "metadata": {
    "slideshow": {
     "slide_type": "subslide"
    }
   },
   "source": [
    "Es para esto para lo que las funciones son útiles: una función nos ofrece una forma de encapsular código, de tal manera que sólo tendremos que \"llamar\" a nuestra función al más puro estilo del cálculo:\n",
    "\n",
    "$$y_1, y_2 = f(x_1, x_2, x_3, ...)$$"
   ]
  },
  {
   "cell_type": "markdown",
   "metadata": {
    "slideshow": {
     "slide_type": "fragment"
    }
   },
   "source": [
    "Donde $f$ es una función que encapsula lineas de código, $x_1, x_2, ...$ son distintas **variables de entrada** (la población de muestras en el ejemplo de las medias y desviaciones típicas) y los valores $y_1, y_2, ...$ son las **variables de salida** calculadas por el código encapsulado.\n",
    "\n",
    "En Python, se indica que un código se encapsula en una función mencionando su definición `def` e indentando el código subordinado. Es buena práctica que el final del ámbito de la función tenga la acción `return`, incluso cuando la función no devuelve ningún valor.\n",
    "\n",
    "Por ejemplo:"
   ]
  },
  {
   "cell_type": "code",
   "execution_count": 53,
   "metadata": {
    "slideshow": {
     "slide_type": "fragment"
    }
   },
   "outputs": [],
   "source": [
    "def nombre_de_la_funcion(entradas_funcion):\n",
    "    # Ámbito de la función\n",
    "    #\n",
    "    #\n",
    "    #\n",
    "    return None"
   ]
  },
  {
   "cell_type": "markdown",
   "metadata": {
    "slideshow": {
     "slide_type": "subslide"
    }
   },
   "source": [
    "Nótese en la función `funcion1` que hay dos entradas $x_1, x_2$, las cuales se operan produciendo los valores de salida $y_1, y_2$. Las salidas se indican con la palabra clave `return`, que marca el final de la función y la devolución de resultados.\n",
    "\n",
    "Así, la función anterior se ejecutaría según:"
   ]
  },
  {
   "cell_type": "code",
   "execution_count": 54,
   "metadata": {
    "slideshow": {
     "slide_type": "-"
    }
   },
   "outputs": [],
   "source": [
    "def funcion1(x1, x2):\n",
    "    y1 = (x1 + x2)/2\n",
    "    y2 = x1*x2\n",
    "    y2 = y2/2\n",
    "    return y1, y2"
   ]
  },
  {
   "cell_type": "code",
   "execution_count": 55,
   "metadata": {
    "slideshow": {
     "slide_type": "fragment"
    }
   },
   "outputs": [
    {
     "name": "stdout",
     "output_type": "stream",
     "text": [
      "2.0 0.0\n"
     ]
    }
   ],
   "source": [
    "y1, y2 = funcion1(0,4)\n",
    "print(y1, y2)"
   ]
  },
  {
   "cell_type": "markdown",
   "metadata": {
    "slideshow": {
     "slide_type": "subslide"
    }
   },
   "source": [
    "El resultado de una función puede ser recogido con un único objeto y luego puede ser desempaquetado:"
   ]
  },
  {
   "cell_type": "code",
   "execution_count": 56,
   "metadata": {},
   "outputs": [
    {
     "name": "stdout",
     "output_type": "stream",
     "text": [
      "(3.5, 5.0)\n",
      "3.5 3.5\n"
     ]
    }
   ],
   "source": [
    "variables = funcion1(5,2)\n",
    "print(variables)\n",
    "var1 = variables[0]\n",
    "var2 = variables[0]\n",
    "print(var1, var2)"
   ]
  },
  {
   "cell_type": "markdown",
   "metadata": {
    "slideshow": {
     "slide_type": "subslide"
    }
   },
   "source": [
    "De manera natural hemos hecho uso ya de funciones (`print()` o `enumerate` por ejemplo). Hay multiples funciones predefinidas en Python (funciones intrínsecas) que permiten operar con celeridad el código.\n",
    "\n",
    "Las funciones intrínsecas de Python así como las de las principales librerías se verán más adelante durante el curso.\n",
    "\n",
    "Asimismo, se profundizará en el concepto y uso de bucles, condicionales y funciones.\n",
    "\n",
    "Por último, es útil mencionar que la función `def` no es el único mecanismo de encapsulamiento. Existe una forma de agrupar funciones dentro de funciones y dentro de **clases**, las cuales establecen jerarquía dentro del código."
   ]
  },
  {
   "cell_type": "markdown",
   "metadata": {
    "slideshow": {
     "slide_type": "subslide"
    }
   },
   "source": [
    "### Unpacking: Starred expression\n",
    "\n",
    "Si se quiere llamar la función `funcion1` con los valores de la ejecución anterior almacenados en `variables` es posible recurrir a la asignación:"
   ]
  },
  {
   "cell_type": "code",
   "execution_count": 57,
   "metadata": {
    "slideshow": {
     "slide_type": "-"
    }
   },
   "outputs": [
    {
     "name": "stdout",
     "output_type": "stream",
     "text": [
      "3.5 5.0 (3.5, 5.0)\n"
     ]
    }
   ],
   "source": [
    "x1, x2 = variables\n",
    "variables2 = funcion1(x1, x2)\n",
    "\n",
    "print(x1, x2, variables)"
   ]
  },
  {
   "cell_type": "markdown",
   "metadata": {
    "slideshow": {
     "slide_type": "subslide"
    }
   },
   "source": [
    "La forma de adquirir los datos `x1` y `x2` es intuitiva: los valores `variable` se distribuyen automáticamente desempaquetándose en cada variable receptora. Si se intentara introducir la lista como entrada de la función se produciría un error de tipo, indicando que falta un elemento *posicional* (efectivamente la `funcion1` espera dos elementos de entrada):"
   ]
  },
  {
   "cell_type": "code",
   "execution_count": 58,
   "metadata": {},
   "outputs": [
    {
     "ename": "TypeError",
     "evalue": "funcion1() missing 1 required positional argument: 'x2'",
     "output_type": "error",
     "traceback": [
      "\u001b[1;31m---------------------------------------------------------------------------\u001b[0m",
      "\u001b[1;31mTypeError\u001b[0m                                 Traceback (most recent call last)",
      "\u001b[1;32m<ipython-input-58-31410d0a79bc>\u001b[0m in \u001b[0;36m<module>\u001b[1;34m\u001b[0m\n\u001b[1;32m----> 1\u001b[1;33m \u001b[0mfuncion1\u001b[0m\u001b[1;33m(\u001b[0m\u001b[0mvariables\u001b[0m\u001b[1;33m)\u001b[0m\u001b[1;33m\u001b[0m\u001b[1;33m\u001b[0m\u001b[0m\n\u001b[0m",
      "\u001b[1;31mTypeError\u001b[0m: funcion1() missing 1 required positional argument: 'x2'"
     ]
    }
   ],
   "source": [
    "funcion1(variables)"
   ]
  },
  {
   "cell_type": "markdown",
   "metadata": {
    "slideshow": {
     "slide_type": "subslide"
    }
   },
   "source": [
    "Una `lista`, `tupla` o **elemento iterable** en general, puede ser desempaquetada de manera automática mediante el operador `*`. En este caso, el *asterisco* no denota un producto sino la acción de distribuir los elementos del iterable."
   ]
  },
  {
   "cell_type": "code",
   "execution_count": 59,
   "metadata": {},
   "outputs": [
    {
     "name": "stdout",
     "output_type": "stream",
     "text": [
      "3.5 5.0 (4.25, 8.75)\n"
     ]
    }
   ],
   "source": [
    "variables2 = funcion1(*variables)\n",
    "print(*variables, variables2)"
   ]
  },
  {
   "cell_type": "markdown",
   "metadata": {
    "slideshow": {
     "slide_type": "subslide"
    }
   },
   "source": [
    "Las expresiones con asterisco (*starred expression*) permiten recurrir a un comodín a la hora de desempaquetar. Cuando la variable a desempaquetar se puede destribuir en varios elementos, el símbolo `*` permite marcar donde se vuelca el excedente:"
   ]
  },
  {
   "cell_type": "code",
   "execution_count": 60,
   "metadata": {},
   "outputs": [
    {
     "name": "stdout",
     "output_type": "stream",
     "text": [
      "a= 1\n",
      "b= 2\n",
      "c= [3, 4]\n"
     ]
    }
   ],
   "source": [
    "x = [1, 2, 3, 4]\n",
    "a, b, *c = x\n",
    "print('a=',a) \n",
    "print('b=', b)\n",
    "print('c=', c)"
   ]
  },
  {
   "cell_type": "markdown",
   "metadata": {
    "slideshow": {
     "slide_type": "subslide"
    }
   },
   "source": [
    "El uso de desempaquetado en una función como `funcion1(*x)` o como en `print(*x)` tiene sentido pues Python asume que las variables internas receptoras de la función deben recibir los contenidos de `*x`.\n",
    "\n",
    "Sin embargo la siguiente sintaxis produce un error:"
   ]
  },
  {
   "cell_type": "code",
   "execution_count": 61,
   "metadata": {},
   "outputs": [
    {
     "ename": "SyntaxError",
     "evalue": "can't use starred expression here (cell_name, line 4)",
     "output_type": "error",
     "traceback": [
      "\u001b[1;36m  File \u001b[1;32m\"cell_name\"\u001b[1;36m, line \u001b[1;32m4\u001b[0m\n\u001b[1;31mSyntaxError\u001b[0m\u001b[1;31m:\u001b[0m can't use starred expression here\n"
     ]
    }
   ],
   "source": [
    "x1, x2, x3, x4 = *x"
   ]
  },
  {
   "cell_type": "markdown",
   "metadata": {},
   "source": [
    "Esta forma de desempaquetar no tiene sentido pues **requiere conocer de antemano la forma de la lista `variables`**. si se conociera de antemano se podría adquirir de forma directa:"
   ]
  },
  {
   "cell_type": "code",
   "execution_count": 62,
   "metadata": {},
   "outputs": [],
   "source": [
    "x1, x2, x3, x4 = x"
   ]
  },
  {
   "cell_type": "markdown",
   "metadata": {
    "slideshow": {
     "slide_type": "subslide"
    }
   },
   "source": [
    "La opción `*` para desempaquetar tiene su utilidad práctica en **seleccionar** el contenido útil en el desempaquetado:"
   ]
  },
  {
   "cell_type": "code",
   "execution_count": 63,
   "metadata": {},
   "outputs": [
    {
     "name": "stdout",
     "output_type": "stream",
     "text": [
      "1 [2, 3] 4\n"
     ]
    }
   ],
   "source": [
    "x1, *x2, x4 = x\n",
    "print(x1, x2, x4)"
   ]
  },
  {
   "cell_type": "markdown",
   "metadata": {
    "slideshow": {
     "slide_type": "subslide"
    }
   },
   "source": [
    "#### Ámbito de memoria de una función\n",
    "\n",
    "Cuando se genera una función se crea también un espacio de memoria exclusibo de la función. En ese espacio exclusivo las variables creadas son independientes de las variables que estén fuera de la función y su existencia se limita al interior de la función.\n",
    "\n",
    "Por ejemplo, `var1` es una variable externa a la función siguiente. Esto quiere decir que en el interior de la función se puede hacer uso de `var1`. Si se modificara el valor, la alteración tan sólo tendrá efecto mientras se esté dentro de la función:"
   ]
  },
  {
   "cell_type": "code",
   "execution_count": 76,
   "metadata": {},
   "outputs": [
    {
     "name": "stdout",
     "output_type": "stream",
     "text": [
      "La variable de entrada vale:  0\n",
      "La variable interna vale:  5\n",
      "La variable externa vale:  0\n"
     ]
    }
   ],
   "source": [
    "var1 = 0\n",
    "\n",
    "def ejemplo_memoria(entrada):\n",
    "    var1 = 5\n",
    "    print('La variable de entrada vale: ', entrada)\n",
    "    print('La variable interna vale: ', var1)\n",
    "    \n",
    "    return None\n",
    "\n",
    "ejemplo_memoria(var1)\n",
    "print('La variable externa vale: ', var1)"
   ]
  },
  {
   "cell_type": "markdown",
   "metadata": {
    "slideshow": {
     "slide_type": "subslide"
    }
   },
   "source": [
    "Esto no implica que una variable externa no exista dentro de una función hasta que no se defina. De hecho, si la variable dentro de la función no existe, Python busca que exista en un nivel superior (la clase o fichero que contiene la función):"
   ]
  },
  {
   "cell_type": "code",
   "execution_count": 82,
   "metadata": {},
   "outputs": [],
   "source": [
    "bb = 5\n",
    "\n",
    "def ff(x):\n",
    "    return x*bb"
   ]
  },
  {
   "cell_type": "code",
   "execution_count": 86,
   "metadata": {},
   "outputs": [
    {
     "name": "stdout",
     "output_type": "stream",
     "text": [
      "entrada= 100\n",
      "bb= 5\n",
      "salida= 500\n"
     ]
    }
   ],
   "source": [
    "entrada = 100\n",
    "salida = ff(entrada)\n",
    "print('entrada=', entrada)\n",
    "print('bb=', bb)\n",
    "print('salida=', salida)"
   ]
  },
  {
   "cell_type": "markdown",
   "metadata": {
    "slideshow": {
     "slide_type": "subslide"
    }
   },
   "source": [
    "Por último, si una variable se crea dentro de una función, su existencia se limita a a propia función (como variable intermedia):"
   ]
  },
  {
   "cell_type": "code",
   "execution_count": 90,
   "metadata": {},
   "outputs": [],
   "source": [
    "bb = 5\n",
    "\n",
    "def ff(x):\n",
    "    cc = x*bb\n",
    "    print('---> Valor de la variable intermecia cc=', cc)\n",
    "    return cc"
   ]
  },
  {
   "cell_type": "code",
   "execution_count": 91,
   "metadata": {},
   "outputs": [
    {
     "name": "stdout",
     "output_type": "stream",
     "text": [
      "---> Valor de la variable intermecia cc= 500\n",
      "entrada= 100\n",
      "bb= 5\n",
      "salida= 500\n"
     ]
    },
    {
     "ename": "NameError",
     "evalue": "name 'cc' is not defined",
     "output_type": "error",
     "traceback": [
      "\u001b[1;31m---------------------------------------------------------------------------\u001b[0m",
      "\u001b[1;31mNameError\u001b[0m                                 Traceback (most recent call last)",
      "\u001b[1;32m<ipython-input-91-be1c018667f9>\u001b[0m in \u001b[0;36m<module>\u001b[1;34m\u001b[0m\n\u001b[0;32m      5\u001b[0m \u001b[0mprint\u001b[0m\u001b[1;33m(\u001b[0m\u001b[1;34m'salida='\u001b[0m\u001b[1;33m,\u001b[0m \u001b[0msalida\u001b[0m\u001b[1;33m)\u001b[0m\u001b[1;33m\u001b[0m\u001b[1;33m\u001b[0m\u001b[0m\n\u001b[0;32m      6\u001b[0m \u001b[1;33m\u001b[0m\u001b[0m\n\u001b[1;32m----> 7\u001b[1;33m \u001b[0mprint\u001b[0m\u001b[1;33m(\u001b[0m\u001b[1;34m'cc='\u001b[0m\u001b[1;33m,\u001b[0m \u001b[0mcc\u001b[0m\u001b[1;33m)\u001b[0m\u001b[1;33m\u001b[0m\u001b[1;33m\u001b[0m\u001b[0m\n\u001b[0m",
      "\u001b[1;31mNameError\u001b[0m: name 'cc' is not defined"
     ]
    }
   ],
   "source": [
    "entrada = 100\n",
    "salida = ff(entrada)\n",
    "print('entrada=', entrada)\n",
    "print('bb=', bb)\n",
    "print('salida=', salida)\n",
    "\n",
    "print('cc=', cc)"
   ]
  }
 ],
 "metadata": {
  "celltoolbar": "Slideshow",
  "kernelspec": {
   "display_name": "Python 3 (ipykernel)",
   "language": "python",
   "name": "python3"
  },
  "language_info": {
   "codemirror_mode": {
    "name": "ipython",
    "version": 3
   },
   "file_extension": ".py",
   "mimetype": "text/x-python",
   "name": "python",
   "nbconvert_exporter": "python",
   "pygments_lexer": "ipython3",
   "version": "3.9.13"
  }
 },
 "nbformat": 4,
 "nbformat_minor": 4
}
