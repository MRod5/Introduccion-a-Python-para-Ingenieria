{
 "cells": [
  {
   "cell_type": "markdown",
   "metadata": {
    "slideshow": {
     "slide_type": "slide"
    }
   },
   "source": [
    "# Sesión 2: Nociones Básicas de Programación (2º Parte)\n",
    "\n",
    "$$ $$\n",
    "$$ $$\n",
    "$$ $$\n",
    "$$ $$\n",
    "$$ $$\n",
    "$$ $$\n",
    "  \n",
    "  \n",
    "#### Introducción a Python para Ingeniería\n",
    "#### M. Rodríguez, 2020 - 2022"
   ]
  },
  {
   "cell_type": "markdown",
   "metadata": {
    "slideshow": {
     "slide_type": "slide"
    }
   },
   "source": [
    "## Contenido del Notebook:\n",
    "\n",
    "1. Uso de librerías:\n",
    "    1. Sintaxis de una importación\n",
    "    2. Importación de Numpy\n",
    "    3. Tipo de datos avanzados: Arrays (nparray)\n",
    "    4. Importación de Matplotlib\n",
    "    5. Importación de Scipy\n",
    "\n",
    "2. Caso práctico: Cálculo de la temperatura adiabática de llama de una combustión de gasolina\n",
    "   "
   ]
  },
  {
   "cell_type": "markdown",
   "metadata": {
    "slideshow": {
     "slide_type": "slide"
    }
   },
   "source": [
    "## 1) Uso de Librerías:\n",
    "\n",
    "\n",
    "Python es un lenguaje de programación que permite importar las características que se vayan a utilizar sobre la marcha. Esto permite tener cargado en cada momento sólo las herramientas necesarias para la tarea que se va a llevar a cabo.\n",
    "\n",
    "Las forma en que empaquetamos estas características y funcionalidades en Python se llama librerías o paquete. Estos paquetes se deben **importar** cada vez que se quieran usar.\n",
    "\n",
    "Dependiendo del paquete en cuestión, a veces será útil importar una parte (un subconjunto) en lugar de toda la librería."
   ]
  },
  {
   "cell_type": "markdown",
   "metadata": {
    "slideshow": {
     "slide_type": "subslide"
    }
   },
   "source": [
    "Las librerías de Python son muy variaadas y extensas. Dependiendo de la temática, como ingenieros dedicados a Data Science querremos importar una temática concreta (la relacionada con el cálculo numérico, la representación gráfica y la minería de datos, fundamentalmente).\n",
    "\n",
    "Pero merece la pena no perder de vista que se pueden importar librerías de lo más varipinto, incluyendo:\n",
    "- Desarrollo web, chats y correo electrónico\n",
    "- Redes, protocolos y autenticación\n",
    "- Creación de videojuegos\n",
    "- Audio y tratamiento de sonido\n",
    "- Procesamiento de imagen\n",
    "- Cluster computing\n",
    "- ...\n",
    "https://github.com/vinta/awesome-python\n"
   ]
  },
  {
   "cell_type": "markdown",
   "metadata": {
    "slideshow": {
     "slide_type": "subslide"
    }
   },
   "source": [
    "Python, como lenguaje de programación, incuye también un *core* de librerías que se pueden importar:\n",
    "\n",
    "https://docs.python.org/3/py-modindex.html\n",
    "\n"
   ]
  },
  {
   "cell_type": "markdown",
   "metadata": {
    "slideshow": {
     "slide_type": "fragment"
    }
   },
   "source": [
    "El resto de los paquetes deben descargarse e instalarse de cada fuente. ¡Es por esto que hacemos uso de **Anaconda**! Anaconda, como ya hemos visto, ofrece las librerías más frecuentes para el uso científico."
   ]
  },
  {
   "cell_type": "markdown",
   "metadata": {
    "slideshow": {
     "slide_type": "slide"
    }
   },
   "source": [
    "### Sintaxis de una importación e Importación de Numpy:\n",
    "\n",
    "Las importaciones de librerías deben hacer siempre al inicio de cualquier código. Dependiendo del tamaño de la librerías la importación puede tomarse un tiempo moderado, además de precargar múltiples funciones, por lo que si se tienen claras las funciones que se van a desarrollar es útil importar solamente la sección requerida y no la librería completa.\n",
    "\n",
    "Así, por ejemplo, si se quiere importar la librería **numpy** (http://www.numpy.org/, incluida en Anaconda):"
   ]
  },
  {
   "cell_type": "code",
   "execution_count": 1,
   "metadata": {
    "slideshow": {
     "slide_type": "fragment"
    }
   },
   "outputs": [],
   "source": [
    "import numpy"
   ]
  },
  {
   "cell_type": "code",
   "execution_count": 2,
   "metadata": {},
   "outputs": [
    {
     "data": {
      "text/plain": [
       "<module 'numpy' from 'C:\\\\ProgramData\\\\Anaconda3\\\\lib\\\\site-packages\\\\numpy\\\\__init__.py'>"
      ]
     },
     "execution_count": 2,
     "metadata": {},
     "output_type": "execute_result"
    }
   ],
   "source": [
    "numpy"
   ]
  },
  {
   "cell_type": "markdown",
   "metadata": {
    "slideshow": {
     "slide_type": "subslide"
    }
   },
   "source": [
    "Prueba a escribir: \n",
    "> numpy?\n",
    "\n",
    "y\n",
    "\n",
    "\n",
    "> numpy. [TAB]"
   ]
  },
  {
   "cell_type": "markdown",
   "metadata": {
    "slideshow": {
     "slide_type": "subslide"
    }
   },
   "source": [
    "Numpy, por convenio, se importa con un nombre abreviado: `np`. Este convenio permite que el código sea intercambiable y se entienda más fácilmente.\n",
    "\n",
    "Además nos permite que cualquier snippet de código o pregunta que busquéis en la red siempre venga siempre con un ejemplo que podáis interpretar fácilmente y que podáis probar directamente.\n",
    "\n",
    "De esta forma, para importar `numpy` y renombrarlo a `np`:"
   ]
  },
  {
   "cell_type": "code",
   "execution_count": 3,
   "metadata": {
    "slideshow": {
     "slide_type": "fragment"
    }
   },
   "outputs": [],
   "source": [
    "import numpy as np"
   ]
  },
  {
   "cell_type": "code",
   "execution_count": 4,
   "metadata": {
    "slideshow": {
     "slide_type": "-"
    }
   },
   "outputs": [
    {
     "data": {
      "text/plain": [
       "<ufunc 'cos'>"
      ]
     },
     "execution_count": 4,
     "metadata": {},
     "output_type": "execute_result"
    }
   ],
   "source": [
    "np.cos"
   ]
  },
  {
   "cell_type": "code",
   "execution_count": 5,
   "metadata": {
    "slideshow": {
     "slide_type": "-"
    }
   },
   "outputs": [
    {
     "data": {
      "text/plain": [
       "<ufunc 'sin'>"
      ]
     },
     "execution_count": 5,
     "metadata": {},
     "output_type": "execute_result"
    }
   ],
   "source": [
    "np.sin"
   ]
  },
  {
   "cell_type": "code",
   "execution_count": 6,
   "metadata": {
    "slideshow": {
     "slide_type": "-"
    }
   },
   "outputs": [
    {
     "data": {
      "text/plain": [
       "3.141592653589793"
      ]
     },
     "execution_count": 6,
     "metadata": {},
     "output_type": "execute_result"
    }
   ],
   "source": [
    "np.pi"
   ]
  },
  {
   "cell_type": "code",
   "execution_count": 7,
   "metadata": {
    "slideshow": {
     "slide_type": "-"
    }
   },
   "outputs": [
    {
     "data": {
      "text/plain": [
       "2.718281828459045"
      ]
     },
     "execution_count": 7,
     "metadata": {},
     "output_type": "execute_result"
    }
   ],
   "source": [
    "np.exp(1)"
   ]
  },
  {
   "cell_type": "markdown",
   "metadata": {
    "slideshow": {
     "slide_type": "subslide"
    }
   },
   "source": [
    "Una lista de las funciones de `numpy` puede consultarse en la web de los desarrolladores: https://docs.scipy.org/doc/numpy-1.13.0/reference/routines.math.html"
   ]
  },
  {
   "cell_type": "markdown",
   "metadata": {
    "slideshow": {
     "slide_type": "slide"
    }
   },
   "source": [
    "### Numpy Arrays\n",
    "\n",
    "A parte de funciones trigonométricas, máximos y mínimos, funciones hiperbólicas, redondeo, o logaritmos y exponenciales, `numpy` ofrece *arrays* (tuplas algebraicas). Los `np.array` ofrecen un mejor manjea de memoria y mayor versatilidad que las listas de Python, por lo que serán nuestra forma habitual para manejar vectores, matrices y tensores en general.\n",
    "\n",
    "`numpy` es la librería que dota a Python de cálculo matricial."
   ]
  },
  {
   "cell_type": "code",
   "execution_count": 8,
   "metadata": {
    "slideshow": {
     "slide_type": "subslide"
    }
   },
   "outputs": [],
   "source": [
    "lista = [1, 2, 3]\n",
    "array = np.array([1, 2, 3])\n"
   ]
  },
  {
   "cell_type": "code",
   "execution_count": 9,
   "metadata": {},
   "outputs": [
    {
     "name": "stdout",
     "output_type": "stream",
     "text": [
      "[1, 2, 3]\n",
      "[1 2 3]\n",
      "1\n",
      "2\n",
      "3\n",
      "1\n",
      "2\n",
      "3\n"
     ]
    }
   ],
   "source": [
    "print(lista)\n",
    "print(array)\n",
    "\n",
    "for item in lista:\n",
    "    print(item)\n",
    "    \n",
    "for item in array:\n",
    "    print(item)"
   ]
  },
  {
   "cell_type": "markdown",
   "metadata": {
    "slideshow": {
     "slide_type": "subslide"
    }
   },
   "source": [
    "El concepto de array, sin embargo, implica que sólo acepta tipos numéricos:\n",
    "\n"
   ]
  },
  {
   "cell_type": "code",
   "execution_count": 10,
   "metadata": {},
   "outputs": [],
   "source": [
    "array_entero = np.array([1])\n",
    "array_real = np.array([1.])\n",
    "array_complejo = np.array([1+1j])"
   ]
  },
  {
   "cell_type": "code",
   "execution_count": 11,
   "metadata": {},
   "outputs": [
    {
     "name": "stdout",
     "output_type": "stream",
     "text": [
      "[1]\n",
      "[1.]\n",
      "[1.+1.j]\n"
     ]
    }
   ],
   "source": [
    "print(array_entero)\n",
    "print(array_real)\n",
    "print(array_complejo)"
   ]
  },
  {
   "cell_type": "markdown",
   "metadata": {
    "slideshow": {
     "slide_type": "subslide"
    }
   },
   "source": [
    "El tipo de los tres arrays anteriores es el mismo:"
   ]
  },
  {
   "cell_type": "code",
   "execution_count": 12,
   "metadata": {},
   "outputs": [
    {
     "name": "stdout",
     "output_type": "stream",
     "text": [
      "<class 'numpy.ndarray'>\n",
      "<class 'numpy.ndarray'>\n",
      "<class 'numpy.ndarray'>\n"
     ]
    }
   ],
   "source": [
    "print(type(array_entero))\n",
    "print(type(array_real))\n",
    "print(type(array_complejo))"
   ]
  },
  {
   "cell_type": "markdown",
   "metadata": {},
   "source": [
    "Aunque alberguen distintos tipos numéricos:"
   ]
  },
  {
   "cell_type": "code",
   "execution_count": 13,
   "metadata": {},
   "outputs": [
    {
     "name": "stdout",
     "output_type": "stream",
     "text": [
      "<class 'numpy.int32'>\n",
      "<class 'numpy.float64'>\n",
      "<class 'numpy.complex128'>\n"
     ]
    }
   ],
   "source": [
    "print(type(array_entero[0]))\n",
    "print(type(array_real[0]))\n",
    "print(type(array_complejo[0]))"
   ]
  },
  {
   "cell_type": "markdown",
   "metadata": {
    "slideshow": {
     "slide_type": "subslide"
    }
   },
   "source": [
    "Por ejemplo, si deseamos calcular:\n",
    "\n",
    "- $z = \\sum_{i=1}^{10}i$\n",
    "\n",
    "\n",
    "- $y=sin(x)$, Para $x=[0, 0.1, 0.2, ..., \\pi]$"
   ]
  },
  {
   "cell_type": "code",
   "execution_count": 14,
   "metadata": {
    "slideshow": {
     "slide_type": "subslide"
    }
   },
   "outputs": [],
   "source": [
    "## Sumatorio desde i=1 a i=10 mediante bucle y lista:\n",
    "\n",
    "\n",
    "\n",
    "#(manos a la obra)\n",
    "\n",
    "\n"
   ]
  },
  {
   "cell_type": "code",
   "execution_count": 15,
   "metadata": {
    "slideshow": {
     "slide_type": "subslide"
    }
   },
   "outputs": [
    {
     "name": "stdout",
     "output_type": "stream",
     "text": [
      "z= 55\n"
     ]
    }
   ],
   "source": [
    "## Sumatorio desde i=1 a i=10 mediante bucle y lista:\n",
    "i = [1, 2, 3, 4, 5, 6, 7, 8, 9, 10]\n",
    "z = 0\n",
    "for item in i:\n",
    "    z = item + z\n",
    "    \n",
    "print('z=',z)"
   ]
  },
  {
   "cell_type": "code",
   "execution_count": 16,
   "metadata": {
    "slideshow": {
     "slide_type": "subslide"
    }
   },
   "outputs": [],
   "source": [
    "## Sumatorio de i=1 a 10:\n",
    "\n",
    "\n",
    "#Numpy!!\n"
   ]
  },
  {
   "cell_type": "code",
   "execution_count": 17,
   "metadata": {
    "slideshow": {
     "slide_type": "subslide"
    }
   },
   "outputs": [
    {
     "name": "stdout",
     "output_type": "stream",
     "text": [
      "55.0\n"
     ]
    }
   ],
   "source": [
    "## Sumatorio de i=1 a 10:\n",
    "i = np.linspace(start=1, stop=10, num=10)\n",
    "z = np.sum(i)\n",
    "print(z)"
   ]
  },
  {
   "cell_type": "code",
   "execution_count": 18,
   "metadata": {
    "slideshow": {
     "slide_type": "subslide"
    }
   },
   "outputs": [],
   "source": [
    "## Seno de x para x=0, 0.1, ...\n",
    "\n",
    "\n",
    "\n",
    "\n",
    "\n",
    "\n"
   ]
  },
  {
   "cell_type": "code",
   "execution_count": 19,
   "metadata": {
    "slideshow": {
     "slide_type": "subslide"
    }
   },
   "outputs": [
    {
     "name": "stdout",
     "output_type": "stream",
     "text": [
      "31.41592653589793\n"
     ]
    }
   ],
   "source": [
    "## Seno de x para x=0, 0.1, ...\n",
    "x0 = 0\n",
    "xf = np.pi\n",
    "delta_xi = 0.1\n",
    "n_x = (xf-x0)/delta_xi\n",
    "print(n_x)"
   ]
  },
  {
   "cell_type": "code",
   "execution_count": 20,
   "metadata": {
    "slideshow": {
     "slide_type": "fragment"
    }
   },
   "outputs": [
    {
     "name": "stdout",
     "output_type": "stream",
     "text": [
      "32\n"
     ]
    }
   ],
   "source": [
    "n_x = np.int(np.ceil(n_x))\n",
    "print(n_x)"
   ]
  },
  {
   "cell_type": "code",
   "execution_count": 21,
   "metadata": {
    "slideshow": {
     "slide_type": "subslide"
    }
   },
   "outputs": [
    {
     "name": "stdout",
     "output_type": "stream",
     "text": [
      "[0.         0.1013417  0.2026834  0.3040251  0.40536679 0.50670849\n",
      " 0.60805019 0.70939189 0.81073359 0.91207529 1.01341699 1.11475868\n",
      " 1.21610038 1.31744208 1.41878378 1.52012548 1.62146718 1.72280887\n",
      " 1.82415057 1.92549227 2.02683397 2.12817567 2.22951737 2.33085907\n",
      " 2.43220076 2.53354246 2.63488416 2.73622586 2.83756756 2.93890926\n",
      " 3.04025096 3.14159265]\n",
      "32\n"
     ]
    }
   ],
   "source": [
    "x = np.linspace(num=n_x, start=x0, stop=xf)\n",
    "print(x)\n",
    "print(np.size(x))"
   ]
  },
  {
   "cell_type": "code",
   "execution_count": 22,
   "metadata": {
    "slideshow": {
     "slide_type": "subslide"
    }
   },
   "outputs": [
    {
     "name": "stdout",
     "output_type": "stream",
     "text": [
      "[0.00000000e+00 1.01168322e-01 2.01298520e-01 2.99363123e-01\n",
      " 3.94355855e-01 4.85301963e-01 5.71268215e-01 6.51372483e-01\n",
      " 7.24792787e-01 7.90775737e-01 8.48644257e-01 8.97804540e-01\n",
      " 9.37752132e-01 9.68077119e-01 9.88468324e-01 9.98716507e-01\n",
      " 9.98716507e-01 9.88468324e-01 9.68077119e-01 9.37752132e-01\n",
      " 8.97804540e-01 8.48644257e-01 7.90775737e-01 7.24792787e-01\n",
      " 6.51372483e-01 5.71268215e-01 4.85301963e-01 3.94355855e-01\n",
      " 2.99363123e-01 2.01298520e-01 1.01168322e-01 1.22464680e-16]\n"
     ]
    }
   ],
   "source": [
    "y = np.sin(x)\n",
    "print(y)"
   ]
  },
  {
   "cell_type": "markdown",
   "metadata": {
    "slideshow": {
     "slide_type": "slide"
    }
   },
   "source": [
    "### Importación de Matplotlib:\n",
    "\n",
    "Matplotlib es una de las librerías de representación gráfica de Python incluídas en Anaconda, y quizá la más usada y parecida a otras formas de representación gráfica de otros lenguajes de programación como Matlab.\n",
    "\n",
    "En Matplotlib se pueden encontrar módulos de representación de:\n",
    "- lineas y barras\n",
    "- Multiplots\n",
    "- Estadística (box, histogramas, etc)\n",
    "- Contornos e imágenes\n",
    "- Sectores y plots polares\n",
    "- Plots animados\n",
    "- Plots 3D\n",
    "- etc.\n",
    "\n",
    "https://matplotlib.org/gallery/index.html"
   ]
  },
  {
   "cell_type": "markdown",
   "metadata": {
    "slideshow": {
     "slide_type": "subslide"
    }
   },
   "source": [
    "Matplotlib es, además, un buen ejemplo de librería extensa de la que importaremos sólo los subconjuntos necesarios. Así, por ejemplo si queremos hacer una representación gráfica en ejes coordenados 2D, importaremos el paquete `pyplot`contenido en `maatplotlib`. Para ello la sintaxis queda:"
   ]
  },
  {
   "cell_type": "code",
   "execution_count": 23,
   "metadata": {},
   "outputs": [],
   "source": [
    "from matplotlib import pyplot"
   ]
  },
  {
   "cell_type": "markdown",
   "metadata": {
    "slideshow": {
     "slide_type": "subslide"
    }
   },
   "source": [
    "De igual forma que `numpy` se suele importar con el nombre de `np`, para `pyplot`es usual hacer uso de la convención que lo nombra como `plt`:"
   ]
  },
  {
   "cell_type": "code",
   "execution_count": 24,
   "metadata": {},
   "outputs": [],
   "source": [
    "from matplotlib import pyplot as plt"
   ]
  },
  {
   "cell_type": "markdown",
   "metadata": {
    "slideshow": {
     "slide_type": "subslide"
    }
   },
   "source": [
    "Consulta el contenido:\n",
    "> plt.[tab]\n",
    "\n",
    "y\n",
    "\n",
    "> plt?"
   ]
  },
  {
   "cell_type": "markdown",
   "metadata": {
    "slideshow": {
     "slide_type": "subslide"
    }
   },
   "source": [
    "Un ejemplo de uso con el seno recién calculado podría ser como sigue:\n",
    "- Abrir figura\n",
    "- Escribir series\n",
    "- Mostrar figura"
   ]
  },
  {
   "cell_type": "code",
   "execution_count": 25,
   "metadata": {
    "slideshow": {
     "slide_type": "subslide"
    }
   },
   "outputs": [
    {
     "data": {
      "image/png": "[encoded data removed]",
      "text/plain": [
       "<Figure size 432x288 with 1 Axes>"
      ]
     },
     "metadata": {
      "needs_background": "light"
     },
     "output_type": "display_data"
    }
   ],
   "source": [
    "# Abrir figura\n",
    "plt.figure()\n",
    "\n",
    "#Escribir serie:\n",
    "plt.plot(x,y)\n",
    "\n",
    "# Mostrar:\n",
    "plt.show()"
   ]
  },
  {
   "cell_type": "markdown",
   "metadata": {
    "slideshow": {
     "slide_type": "subslide"
    }
   },
   "source": [
    "En un Notebook el comando `plt.show()` es redundante. Sin embargo sí se necesita para que se vea la imagen si se está codificando en Spyder, Pycharm, VSCode..."
   ]
  },
  {
   "cell_type": "markdown",
   "metadata": {
    "slideshow": {
     "slide_type": "subslide"
    }
   },
   "source": [
    "Las figuras no-interactivas aparecen por defecto o con el comando:"
   ]
  },
  {
   "cell_type": "code",
   "execution_count": 26,
   "metadata": {},
   "outputs": [],
   "source": [
    "%matplotlib inline"
   ]
  },
  {
   "cell_type": "markdown",
   "metadata": {
    "slideshow": {
     "slide_type": "fragment"
    }
   },
   "source": [
    "Sin embargo en un Notebook es interesante invocar el comando:\n",
    "`%matplotlib notebook`"
   ]
  },
  {
   "cell_type": "code",
   "execution_count": 27,
   "metadata": {
    "slideshow": {
     "slide_type": "-"
    }
   },
   "outputs": [],
   "source": [
    "%matplotlib notebook"
   ]
  },
  {
   "cell_type": "code",
   "execution_count": 28,
   "metadata": {
    "scrolled": true,
    "slideshow": {
     "slide_type": "subslide"
    }
   },
   "outputs": [
    {
     "data": {
      "application/javascript": [
       "/* Put everything inside the global mpl namespace */\n",
       "window.mpl = {};\n",
       "\n",
       "\n",
       "mpl.get_websocket_type = function() {\n",
       "    if (typeof(WebSocket) !== 'undefined') {\n",
       "        return WebSocket;\n",
       "    } else if (typeof(MozWebSocket) !== 'undefined') {\n",
       "        return MozWebSocket;\n",
       "    } else {\n",
       "        alert('Your browser does not have WebSocket support.' +\n",
       "              'Please try Chrome, Safari or Firefox ≥ 6. ' +\n",
       "              'Firefox 4 and 5 are also supported but you ' +\n",
       "              'have to enable WebSockets in about:config.');\n",
       "    };\n",
       "}\n",
       "\n",
       "mpl.figure = function(figure_id, websocket, ondownload, parent_element) {\n",
       "    this.id = figure_id;\n",
       "\n",
       "    this.ws = websocket;\n",
       "\n",
       "    this.supports_binary = (this.ws.binaryType != undefined);\n",
       "\n",
       "    if (!this.supports_binary) {\n",
       "        var warnings = document.getElementById(\"mpl-warnings\");\n",
       "        if (warnings) {\n",
       "            warnings.style.display = 'block';\n",
       "            warnings.textContent = (\n",
       "                \"This browser does not support binary websocket messages. \" +\n",
       "                    \"Performance may be slow.\");\n",
       "        }\n",
       "    }\n",
       "\n",
       "    this.imageObj = new Image();\n",
       "\n",
       "    this.context = undefined;\n",
       "    this.message = undefined;\n",
       "    this.canvas = undefined;\n",
       "    this.rubberband_canvas = undefined;\n",
       "    this.rubberband_context = undefined;\n",
       "    this.format_dropdown = undefined;\n",
       "\n",
       "    this.image_mode = 'full';\n",
       "\n",
       "    this.root = $('<div/>');\n",
       "    this._root_extra_style(this.root)\n",
       "    this.root.attr('style', 'display: inline-block');\n",
       "\n",
       "    $(parent_element).append(this.root);\n",
       "\n",
       "    this._init_header(this);\n",
       "    this._init_canvas(this);\n",
       "    this._init_toolbar(this);\n",
       "\n",
       "    var fig = this;\n",
       "\n",
       "    this.waiting = false;\n",
       "\n",
       "    this.ws.onopen =  function () {\n",
       "            fig.send_message(\"supports_binary\", {value: fig.supports_binary});\n",
       "            fig.send_message(\"send_image_mode\", {});\n",
       "            if (mpl.ratio != 1) {\n",
       "                fig.send_message(\"set_dpi_ratio\", {'dpi_ratio': mpl.ratio});\n",
       "            }\n",
       "            fig.send_message(\"refresh\", {});\n",
       "        }\n",
       "\n",
       "    this.imageObj.onload = function() {\n",
       "            if (fig.image_mode == 'full') {\n",
       "                // Full images could contain transparency (where diff images\n",
       "                // almost always do), so we need to clear the canvas so that\n",
       "                // there is no ghosting.\n",
       "                fig.context.clearRect(0, 0, fig.canvas.width, fig.canvas.height);\n",
       "            }\n",
       "            fig.context.drawImage(fig.imageObj, 0, 0);\n",
       "        };\n",
       "\n",
       "    this.imageObj.onunload = function() {\n",
       "        fig.ws.close();\n",
       "    }\n",
       "\n",
       "    this.ws.onmessage = this._make_on_message_function(this);\n",
       "\n",
       "    this.ondownload = ondownload;\n",
       "}\n",
       "\n",
       "mpl.figure.prototype._init_header = function() {\n",
       "    var titlebar = $(\n",
       "        '<div class=\"ui-dialog-titlebar ui-widget-header ui-corner-all ' +\n",
       "        'ui-helper-clearfix\"/>');\n",
       "    var titletext = $(\n",
       "        '<div class=\"ui-dialog-title\" style=\"width: 100%; ' +\n",
       "        'text-align: center; padding: 3px;\"/>');\n",
       "    titlebar.append(titletext)\n",
       "    this.root.append(titlebar);\n",
       "    this.header = titletext[0];\n",
       "}\n",
       "\n",
       "\n",
       "\n",
       "mpl.figure.prototype._canvas_extra_style = function(canvas_div) {\n",
       "\n",
       "}\n",
       "\n",
       "\n",
       "mpl.figure.prototype._root_extra_style = function(canvas_div) {\n",
       "\n",
       "}\n",
       "\n",
       "mpl.figure.prototype._init_canvas = function() {\n",
       "    var fig = this;\n",
       "\n",
       "    var canvas_div = $('<div/>');\n",
       "\n",
       "    canvas_div.attr('style', 'position: relative; clear: both; outline: 0');\n",
       "\n",
       "    function canvas_keyboard_event(event) {\n",
       "        return fig.key_event(event, event['data']);\n",
       "    }\n",
       "\n",
       "    canvas_div.keydown('key_press', canvas_keyboard_event);\n",
       "    canvas_div.keyup('key_release', canvas_keyboard_event);\n",
       "    this.canvas_div = canvas_div\n",
       "    this._canvas_extra_style(canvas_div)\n",
       "    this.root.append(canvas_div);\n",
       "\n",
       "    var canvas = $('<canvas/>');\n",
       "    canvas.addClass('mpl-canvas');\n",
       "    canvas.attr('style', \"left: 0; top: 0; z-index: 0; outline: 0\")\n",
       "\n",
       "    this.canvas = canvas[0];\n",
       "    this.context = canvas[0].getContext(\"2d\");\n",
       "\n",
       "    var backingStore = this.context.backingStorePixelRatio ||\n",
       "\tthis.context.webkitBackingStorePixelRatio ||\n",
       "\tthis.context.mozBackingStorePixelRatio ||\n",
       "\tthis.context.msBackingStorePixelRatio ||\n",
       "\tthis.context.oBackingStorePixelRatio ||\n",
       "\tthis.context.backingStorePixelRatio || 1;\n",
       "\n",
       "    mpl.ratio = (window.devicePixelRatio || 1) / backingStore;\n",
       "\n",
       "    var rubberband = $('<canvas/>');\n",
       "    rubberband.attr('style', \"position: absolute; left: 0; top: 0; z-index: 1;\")\n",
       "\n",
       "    var pass_mouse_events = true;\n",
       "\n",
       "    canvas_div.resizable({\n",
       "        start: function(event, ui) {\n",
       "            pass_mouse_events = false;\n",
       "        },\n",
       "        resize: function(event, ui) {\n",
       "            fig.request_resize(ui.size.width, ui.size.height);\n",
       "        },\n",
       "        stop: function(event, ui) {\n",
       "            pass_mouse_events = true;\n",
       "            fig.request_resize(ui.size.width, ui.size.height);\n",
       "        },\n",
       "    });\n",
       "\n",
       "    function mouse_event_fn(event) {\n",
       "        if (pass_mouse_events)\n",
       "            return fig.mouse_event(event, event['data']);\n",
       "    }\n",
       "\n",
       "    rubberband.mousedown('button_press', mouse_event_fn);\n",
       "    rubberband.mouseup('button_release', mouse_event_fn);\n",
       "    // Throttle sequential mouse events to 1 every 20ms.\n",
       "    rubberband.mousemove('motion_notify', mouse_event_fn);\n",
       "\n",
       "    rubberband.mouseenter('figure_enter', mouse_event_fn);\n",
       "    rubberband.mouseleave('figure_leave', mouse_event_fn);\n",
       "\n",
       "    canvas_div.on(\"wheel\", function (event) {\n",
       "        event = event.originalEvent;\n",
       "        event['data'] = 'scroll'\n",
       "        if (event.deltaY < 0) {\n",
       "            event.step = 1;\n",
       "        } else {\n",
       "            event.step = -1;\n",
       "        }\n",
       "        mouse_event_fn(event);\n",
       "    });\n",
       "\n",
       "    canvas_div.append(canvas);\n",
       "    canvas_div.append(rubberband);\n",
       "\n",
       "    this.rubberband = rubberband;\n",
       "    this.rubberband_canvas = rubberband[0];\n",
       "    this.rubberband_context = rubberband[0].getContext(\"2d\");\n",
       "    this.rubberband_context.strokeStyle = \"#000000\";\n",
       "\n",
       "    this._resize_canvas = function(width, height) {\n",
       "        // Keep the size of the canvas, canvas container, and rubber band\n",
       "        // canvas in synch.\n",
       "        canvas_div.css('width', width)\n",
       "        canvas_div.css('height', height)\n",
       "\n",
       "        canvas.attr('width', width * mpl.ratio);\n",
       "        canvas.attr('height', height * mpl.ratio);\n",
       "        canvas.attr('style', 'width: ' + width + 'px; height: ' + height + 'px;');\n",
       "\n",
       "        rubberband.attr('width', width);\n",
       "        rubberband.attr('height', height);\n",
       "    }\n",
       "\n",
       "    // Set the figure to an initial 600x600px, this will subsequently be updated\n",
       "    // upon first draw.\n",
       "    this._resize_canvas(600, 600);\n",
       "\n",
       "    // Disable right mouse context menu.\n",
       "    $(this.rubberband_canvas).bind(\"contextmenu\",function(e){\n",
       "        return false;\n",
       "    });\n",
       "\n",
       "    function set_focus () {\n",
       "        canvas.focus();\n",
       "        canvas_div.focus();\n",
       "    }\n",
       "\n",
       "    window.setTimeout(set_focus, 100);\n",
       "}\n",
       "\n",
       "mpl.figure.prototype._init_toolbar = function() {\n",
       "    var fig = this;\n",
       "\n",
       "    var nav_element = $('<div/>')\n",
       "    nav_element.attr('style', 'width: 100%');\n",
       "    this.root.append(nav_element);\n",
       "\n",
       "    // Define a callback function for later on.\n",
       "    function toolbar_event(event) {\n",
       "        return fig.toolbar_button_onclick(event['data']);\n",
       "    }\n",
       "    function toolbar_mouse_event(event) {\n",
       "        return fig.toolbar_button_onmouseover(event['data']);\n",
       "    }\n",
       "\n",
       "    for(var toolbar_ind in mpl.toolbar_items) {\n",
       "        var name = mpl.toolbar_items[toolbar_ind][0];\n",
       "        var tooltip = mpl.toolbar_items[toolbar_ind][1];\n",
       "        var image = mpl.toolbar_items[toolbar_ind][2];\n",
       "        var method_name = mpl.toolbar_items[toolbar_ind][3];\n",
       "\n",
       "        if (!name) {\n",
       "            // put a spacer in here.\n",
       "            continue;\n",
       "        }\n",
       "        var button = $('<button/>');\n",
       "        button.addClass('ui-button ui-widget ui-state-default ui-corner-all ' +\n",
       "                        'ui-button-icon-only');\n",
       "        button.attr('role', 'button');\n",
       "        button.attr('aria-disabled', 'false');\n",
       "        button.click(method_name, toolbar_event);\n",
       "        button.mouseover(tooltip, toolbar_mouse_event);\n",
       "\n",
       "        var icon_img = $('<span/>');\n",
       "        icon_img.addClass('ui-button-icon-primary ui-icon');\n",
       "        icon_img.addClass(image);\n",
       "        icon_img.addClass('ui-corner-all');\n",
       "\n",
       "        var tooltip_span = $('<span/>');\n",
       "        tooltip_span.addClass('ui-button-text');\n",
       "        tooltip_span.html(tooltip);\n",
       "\n",
       "        button.append(icon_img);\n",
       "        button.append(tooltip_span);\n",
       "\n",
       "        nav_element.append(button);\n",
       "    }\n",
       "\n",
       "    var fmt_picker_span = $('<span/>');\n",
       "\n",
       "    var fmt_picker = $('<select/>');\n",
       "    fmt_picker.addClass('mpl-toolbar-option ui-widget ui-widget-content');\n",
       "    fmt_picker_span.append(fmt_picker);\n",
       "    nav_element.append(fmt_picker_span);\n",
       "    this.format_dropdown = fmt_picker[0];\n",
       "\n",
       "    for (var ind in mpl.extensions) {\n",
       "        var fmt = mpl.extensions[ind];\n",
       "        var option = $(\n",
       "            '<option/>', {selected: fmt === mpl.default_extension}).html(fmt);\n",
       "        fmt_picker.append(option)\n",
       "    }\n",
       "\n",
       "    // Add hover states to the ui-buttons\n",
       "    $( \".ui-button\" ).hover(\n",
       "        function() { $(this).addClass(\"ui-state-hover\");},\n",
       "        function() { $(this).removeClass(\"ui-state-hover\");}\n",
       "    );\n",
       "\n",
       "    var status_bar = $('<span class=\"mpl-message\"/>');\n",
       "    nav_element.append(status_bar);\n",
       "    this.message = status_bar[0];\n",
       "}\n",
       "\n",
       "mpl.figure.prototype.request_resize = function(x_pixels, y_pixels) {\n",
       "    // Request matplotlib to resize the figure. Matplotlib will then trigger a resize in the client,\n",
       "    // which will in turn request a refresh of the image.\n",
       "    this.send_message('resize', {'width': x_pixels, 'height': y_pixels});\n",
       "}\n",
       "\n",
       "mpl.figure.prototype.send_message = function(type, properties) {\n",
       "    properties['type'] = type;\n",
       "    properties['figure_id'] = this.id;\n",
       "    this.ws.send(JSON.stringify(properties));\n",
       "}\n",
       "\n",
       "mpl.figure.prototype.send_draw_message = function() {\n",
       "    if (!this.waiting) {\n",
       "        this.waiting = true;\n",
       "        this.ws.send(JSON.stringify({type: \"draw\", figure_id: this.id}));\n",
       "    }\n",
       "}\n",
       "\n",
       "\n",
       "mpl.figure.prototype.handle_save = function(fig, msg) {\n",
       "    var format_dropdown = fig.format_dropdown;\n",
       "    var format = format_dropdown.options[format_dropdown.selectedIndex].value;\n",
       "    fig.ondownload(fig, format);\n",
       "}\n",
       "\n",
       "\n",
       "mpl.figure.prototype.handle_resize = function(fig, msg) {\n",
       "    var size = msg['size'];\n",
       "    if (size[0] != fig.canvas.width || size[1] != fig.canvas.height) {\n",
       "        fig._resize_canvas(size[0], size[1]);\n",
       "        fig.send_message(\"refresh\", {});\n",
       "    };\n",
       "}\n",
       "\n",
       "mpl.figure.prototype.handle_rubberband = function(fig, msg) {\n",
       "    var x0 = msg['x0'] / mpl.ratio;\n",
       "    var y0 = (fig.canvas.height - msg['y0']) / mpl.ratio;\n",
       "    var x1 = msg['x1'] / mpl.ratio;\n",
       "    var y1 = (fig.canvas.height - msg['y1']) / mpl.ratio;\n",
       "    x0 = Math.floor(x0) + 0.5;\n",
       "    y0 = Math.floor(y0) + 0.5;\n",
       "    x1 = Math.floor(x1) + 0.5;\n",
       "    y1 = Math.floor(y1) + 0.5;\n",
       "    var min_x = Math.min(x0, x1);\n",
       "    var min_y = Math.min(y0, y1);\n",
       "    var width = Math.abs(x1 - x0);\n",
       "    var height = Math.abs(y1 - y0);\n",
       "\n",
       "    fig.rubberband_context.clearRect(\n",
       "        0, 0, fig.canvas.width, fig.canvas.height);\n",
       "\n",
       "    fig.rubberband_context.strokeRect(min_x, min_y, width, height);\n",
       "}\n",
       "\n",
       "mpl.figure.prototype.handle_figure_label = function(fig, msg) {\n",
       "    // Updates the figure title.\n",
       "    fig.header.textContent = msg['label'];\n",
       "}\n",
       "\n",
       "mpl.figure.prototype.handle_cursor = function(fig, msg) {\n",
       "    var cursor = msg['cursor'];\n",
       "    switch(cursor)\n",
       "    {\n",
       "    case 0:\n",
       "        cursor = 'pointer';\n",
       "        break;\n",
       "    case 1:\n",
       "        cursor = 'default';\n",
       "        break;\n",
       "    case 2:\n",
       "        cursor = 'crosshair';\n",
       "        break;\n",
       "    case 3:\n",
       "        cursor = 'move';\n",
       "        break;\n",
       "    }\n",
       "    fig.rubberband_canvas.style.cursor = cursor;\n",
       "}\n",
       "\n",
       "mpl.figure.prototype.handle_message = function(fig, msg) {\n",
       "    fig.message.textContent = msg['message'];\n",
       "}\n",
       "\n",
       "mpl.figure.prototype.handle_draw = function(fig, msg) {\n",
       "    // Request the server to send over a new figure.\n",
       "    fig.send_draw_message();\n",
       "}\n",
       "\n",
       "mpl.figure.prototype.handle_image_mode = function(fig, msg) {\n",
       "    fig.image_mode = msg['mode'];\n",
       "}\n",
       "\n",
       "mpl.figure.prototype.updated_canvas_event = function() {\n",
       "    // Called whenever the canvas gets updated.\n",
       "    this.send_message(\"ack\", {});\n",
       "}\n",
       "\n",
       "// A function to construct a web socket function for onmessage handling.\n",
       "// Called in the figure constructor.\n",
       "mpl.figure.prototype._make_on_message_function = function(fig) {\n",
       "    return function socket_on_message(evt) {\n",
       "        if (evt.data instanceof Blob) {\n",
       "            /* FIXME: We get \"Resource interpreted as Image but\n",
       "             * transferred with MIME type text/plain:\" errors on\n",
       "             * Chrome.  But how to set the MIME type?  It doesn't seem\n",
       "             * to be part of the websocket stream */\n",
       "            evt.data.type = \"image/png\";\n",
       "\n",
       "            /* Free the memory for the previous frames */\n",
       "            if (fig.imageObj.src) {\n",
       "                (window.URL || window.webkitURL).revokeObjectURL(\n",
       "                    fig.imageObj.src);\n",
       "            }\n",
       "\n",
       "            fig.imageObj.src = (window.URL || window.webkitURL).createObjectURL(\n",
       "                evt.data);\n",
       "            fig.updated_canvas_event();\n",
       "            fig.waiting = false;\n",
       "            return;\n",
       "        }\n",
       "        else if (typeof evt.data === 'string' && evt.data.slice(0, 21) == \"data:image/png;base64\") {\n",
       "            fig.imageObj.src = evt.data;\n",
       "            fig.updated_canvas_event();\n",
       "            fig.waiting = false;\n",
       "            return;\n",
       "        }\n",
       "\n",
       "        var msg = JSON.parse(evt.data);\n",
       "        var msg_type = msg['type'];\n",
       "\n",
       "        // Call the  \"handle_{type}\" callback, which takes\n",
       "        // the figure and JSON message as its only arguments.\n",
       "        try {\n",
       "            var callback = fig[\"handle_\" + msg_type];\n",
       "        } catch (e) {\n",
       "            console.log(\"No handler for the '\" + msg_type + \"' message type: \", msg);\n",
       "            return;\n",
       "        }\n",
       "\n",
       "        if (callback) {\n",
       "            try {\n",
       "                // console.log(\"Handling '\" + msg_type + \"' message: \", msg);\n",
       "                callback(fig, msg);\n",
       "            } catch (e) {\n",
       "                console.log(\"Exception inside the 'handler_\" + msg_type + \"' callback:\", e, e.stack, msg);\n",
       "            }\n",
       "        }\n",
       "    };\n",
       "}\n",
       "\n",
       "// from http://stackoverflow.com/questions/1114465/getting-mouse-location-in-canvas\n",
       "mpl.findpos = function(e) {\n",
       "    //this section is from http://www.quirksmode.org/js/events_properties.html\n",
       "    var targ;\n",
       "    if (!e)\n",
       "        e = window.event;\n",
       "    if (e.target)\n",
       "        targ = e.target;\n",
       "    else if (e.srcElement)\n",
       "        targ = e.srcElement;\n",
       "    if (targ.nodeType == 3) // defeat Safari bug\n",
       "        targ = targ.parentNode;\n",
       "\n",
       "    // jQuery normalizes the pageX and pageY\n",
       "    // pageX,Y are the mouse positions relative to the document\n",
       "    // offset() returns the position of the element relative to the document\n",
       "    var x = e.pageX - $(targ).offset().left;\n",
       "    var y = e.pageY - $(targ).offset().top;\n",
       "\n",
       "    return {\"x\": x, \"y\": y};\n",
       "};\n",
       "\n",
       "/*\n",
       " * return a copy of an object with only non-object keys\n",
       " * we need this to avoid circular references\n",
       " * http://stackoverflow.com/a/24161582/3208463\n",
       " */\n",
       "function simpleKeys (original) {\n",
       "  return Object.keys(original).reduce(function (obj, key) {\n",
       "    if (typeof original[key] !== 'object')\n",
       "        obj[key] = original[key]\n",
       "    return obj;\n",
       "  }, {});\n",
       "}\n",
       "\n",
       "mpl.figure.prototype.mouse_event = function(event, name) {\n",
       "    var canvas_pos = mpl.findpos(event)\n",
       "\n",
       "    if (name === 'button_press')\n",
       "    {\n",
       "        this.canvas.focus();\n",
       "        this.canvas_div.focus();\n",
       "    }\n",
       "\n",
       "    var x = canvas_pos.x * mpl.ratio;\n",
       "    var y = canvas_pos.y * mpl.ratio;\n",
       "\n",
       "    this.send_message(name, {x: x, y: y, button: event.button,\n",
       "                             step: event.step,\n",
       "                             guiEvent: simpleKeys(event)});\n",
       "\n",
       "    /* This prevents the web browser from automatically changing to\n",
       "     * the text insertion cursor when the button is pressed.  We want\n",
       "     * to control all of the cursor setting manually through the\n",
       "     * 'cursor' event from matplotlib */\n",
       "    event.preventDefault();\n",
       "    return false;\n",
       "}\n",
       "\n",
       "mpl.figure.prototype._key_event_extra = function(event, name) {\n",
       "    // Handle any extra behaviour associated with a key event\n",
       "}\n",
       "\n",
       "mpl.figure.prototype.key_event = function(event, name) {\n",
       "\n",
       "    // Prevent repeat events\n",
       "    if (name == 'key_press')\n",
       "    {\n",
       "        if (event.which === this._key)\n",
       "            return;\n",
       "        else\n",
       "            this._key = event.which;\n",
       "    }\n",
       "    if (name == 'key_release')\n",
       "        this._key = null;\n",
       "\n",
       "    var value = '';\n",
       "    if (event.ctrlKey && event.which != 17)\n",
       "        value += \"ctrl+\";\n",
       "    if (event.altKey && event.which != 18)\n",
       "        value += \"alt+\";\n",
       "    if (event.shiftKey && event.which != 16)\n",
       "        value += \"shift+\";\n",
       "\n",
       "    value += 'k';\n",
       "    value += event.which.toString();\n",
       "\n",
       "    this._key_event_extra(event, name);\n",
       "\n",
       "    this.send_message(name, {key: value,\n",
       "                             guiEvent: simpleKeys(event)});\n",
       "    return false;\n",
       "}\n",
       "\n",
       "mpl.figure.prototype.toolbar_button_onclick = function(name) {\n",
       "    if (name == 'download') {\n",
       "        this.handle_save(this, null);\n",
       "    } else {\n",
       "        this.send_message(\"toolbar_button\", {name: name});\n",
       "    }\n",
       "};\n",
       "\n",
       "mpl.figure.prototype.toolbar_button_onmouseover = function(tooltip) {\n",
       "    this.message.textContent = tooltip;\n",
       "};\n",
       "mpl.toolbar_items = [[\"Home\", \"Reset original view\", \"fa fa-home icon-home\", \"home\"], [\"Back\", \"Back to previous view\", \"fa fa-arrow-left icon-arrow-left\", \"back\"], [\"Forward\", \"Forward to next view\", \"fa fa-arrow-right icon-arrow-right\", \"forward\"], [\"\", \"\", \"\", \"\"], [\"Pan\", \"Pan axes with left mouse, zoom with right\", \"fa fa-arrows icon-move\", \"pan\"], [\"Zoom\", \"Zoom to rectangle\", \"fa fa-square-o icon-check-empty\", \"zoom\"], [\"\", \"\", \"\", \"\"], [\"Download\", \"Download plot\", \"fa fa-floppy-o icon-save\", \"download\"]];\n",
       "\n",
       "mpl.extensions = [\"eps\", \"jpeg\", \"pdf\", \"png\", \"ps\", \"raw\", \"svg\", \"tif\"];\n",
       "\n",
       "mpl.default_extension = \"png\";var comm_websocket_adapter = function(comm) {\n",
       "    // Create a \"websocket\"-like object which calls the given IPython comm\n",
       "    // object with the appropriate methods. Currently this is a non binary\n",
       "    // socket, so there is still some room for performance tuning.\n",
       "    var ws = {};\n",
       "\n",
       "    ws.close = function() {\n",
       "        comm.close()\n",
       "    };\n",
       "    ws.send = function(m) {\n",
       "        //console.log('sending', m);\n",
       "        comm.send(m);\n",
       "    };\n",
       "    // Register the callback with on_msg.\n",
       "    comm.on_msg(function(msg) {\n",
       "        //console.log('receiving', msg['content']['data'], msg);\n",
       "        // Pass the mpl event to the overridden (by mpl) onmessage function.\n",
       "        ws.onmessage(msg['content']['data'])\n",
       "    });\n",
       "    return ws;\n",
       "}\n",
       "\n",
       "mpl.mpl_figure_comm = function(comm, msg) {\n",
       "    // This is the function which gets called when the mpl process\n",
       "    // starts-up an IPython Comm through the \"matplotlib\" channel.\n",
       "\n",
       "    var id = msg.content.data.id;\n",
       "    // Get hold of the div created by the display call when the Comm\n",
       "    // socket was opened in Python.\n",
       "    var element = $(\"#\" + id);\n",
       "    var ws_proxy = comm_websocket_adapter(comm)\n",
       "\n",
       "    function ondownload(figure, format) {\n",
       "        window.open(figure.imageObj.src);\n",
       "    }\n",
       "\n",
       "    var fig = new mpl.figure(id, ws_proxy,\n",
       "                           ondownload,\n",
       "                           element.get(0));\n",
       "\n",
       "    // Call onopen now - mpl needs it, as it is assuming we've passed it a real\n",
       "    // web socket which is closed, not our websocket->open comm proxy.\n",
       "    ws_proxy.onopen();\n",
       "\n",
       "    fig.parent_element = element.get(0);\n",
       "    fig.cell_info = mpl.find_output_cell(\"<div id='\" + id + \"'></div>\");\n",
       "    if (!fig.cell_info) {\n",
       "        console.error(\"Failed to find cell for figure\", id, fig);\n",
       "        return;\n",
       "    }\n",
       "\n",
       "    var output_index = fig.cell_info[2]\n",
       "    var cell = fig.cell_info[0];\n",
       "\n",
       "};\n",
       "\n",
       "mpl.figure.prototype.handle_close = function(fig, msg) {\n",
       "    var width = fig.canvas.width/mpl.ratio\n",
       "    fig.root.unbind('remove')\n",
       "\n",
       "    // Update the output cell to use the data from the current canvas.\n",
       "    fig.push_to_output();\n",
       "    var dataURL = fig.canvas.toDataURL();\n",
       "    // Re-enable the keyboard manager in IPython - without this line, in FF,\n",
       "    // the notebook keyboard shortcuts fail.\n",
       "    IPython.keyboard_manager.enable()\n",
       "    $(fig.parent_element).html('<img src=\"' + dataURL + '\" width=\"' + width + '\">');\n",
       "    fig.close_ws(fig, msg);\n",
       "}\n",
       "\n",
       "mpl.figure.prototype.close_ws = function(fig, msg){\n",
       "    fig.send_message('closing', msg);\n",
       "    // fig.ws.close()\n",
       "}\n",
       "\n",
       "mpl.figure.prototype.push_to_output = function(remove_interactive) {\n",
       "    // Turn the data on the canvas into data in the output cell.\n",
       "    var width = this.canvas.width/mpl.ratio\n",
       "    var dataURL = this.canvas.toDataURL();\n",
       "    this.cell_info[1]['text/html'] = '<img src=\"' + dataURL + '\" width=\"' + width + '\">';\n",
       "}\n",
       "\n",
       "mpl.figure.prototype.updated_canvas_event = function() {\n",
       "    // Tell IPython that the notebook contents must change.\n",
       "    IPython.notebook.set_dirty(true);\n",
       "    this.send_message(\"ack\", {});\n",
       "    var fig = this;\n",
       "    // Wait a second, then push the new image to the DOM so\n",
       "    // that it is saved nicely (might be nice to debounce this).\n",
       "    setTimeout(function () { fig.push_to_output() }, 1000);\n",
       "}\n",
       "\n",
       "mpl.figure.prototype._init_toolbar = function() {\n",
       "    var fig = this;\n",
       "\n",
       "    var nav_element = $('<div/>')\n",
       "    nav_element.attr('style', 'width: 100%');\n",
       "    this.root.append(nav_element);\n",
       "\n",
       "    // Define a callback function for later on.\n",
       "    function toolbar_event(event) {\n",
       "        return fig.toolbar_button_onclick(event['data']);\n",
       "    }\n",
       "    function toolbar_mouse_event(event) {\n",
       "        return fig.toolbar_button_onmouseover(event['data']);\n",
       "    }\n",
       "\n",
       "    for(var toolbar_ind in mpl.toolbar_items){\n",
       "        var name = mpl.toolbar_items[toolbar_ind][0];\n",
       "        var tooltip = mpl.toolbar_items[toolbar_ind][1];\n",
       "        var image = mpl.toolbar_items[toolbar_ind][2];\n",
       "        var method_name = mpl.toolbar_items[toolbar_ind][3];\n",
       "\n",
       "        if (!name) { continue; };\n",
       "\n",
       "        var button = $('<button class=\"btn btn-default\" href=\"#\" title=\"' + name + '\"><i class=\"fa ' + image + ' fa-lg\"></i></button>');\n",
       "        button.click(method_name, toolbar_event);\n",
       "        button.mouseover(tooltip, toolbar_mouse_event);\n",
       "        nav_element.append(button);\n",
       "    }\n",
       "\n",
       "    // Add the status bar.\n",
       "    var status_bar = $('<span class=\"mpl-message\" style=\"text-align:right; float: right;\"/>');\n",
       "    nav_element.append(status_bar);\n",
       "    this.message = status_bar[0];\n",
       "\n",
       "    // Add the close button to the window.\n",
       "    var buttongrp = $('<div class=\"btn-group inline pull-right\"></div>');\n",
       "    var button = $('<button class=\"btn btn-mini btn-primary\" href=\"#\" title=\"Stop Interaction\"><i class=\"fa fa-power-off icon-remove icon-large\"></i></button>');\n",
       "    button.click(function (evt) { fig.handle_close(fig, {}); } );\n",
       "    button.mouseover('Stop Interaction', toolbar_mouse_event);\n",
       "    buttongrp.append(button);\n",
       "    var titlebar = this.root.find($('.ui-dialog-titlebar'));\n",
       "    titlebar.prepend(buttongrp);\n",
       "}\n",
       "\n",
       "mpl.figure.prototype._root_extra_style = function(el){\n",
       "    var fig = this\n",
       "    el.on(\"remove\", function(){\n",
       "\tfig.close_ws(fig, {});\n",
       "    });\n",
       "}\n",
       "\n",
       "mpl.figure.prototype._canvas_extra_style = function(el){\n",
       "    // this is important to make the div 'focusable\n",
       "    el.attr('tabindex', 0)\n",
       "    // reach out to IPython and tell the keyboard manager to turn it's self\n",
       "    // off when our div gets focus\n",
       "\n",
       "    // location in version 3\n",
       "    if (IPython.notebook.keyboard_manager) {\n",
       "        IPython.notebook.keyboard_manager.register_events(el);\n",
       "    }\n",
       "    else {\n",
       "        // location in version 2\n",
       "        IPython.keyboard_manager.register_events(el);\n",
       "    }\n",
       "\n",
       "}\n",
       "\n",
       "mpl.figure.prototype._key_event_extra = function(event, name) {\n",
       "    var manager = IPython.notebook.keyboard_manager;\n",
       "    if (!manager)\n",
       "        manager = IPython.keyboard_manager;\n",
       "\n",
       "    // Check for shift+enter\n",
       "    if (event.shiftKey && event.which == 13) {\n",
       "        this.canvas_div.blur();\n",
       "        event.shiftKey = false;\n",
       "        // Send a \"J\" for go to next cell\n",
       "        event.which = 74;\n",
       "        event.keyCode = 74;\n",
       "        manager.command_mode();\n",
       "        manager.handle_keydown(event);\n",
       "    }\n",
       "}\n",
       "\n",
       "mpl.figure.prototype.handle_save = function(fig, msg) {\n",
       "    fig.ondownload(fig, null);\n",
       "}\n",
       "\n",
       "\n",
       "mpl.find_output_cell = function(html_output) {\n",
       "    // Return the cell and output element which can be found *uniquely* in the notebook.\n",
       "    // Note - this is a bit hacky, but it is done because the \"notebook_saving.Notebook\"\n",
       "    // IPython event is triggered only after the cells have been serialised, which for\n",
       "    // our purposes (turning an active figure into a static one), is too late.\n",
       "    var cells = IPython.notebook.get_cells();\n",
       "    var ncells = cells.length;\n",
       "    for (var i=0; i<ncells; i++) {\n",
       "        var cell = cells[i];\n",
       "        if (cell.cell_type === 'code'){\n",
       "            for (var j=0; j<cell.output_area.outputs.length; j++) {\n",
       "                var data = cell.output_area.outputs[j];\n",
       "                if (data.data) {\n",
       "                    // IPython >= 3 moved mimebundle to data attribute of output\n",
       "                    data = data.data;\n",
       "                }\n",
       "                if (data['text/html'] == html_output) {\n",
       "                    return [cell, data, j];\n",
       "                }\n",
       "            }\n",
       "        }\n",
       "    }\n",
       "}\n",
       "\n",
       "// Register the function which deals with the matplotlib target/channel.\n",
       "// The kernel may be null if the page has been refreshed.\n",
       "if (IPython.notebook.kernel != null) {\n",
       "    IPython.notebook.kernel.comm_manager.register_target('matplotlib', mpl.mpl_figure_comm);\n",
       "}\n"
      ],
      "text/plain": [
       "<IPython.core.display.Javascript object>"
      ]
     },
     "metadata": {},
     "output_type": "display_data"
    },
    {
     "data": {
      "text/html": [
       "<img src=\"data:image/png;base64,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\" width=\"432\">"
      ],
      "text/plain": [
       "<IPython.core.display.HTML object>"
      ]
     },
     "metadata": {},
     "output_type": "display_data"
    }
   ],
   "source": [
    "%matplotlib notebook\n",
    "plt.figure()\n",
    "plt.plot(x,y)\n",
    "plt.show()"
   ]
  },
  {
   "cell_type": "markdown",
   "metadata": {
    "slideshow": {
     "slide_type": "-"
    }
   },
   "source": [
    "La funcionalidad de `%matplotlib notebook` permite hacer zoom, mover el área de ploteo, guardar la figura... Si se recuperar la funcionalidad de la imagen estática bastante con invocar `%matplotlib inline`"
   ]
  },
  {
   "cell_type": "markdown",
   "metadata": {
    "slideshow": {
     "slide_type": "subslide"
    }
   },
   "source": [
    "#### Atención:\n",
    "\n",
    "Si se usa Jupyter-Lab es probable que `%matplotlib notebook` no funcione (en Jupyter-Notebook sí). Para el uso interactivo en Jupyter-Lab:\n",
    "\n",
    "- Instalar `conda install -c conda-forge ipympl`\n",
    "- `%matplotlib widget`"
   ]
  },
  {
   "cell_type": "markdown",
   "metadata": {
    "slideshow": {
     "slide_type": "subslide"
    }
   },
   "source": [
    "Otros ejemplos de uso podrían ser:\n",
    "\n"
   ]
  },
  {
   "cell_type": "code",
   "execution_count": 29,
   "metadata": {
    "slideshow": {
     "slide_type": "subslide"
    }
   },
   "outputs": [
    {
     "data": {
      "application/javascript": [
       "/* Put everything inside the global mpl namespace */\n",
       "window.mpl = {};\n",
       "\n",
       "\n",
       "mpl.get_websocket_type = function() {\n",
       "    if (typeof(WebSocket) !== 'undefined') {\n",
       "        return WebSocket;\n",
       "    } else if (typeof(MozWebSocket) !== 'undefined') {\n",
       "        return MozWebSocket;\n",
       "    } else {\n",
       "        alert('Your browser does not have WebSocket support.' +\n",
       "              'Please try Chrome, Safari or Firefox ≥ 6. ' +\n",
       "              'Firefox 4 and 5 are also supported but you ' +\n",
       "              'have to enable WebSockets in about:config.');\n",
       "    };\n",
       "}\n",
       "\n",
       "mpl.figure = function(figure_id, websocket, ondownload, parent_element) {\n",
       "    this.id = figure_id;\n",
       "\n",
       "    this.ws = websocket;\n",
       "\n",
       "    this.supports_binary = (this.ws.binaryType != undefined);\n",
       "\n",
       "    if (!this.supports_binary) {\n",
       "        var warnings = document.getElementById(\"mpl-warnings\");\n",
       "        if (warnings) {\n",
       "            warnings.style.display = 'block';\n",
       "            warnings.textContent = (\n",
       "                \"This browser does not support binary websocket messages. \" +\n",
       "                    \"Performance may be slow.\");\n",
       "        }\n",
       "    }\n",
       "\n",
       "    this.imageObj = new Image();\n",
       "\n",
       "    this.context = undefined;\n",
       "    this.message = undefined;\n",
       "    this.canvas = undefined;\n",
       "    this.rubberband_canvas = undefined;\n",
       "    this.rubberband_context = undefined;\n",
       "    this.format_dropdown = undefined;\n",
       "\n",
       "    this.image_mode = 'full';\n",
       "\n",
       "    this.root = $('<div/>');\n",
       "    this._root_extra_style(this.root)\n",
       "    this.root.attr('style', 'display: inline-block');\n",
       "\n",
       "    $(parent_element).append(this.root);\n",
       "\n",
       "    this._init_header(this);\n",
       "    this._init_canvas(this);\n",
       "    this._init_toolbar(this);\n",
       "\n",
       "    var fig = this;\n",
       "\n",
       "    this.waiting = false;\n",
       "\n",
       "    this.ws.onopen =  function () {\n",
       "            fig.send_message(\"supports_binary\", {value: fig.supports_binary});\n",
       "            fig.send_message(\"send_image_mode\", {});\n",
       "            if (mpl.ratio != 1) {\n",
       "                fig.send_message(\"set_dpi_ratio\", {'dpi_ratio': mpl.ratio});\n",
       "            }\n",
       "            fig.send_message(\"refresh\", {});\n",
       "        }\n",
       "\n",
       "    this.imageObj.onload = function() {\n",
       "            if (fig.image_mode == 'full') {\n",
       "                // Full images could contain transparency (where diff images\n",
       "                // almost always do), so we need to clear the canvas so that\n",
       "                // there is no ghosting.\n",
       "                fig.context.clearRect(0, 0, fig.canvas.width, fig.canvas.height);\n",
       "            }\n",
       "            fig.context.drawImage(fig.imageObj, 0, 0);\n",
       "        };\n",
       "\n",
       "    this.imageObj.onunload = function() {\n",
       "        fig.ws.close();\n",
       "    }\n",
       "\n",
       "    this.ws.onmessage = this._make_on_message_function(this);\n",
       "\n",
       "    this.ondownload = ondownload;\n",
       "}\n",
       "\n",
       "mpl.figure.prototype._init_header = function() {\n",
       "    var titlebar = $(\n",
       "        '<div class=\"ui-dialog-titlebar ui-widget-header ui-corner-all ' +\n",
       "        'ui-helper-clearfix\"/>');\n",
       "    var titletext = $(\n",
       "        '<div class=\"ui-dialog-title\" style=\"width: 100%; ' +\n",
       "        'text-align: center; padding: 3px;\"/>');\n",
       "    titlebar.append(titletext)\n",
       "    this.root.append(titlebar);\n",
       "    this.header = titletext[0];\n",
       "}\n",
       "\n",
       "\n",
       "\n",
       "mpl.figure.prototype._canvas_extra_style = function(canvas_div) {\n",
       "\n",
       "}\n",
       "\n",
       "\n",
       "mpl.figure.prototype._root_extra_style = function(canvas_div) {\n",
       "\n",
       "}\n",
       "\n",
       "mpl.figure.prototype._init_canvas = function() {\n",
       "    var fig = this;\n",
       "\n",
       "    var canvas_div = $('<div/>');\n",
       "\n",
       "    canvas_div.attr('style', 'position: relative; clear: both; outline: 0');\n",
       "\n",
       "    function canvas_keyboard_event(event) {\n",
       "        return fig.key_event(event, event['data']);\n",
       "    }\n",
       "\n",
       "    canvas_div.keydown('key_press', canvas_keyboard_event);\n",
       "    canvas_div.keyup('key_release', canvas_keyboard_event);\n",
       "    this.canvas_div = canvas_div\n",
       "    this._canvas_extra_style(canvas_div)\n",
       "    this.root.append(canvas_div);\n",
       "\n",
       "    var canvas = $('<canvas/>');\n",
       "    canvas.addClass('mpl-canvas');\n",
       "    canvas.attr('style', \"left: 0; top: 0; z-index: 0; outline: 0\")\n",
       "\n",
       "    this.canvas = canvas[0];\n",
       "    this.context = canvas[0].getContext(\"2d\");\n",
       "\n",
       "    var backingStore = this.context.backingStorePixelRatio ||\n",
       "\tthis.context.webkitBackingStorePixelRatio ||\n",
       "\tthis.context.mozBackingStorePixelRatio ||\n",
       "\tthis.context.msBackingStorePixelRatio ||\n",
       "\tthis.context.oBackingStorePixelRatio ||\n",
       "\tthis.context.backingStorePixelRatio || 1;\n",
       "\n",
       "    mpl.ratio = (window.devicePixelRatio || 1) / backingStore;\n",
       "\n",
       "    var rubberband = $('<canvas/>');\n",
       "    rubberband.attr('style', \"position: absolute; left: 0; top: 0; z-index: 1;\")\n",
       "\n",
       "    var pass_mouse_events = true;\n",
       "\n",
       "    canvas_div.resizable({\n",
       "        start: function(event, ui) {\n",
       "            pass_mouse_events = false;\n",
       "        },\n",
       "        resize: function(event, ui) {\n",
       "            fig.request_resize(ui.size.width, ui.size.height);\n",
       "        },\n",
       "        stop: function(event, ui) {\n",
       "            pass_mouse_events = true;\n",
       "            fig.request_resize(ui.size.width, ui.size.height);\n",
       "        },\n",
       "    });\n",
       "\n",
       "    function mouse_event_fn(event) {\n",
       "        if (pass_mouse_events)\n",
       "            return fig.mouse_event(event, event['data']);\n",
       "    }\n",
       "\n",
       "    rubberband.mousedown('button_press', mouse_event_fn);\n",
       "    rubberband.mouseup('button_release', mouse_event_fn);\n",
       "    // Throttle sequential mouse events to 1 every 20ms.\n",
       "    rubberband.mousemove('motion_notify', mouse_event_fn);\n",
       "\n",
       "    rubberband.mouseenter('figure_enter', mouse_event_fn);\n",
       "    rubberband.mouseleave('figure_leave', mouse_event_fn);\n",
       "\n",
       "    canvas_div.on(\"wheel\", function (event) {\n",
       "        event = event.originalEvent;\n",
       "        event['data'] = 'scroll'\n",
       "        if (event.deltaY < 0) {\n",
       "            event.step = 1;\n",
       "        } else {\n",
       "            event.step = -1;\n",
       "        }\n",
       "        mouse_event_fn(event);\n",
       "    });\n",
       "\n",
       "    canvas_div.append(canvas);\n",
       "    canvas_div.append(rubberband);\n",
       "\n",
       "    this.rubberband = rubberband;\n",
       "    this.rubberband_canvas = rubberband[0];\n",
       "    this.rubberband_context = rubberband[0].getContext(\"2d\");\n",
       "    this.rubberband_context.strokeStyle = \"#000000\";\n",
       "\n",
       "    this._resize_canvas = function(width, height) {\n",
       "        // Keep the size of the canvas, canvas container, and rubber band\n",
       "        // canvas in synch.\n",
       "        canvas_div.css('width', width)\n",
       "        canvas_div.css('height', height)\n",
       "\n",
       "        canvas.attr('width', width * mpl.ratio);\n",
       "        canvas.attr('height', height * mpl.ratio);\n",
       "        canvas.attr('style', 'width: ' + width + 'px; height: ' + height + 'px;');\n",
       "\n",
       "        rubberband.attr('width', width);\n",
       "        rubberband.attr('height', height);\n",
       "    }\n",
       "\n",
       "    // Set the figure to an initial 600x600px, this will subsequently be updated\n",
       "    // upon first draw.\n",
       "    this._resize_canvas(600, 600);\n",
       "\n",
       "    // Disable right mouse context menu.\n",
       "    $(this.rubberband_canvas).bind(\"contextmenu\",function(e){\n",
       "        return false;\n",
       "    });\n",
       "\n",
       "    function set_focus () {\n",
       "        canvas.focus();\n",
       "        canvas_div.focus();\n",
       "    }\n",
       "\n",
       "    window.setTimeout(set_focus, 100);\n",
       "}\n",
       "\n",
       "mpl.figure.prototype._init_toolbar = function() {\n",
       "    var fig = this;\n",
       "\n",
       "    var nav_element = $('<div/>')\n",
       "    nav_element.attr('style', 'width: 100%');\n",
       "    this.root.append(nav_element);\n",
       "\n",
       "    // Define a callback function for later on.\n",
       "    function toolbar_event(event) {\n",
       "        return fig.toolbar_button_onclick(event['data']);\n",
       "    }\n",
       "    function toolbar_mouse_event(event) {\n",
       "        return fig.toolbar_button_onmouseover(event['data']);\n",
       "    }\n",
       "\n",
       "    for(var toolbar_ind in mpl.toolbar_items) {\n",
       "        var name = mpl.toolbar_items[toolbar_ind][0];\n",
       "        var tooltip = mpl.toolbar_items[toolbar_ind][1];\n",
       "        var image = mpl.toolbar_items[toolbar_ind][2];\n",
       "        var method_name = mpl.toolbar_items[toolbar_ind][3];\n",
       "\n",
       "        if (!name) {\n",
       "            // put a spacer in here.\n",
       "            continue;\n",
       "        }\n",
       "        var button = $('<button/>');\n",
       "        button.addClass('ui-button ui-widget ui-state-default ui-corner-all ' +\n",
       "                        'ui-button-icon-only');\n",
       "        button.attr('role', 'button');\n",
       "        button.attr('aria-disabled', 'false');\n",
       "        button.click(method_name, toolbar_event);\n",
       "        button.mouseover(tooltip, toolbar_mouse_event);\n",
       "\n",
       "        var icon_img = $('<span/>');\n",
       "        icon_img.addClass('ui-button-icon-primary ui-icon');\n",
       "        icon_img.addClass(image);\n",
       "        icon_img.addClass('ui-corner-all');\n",
       "\n",
       "        var tooltip_span = $('<span/>');\n",
       "        tooltip_span.addClass('ui-button-text');\n",
       "        tooltip_span.html(tooltip);\n",
       "\n",
       "        button.append(icon_img);\n",
       "        button.append(tooltip_span);\n",
       "\n",
       "        nav_element.append(button);\n",
       "    }\n",
       "\n",
       "    var fmt_picker_span = $('<span/>');\n",
       "\n",
       "    var fmt_picker = $('<select/>');\n",
       "    fmt_picker.addClass('mpl-toolbar-option ui-widget ui-widget-content');\n",
       "    fmt_picker_span.append(fmt_picker);\n",
       "    nav_element.append(fmt_picker_span);\n",
       "    this.format_dropdown = fmt_picker[0];\n",
       "\n",
       "    for (var ind in mpl.extensions) {\n",
       "        var fmt = mpl.extensions[ind];\n",
       "        var option = $(\n",
       "            '<option/>', {selected: fmt === mpl.default_extension}).html(fmt);\n",
       "        fmt_picker.append(option)\n",
       "    }\n",
       "\n",
       "    // Add hover states to the ui-buttons\n",
       "    $( \".ui-button\" ).hover(\n",
       "        function() { $(this).addClass(\"ui-state-hover\");},\n",
       "        function() { $(this).removeClass(\"ui-state-hover\");}\n",
       "    );\n",
       "\n",
       "    var status_bar = $('<span class=\"mpl-message\"/>');\n",
       "    nav_element.append(status_bar);\n",
       "    this.message = status_bar[0];\n",
       "}\n",
       "\n",
       "mpl.figure.prototype.request_resize = function(x_pixels, y_pixels) {\n",
       "    // Request matplotlib to resize the figure. Matplotlib will then trigger a resize in the client,\n",
       "    // which will in turn request a refresh of the image.\n",
       "    this.send_message('resize', {'width': x_pixels, 'height': y_pixels});\n",
       "}\n",
       "\n",
       "mpl.figure.prototype.send_message = function(type, properties) {\n",
       "    properties['type'] = type;\n",
       "    properties['figure_id'] = this.id;\n",
       "    this.ws.send(JSON.stringify(properties));\n",
       "}\n",
       "\n",
       "mpl.figure.prototype.send_draw_message = function() {\n",
       "    if (!this.waiting) {\n",
       "        this.waiting = true;\n",
       "        this.ws.send(JSON.stringify({type: \"draw\", figure_id: this.id}));\n",
       "    }\n",
       "}\n",
       "\n",
       "\n",
       "mpl.figure.prototype.handle_save = function(fig, msg) {\n",
       "    var format_dropdown = fig.format_dropdown;\n",
       "    var format = format_dropdown.options[format_dropdown.selectedIndex].value;\n",
       "    fig.ondownload(fig, format);\n",
       "}\n",
       "\n",
       "\n",
       "mpl.figure.prototype.handle_resize = function(fig, msg) {\n",
       "    var size = msg['size'];\n",
       "    if (size[0] != fig.canvas.width || size[1] != fig.canvas.height) {\n",
       "        fig._resize_canvas(size[0], size[1]);\n",
       "        fig.send_message(\"refresh\", {});\n",
       "    };\n",
       "}\n",
       "\n",
       "mpl.figure.prototype.handle_rubberband = function(fig, msg) {\n",
       "    var x0 = msg['x0'] / mpl.ratio;\n",
       "    var y0 = (fig.canvas.height - msg['y0']) / mpl.ratio;\n",
       "    var x1 = msg['x1'] / mpl.ratio;\n",
       "    var y1 = (fig.canvas.height - msg['y1']) / mpl.ratio;\n",
       "    x0 = Math.floor(x0) + 0.5;\n",
       "    y0 = Math.floor(y0) + 0.5;\n",
       "    x1 = Math.floor(x1) + 0.5;\n",
       "    y1 = Math.floor(y1) + 0.5;\n",
       "    var min_x = Math.min(x0, x1);\n",
       "    var min_y = Math.min(y0, y1);\n",
       "    var width = Math.abs(x1 - x0);\n",
       "    var height = Math.abs(y1 - y0);\n",
       "\n",
       "    fig.rubberband_context.clearRect(\n",
       "        0, 0, fig.canvas.width, fig.canvas.height);\n",
       "\n",
       "    fig.rubberband_context.strokeRect(min_x, min_y, width, height);\n",
       "}\n",
       "\n",
       "mpl.figure.prototype.handle_figure_label = function(fig, msg) {\n",
       "    // Updates the figure title.\n",
       "    fig.header.textContent = msg['label'];\n",
       "}\n",
       "\n",
       "mpl.figure.prototype.handle_cursor = function(fig, msg) {\n",
       "    var cursor = msg['cursor'];\n",
       "    switch(cursor)\n",
       "    {\n",
       "    case 0:\n",
       "        cursor = 'pointer';\n",
       "        break;\n",
       "    case 1:\n",
       "        cursor = 'default';\n",
       "        break;\n",
       "    case 2:\n",
       "        cursor = 'crosshair';\n",
       "        break;\n",
       "    case 3:\n",
       "        cursor = 'move';\n",
       "        break;\n",
       "    }\n",
       "    fig.rubberband_canvas.style.cursor = cursor;\n",
       "}\n",
       "\n",
       "mpl.figure.prototype.handle_message = function(fig, msg) {\n",
       "    fig.message.textContent = msg['message'];\n",
       "}\n",
       "\n",
       "mpl.figure.prototype.handle_draw = function(fig, msg) {\n",
       "    // Request the server to send over a new figure.\n",
       "    fig.send_draw_message();\n",
       "}\n",
       "\n",
       "mpl.figure.prototype.handle_image_mode = function(fig, msg) {\n",
       "    fig.image_mode = msg['mode'];\n",
       "}\n",
       "\n",
       "mpl.figure.prototype.updated_canvas_event = function() {\n",
       "    // Called whenever the canvas gets updated.\n",
       "    this.send_message(\"ack\", {});\n",
       "}\n",
       "\n",
       "// A function to construct a web socket function for onmessage handling.\n",
       "// Called in the figure constructor.\n",
       "mpl.figure.prototype._make_on_message_function = function(fig) {\n",
       "    return function socket_on_message(evt) {\n",
       "        if (evt.data instanceof Blob) {\n",
       "            /* FIXME: We get \"Resource interpreted as Image but\n",
       "             * transferred with MIME type text/plain:\" errors on\n",
       "             * Chrome.  But how to set the MIME type?  It doesn't seem\n",
       "             * to be part of the websocket stream */\n",
       "            evt.data.type = \"image/png\";\n",
       "\n",
       "            /* Free the memory for the previous frames */\n",
       "            if (fig.imageObj.src) {\n",
       "                (window.URL || window.webkitURL).revokeObjectURL(\n",
       "                    fig.imageObj.src);\n",
       "            }\n",
       "\n",
       "            fig.imageObj.src = (window.URL || window.webkitURL).createObjectURL(\n",
       "                evt.data);\n",
       "            fig.updated_canvas_event();\n",
       "            fig.waiting = false;\n",
       "            return;\n",
       "        }\n",
       "        else if (typeof evt.data === 'string' && evt.data.slice(0, 21) == \"data:image/png;base64\") {\n",
       "            fig.imageObj.src = evt.data;\n",
       "            fig.updated_canvas_event();\n",
       "            fig.waiting = false;\n",
       "            return;\n",
       "        }\n",
       "\n",
       "        var msg = JSON.parse(evt.data);\n",
       "        var msg_type = msg['type'];\n",
       "\n",
       "        // Call the  \"handle_{type}\" callback, which takes\n",
       "        // the figure and JSON message as its only arguments.\n",
       "        try {\n",
       "            var callback = fig[\"handle_\" + msg_type];\n",
       "        } catch (e) {\n",
       "            console.log(\"No handler for the '\" + msg_type + \"' message type: \", msg);\n",
       "            return;\n",
       "        }\n",
       "\n",
       "        if (callback) {\n",
       "            try {\n",
       "                // console.log(\"Handling '\" + msg_type + \"' message: \", msg);\n",
       "                callback(fig, msg);\n",
       "            } catch (e) {\n",
       "                console.log(\"Exception inside the 'handler_\" + msg_type + \"' callback:\", e, e.stack, msg);\n",
       "            }\n",
       "        }\n",
       "    };\n",
       "}\n",
       "\n",
       "// from http://stackoverflow.com/questions/1114465/getting-mouse-location-in-canvas\n",
       "mpl.findpos = function(e) {\n",
       "    //this section is from http://www.quirksmode.org/js/events_properties.html\n",
       "    var targ;\n",
       "    if (!e)\n",
       "        e = window.event;\n",
       "    if (e.target)\n",
       "        targ = e.target;\n",
       "    else if (e.srcElement)\n",
       "        targ = e.srcElement;\n",
       "    if (targ.nodeType == 3) // defeat Safari bug\n",
       "        targ = targ.parentNode;\n",
       "\n",
       "    // jQuery normalizes the pageX and pageY\n",
       "    // pageX,Y are the mouse positions relative to the document\n",
       "    // offset() returns the position of the element relative to the document\n",
       "    var x = e.pageX - $(targ).offset().left;\n",
       "    var y = e.pageY - $(targ).offset().top;\n",
       "\n",
       "    return {\"x\": x, \"y\": y};\n",
       "};\n",
       "\n",
       "/*\n",
       " * return a copy of an object with only non-object keys\n",
       " * we need this to avoid circular references\n",
       " * http://stackoverflow.com/a/24161582/3208463\n",
       " */\n",
       "function simpleKeys (original) {\n",
       "  return Object.keys(original).reduce(function (obj, key) {\n",
       "    if (typeof original[key] !== 'object')\n",
       "        obj[key] = original[key]\n",
       "    return obj;\n",
       "  }, {});\n",
       "}\n",
       "\n",
       "mpl.figure.prototype.mouse_event = function(event, name) {\n",
       "    var canvas_pos = mpl.findpos(event)\n",
       "\n",
       "    if (name === 'button_press')\n",
       "    {\n",
       "        this.canvas.focus();\n",
       "        this.canvas_div.focus();\n",
       "    }\n",
       "\n",
       "    var x = canvas_pos.x * mpl.ratio;\n",
       "    var y = canvas_pos.y * mpl.ratio;\n",
       "\n",
       "    this.send_message(name, {x: x, y: y, button: event.button,\n",
       "                             step: event.step,\n",
       "                             guiEvent: simpleKeys(event)});\n",
       "\n",
       "    /* This prevents the web browser from automatically changing to\n",
       "     * the text insertion cursor when the button is pressed.  We want\n",
       "     * to control all of the cursor setting manually through the\n",
       "     * 'cursor' event from matplotlib */\n",
       "    event.preventDefault();\n",
       "    return false;\n",
       "}\n",
       "\n",
       "mpl.figure.prototype._key_event_extra = function(event, name) {\n",
       "    // Handle any extra behaviour associated with a key event\n",
       "}\n",
       "\n",
       "mpl.figure.prototype.key_event = function(event, name) {\n",
       "\n",
       "    // Prevent repeat events\n",
       "    if (name == 'key_press')\n",
       "    {\n",
       "        if (event.which === this._key)\n",
       "            return;\n",
       "        else\n",
       "            this._key = event.which;\n",
       "    }\n",
       "    if (name == 'key_release')\n",
       "        this._key = null;\n",
       "\n",
       "    var value = '';\n",
       "    if (event.ctrlKey && event.which != 17)\n",
       "        value += \"ctrl+\";\n",
       "    if (event.altKey && event.which != 18)\n",
       "        value += \"alt+\";\n",
       "    if (event.shiftKey && event.which != 16)\n",
       "        value += \"shift+\";\n",
       "\n",
       "    value += 'k';\n",
       "    value += event.which.toString();\n",
       "\n",
       "    this._key_event_extra(event, name);\n",
       "\n",
       "    this.send_message(name, {key: value,\n",
       "                             guiEvent: simpleKeys(event)});\n",
       "    return false;\n",
       "}\n",
       "\n",
       "mpl.figure.prototype.toolbar_button_onclick = function(name) {\n",
       "    if (name == 'download') {\n",
       "        this.handle_save(this, null);\n",
       "    } else {\n",
       "        this.send_message(\"toolbar_button\", {name: name});\n",
       "    }\n",
       "};\n",
       "\n",
       "mpl.figure.prototype.toolbar_button_onmouseover = function(tooltip) {\n",
       "    this.message.textContent = tooltip;\n",
       "};\n",
       "mpl.toolbar_items = [[\"Home\", \"Reset original view\", \"fa fa-home icon-home\", \"home\"], [\"Back\", \"Back to previous view\", \"fa fa-arrow-left icon-arrow-left\", \"back\"], [\"Forward\", \"Forward to next view\", \"fa fa-arrow-right icon-arrow-right\", \"forward\"], [\"\", \"\", \"\", \"\"], [\"Pan\", \"Pan axes with left mouse, zoom with right\", \"fa fa-arrows icon-move\", \"pan\"], [\"Zoom\", \"Zoom to rectangle\", \"fa fa-square-o icon-check-empty\", \"zoom\"], [\"\", \"\", \"\", \"\"], [\"Download\", \"Download plot\", \"fa fa-floppy-o icon-save\", \"download\"]];\n",
       "\n",
       "mpl.extensions = [\"eps\", \"jpeg\", \"pdf\", \"png\", \"ps\", \"raw\", \"svg\", \"tif\"];\n",
       "\n",
       "mpl.default_extension = \"png\";var comm_websocket_adapter = function(comm) {\n",
       "    // Create a \"websocket\"-like object which calls the given IPython comm\n",
       "    // object with the appropriate methods. Currently this is a non binary\n",
       "    // socket, so there is still some room for performance tuning.\n",
       "    var ws = {};\n",
       "\n",
       "    ws.close = function() {\n",
       "        comm.close()\n",
       "    };\n",
       "    ws.send = function(m) {\n",
       "        //console.log('sending', m);\n",
       "        comm.send(m);\n",
       "    };\n",
       "    // Register the callback with on_msg.\n",
       "    comm.on_msg(function(msg) {\n",
       "        //console.log('receiving', msg['content']['data'], msg);\n",
       "        // Pass the mpl event to the overridden (by mpl) onmessage function.\n",
       "        ws.onmessage(msg['content']['data'])\n",
       "    });\n",
       "    return ws;\n",
       "}\n",
       "\n",
       "mpl.mpl_figure_comm = function(comm, msg) {\n",
       "    // This is the function which gets called when the mpl process\n",
       "    // starts-up an IPython Comm through the \"matplotlib\" channel.\n",
       "\n",
       "    var id = msg.content.data.id;\n",
       "    // Get hold of the div created by the display call when the Comm\n",
       "    // socket was opened in Python.\n",
       "    var element = $(\"#\" + id);\n",
       "    var ws_proxy = comm_websocket_adapter(comm)\n",
       "\n",
       "    function ondownload(figure, format) {\n",
       "        window.open(figure.imageObj.src);\n",
       "    }\n",
       "\n",
       "    var fig = new mpl.figure(id, ws_proxy,\n",
       "                           ondownload,\n",
       "                           element.get(0));\n",
       "\n",
       "    // Call onopen now - mpl needs it, as it is assuming we've passed it a real\n",
       "    // web socket which is closed, not our websocket->open comm proxy.\n",
       "    ws_proxy.onopen();\n",
       "\n",
       "    fig.parent_element = element.get(0);\n",
       "    fig.cell_info = mpl.find_output_cell(\"<div id='\" + id + \"'></div>\");\n",
       "    if (!fig.cell_info) {\n",
       "        console.error(\"Failed to find cell for figure\", id, fig);\n",
       "        return;\n",
       "    }\n",
       "\n",
       "    var output_index = fig.cell_info[2]\n",
       "    var cell = fig.cell_info[0];\n",
       "\n",
       "};\n",
       "\n",
       "mpl.figure.prototype.handle_close = function(fig, msg) {\n",
       "    var width = fig.canvas.width/mpl.ratio\n",
       "    fig.root.unbind('remove')\n",
       "\n",
       "    // Update the output cell to use the data from the current canvas.\n",
       "    fig.push_to_output();\n",
       "    var dataURL = fig.canvas.toDataURL();\n",
       "    // Re-enable the keyboard manager in IPython - without this line, in FF,\n",
       "    // the notebook keyboard shortcuts fail.\n",
       "    IPython.keyboard_manager.enable()\n",
       "    $(fig.parent_element).html('<img src=\"' + dataURL + '\" width=\"' + width + '\">');\n",
       "    fig.close_ws(fig, msg);\n",
       "}\n",
       "\n",
       "mpl.figure.prototype.close_ws = function(fig, msg){\n",
       "    fig.send_message('closing', msg);\n",
       "    // fig.ws.close()\n",
       "}\n",
       "\n",
       "mpl.figure.prototype.push_to_output = function(remove_interactive) {\n",
       "    // Turn the data on the canvas into data in the output cell.\n",
       "    var width = this.canvas.width/mpl.ratio\n",
       "    var dataURL = this.canvas.toDataURL();\n",
       "    this.cell_info[1]['text/html'] = '<img src=\"' + dataURL + '\" width=\"' + width + '\">';\n",
       "}\n",
       "\n",
       "mpl.figure.prototype.updated_canvas_event = function() {\n",
       "    // Tell IPython that the notebook contents must change.\n",
       "    IPython.notebook.set_dirty(true);\n",
       "    this.send_message(\"ack\", {});\n",
       "    var fig = this;\n",
       "    // Wait a second, then push the new image to the DOM so\n",
       "    // that it is saved nicely (might be nice to debounce this).\n",
       "    setTimeout(function () { fig.push_to_output() }, 1000);\n",
       "}\n",
       "\n",
       "mpl.figure.prototype._init_toolbar = function() {\n",
       "    var fig = this;\n",
       "\n",
       "    var nav_element = $('<div/>')\n",
       "    nav_element.attr('style', 'width: 100%');\n",
       "    this.root.append(nav_element);\n",
       "\n",
       "    // Define a callback function for later on.\n",
       "    function toolbar_event(event) {\n",
       "        return fig.toolbar_button_onclick(event['data']);\n",
       "    }\n",
       "    function toolbar_mouse_event(event) {\n",
       "        return fig.toolbar_button_onmouseover(event['data']);\n",
       "    }\n",
       "\n",
       "    for(var toolbar_ind in mpl.toolbar_items){\n",
       "        var name = mpl.toolbar_items[toolbar_ind][0];\n",
       "        var tooltip = mpl.toolbar_items[toolbar_ind][1];\n",
       "        var image = mpl.toolbar_items[toolbar_ind][2];\n",
       "        var method_name = mpl.toolbar_items[toolbar_ind][3];\n",
       "\n",
       "        if (!name) { continue; };\n",
       "\n",
       "        var button = $('<button class=\"btn btn-default\" href=\"#\" title=\"' + name + '\"><i class=\"fa ' + image + ' fa-lg\"></i></button>');\n",
       "        button.click(method_name, toolbar_event);\n",
       "        button.mouseover(tooltip, toolbar_mouse_event);\n",
       "        nav_element.append(button);\n",
       "    }\n",
       "\n",
       "    // Add the status bar.\n",
       "    var status_bar = $('<span class=\"mpl-message\" style=\"text-align:right; float: right;\"/>');\n",
       "    nav_element.append(status_bar);\n",
       "    this.message = status_bar[0];\n",
       "\n",
       "    // Add the close button to the window.\n",
       "    var buttongrp = $('<div class=\"btn-group inline pull-right\"></div>');\n",
       "    var button = $('<button class=\"btn btn-mini btn-primary\" href=\"#\" title=\"Stop Interaction\"><i class=\"fa fa-power-off icon-remove icon-large\"></i></button>');\n",
       "    button.click(function (evt) { fig.handle_close(fig, {}); } );\n",
       "    button.mouseover('Stop Interaction', toolbar_mouse_event);\n",
       "    buttongrp.append(button);\n",
       "    var titlebar = this.root.find($('.ui-dialog-titlebar'));\n",
       "    titlebar.prepend(buttongrp);\n",
       "}\n",
       "\n",
       "mpl.figure.prototype._root_extra_style = function(el){\n",
       "    var fig = this\n",
       "    el.on(\"remove\", function(){\n",
       "\tfig.close_ws(fig, {});\n",
       "    });\n",
       "}\n",
       "\n",
       "mpl.figure.prototype._canvas_extra_style = function(el){\n",
       "    // this is important to make the div 'focusable\n",
       "    el.attr('tabindex', 0)\n",
       "    // reach out to IPython and tell the keyboard manager to turn it's self\n",
       "    // off when our div gets focus\n",
       "\n",
       "    // location in version 3\n",
       "    if (IPython.notebook.keyboard_manager) {\n",
       "        IPython.notebook.keyboard_manager.register_events(el);\n",
       "    }\n",
       "    else {\n",
       "        // location in version 2\n",
       "        IPython.keyboard_manager.register_events(el);\n",
       "    }\n",
       "\n",
       "}\n",
       "\n",
       "mpl.figure.prototype._key_event_extra = function(event, name) {\n",
       "    var manager = IPython.notebook.keyboard_manager;\n",
       "    if (!manager)\n",
       "        manager = IPython.keyboard_manager;\n",
       "\n",
       "    // Check for shift+enter\n",
       "    if (event.shiftKey && event.which == 13) {\n",
       "        this.canvas_div.blur();\n",
       "        event.shiftKey = false;\n",
       "        // Send a \"J\" for go to next cell\n",
       "        event.which = 74;\n",
       "        event.keyCode = 74;\n",
       "        manager.command_mode();\n",
       "        manager.handle_keydown(event);\n",
       "    }\n",
       "}\n",
       "\n",
       "mpl.figure.prototype.handle_save = function(fig, msg) {\n",
       "    fig.ondownload(fig, null);\n",
       "}\n",
       "\n",
       "\n",
       "mpl.find_output_cell = function(html_output) {\n",
       "    // Return the cell and output element which can be found *uniquely* in the notebook.\n",
       "    // Note - this is a bit hacky, but it is done because the \"notebook_saving.Notebook\"\n",
       "    // IPython event is triggered only after the cells have been serialised, which for\n",
       "    // our purposes (turning an active figure into a static one), is too late.\n",
       "    var cells = IPython.notebook.get_cells();\n",
       "    var ncells = cells.length;\n",
       "    for (var i=0; i<ncells; i++) {\n",
       "        var cell = cells[i];\n",
       "        if (cell.cell_type === 'code'){\n",
       "            for (var j=0; j<cell.output_area.outputs.length; j++) {\n",
       "                var data = cell.output_area.outputs[j];\n",
       "                if (data.data) {\n",
       "                    // IPython >= 3 moved mimebundle to data attribute of output\n",
       "                    data = data.data;\n",
       "                }\n",
       "                if (data['text/html'] == html_output) {\n",
       "                    return [cell, data, j];\n",
       "                }\n",
       "            }\n",
       "        }\n",
       "    }\n",
       "}\n",
       "\n",
       "// Register the function which deals with the matplotlib target/channel.\n",
       "// The kernel may be null if the page has been refreshed.\n",
       "if (IPython.notebook.kernel != null) {\n",
       "    IPython.notebook.kernel.comm_manager.register_target('matplotlib', mpl.mpl_figure_comm);\n",
       "}\n"
      ],
      "text/plain": [
       "<IPython.core.display.Javascript object>"
      ]
     },
     "metadata": {},
     "output_type": "display_data"
    },
    {
     "data": {
      "text/html": [
       "<img src=\"data:image/png;base64,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\" width=\"432\">"
      ],
      "text/plain": [
       "<IPython.core.display.HTML object>"
      ]
     },
     "metadata": {},
     "output_type": "display_data"
    },
    {
     "data": {
      "text/plain": [
       "Text(0.5, 1.0, 'Senos y Cosenos')"
      ]
     },
     "execution_count": 29,
     "metadata": {},
     "output_type": "execute_result"
    }
   ],
   "source": [
    "x1 = np.linspace(0, 2*np.pi, 101)\n",
    "x2 = np.linspace(0, 2*np.pi, 11)\n",
    "y1 = np.sin(x1)\n",
    "y2 = np.sin(x2)\n",
    "x1 = np.linspace(0, 2*np.pi, 101)\n",
    "x2 = np.linspace(0, 2*np.pi, 11)\n",
    "z1 = np.cos(x1)\n",
    "z2 = np.cos(x2)\n",
    "\n",
    "plt.figure()\n",
    "plt.plot(x1, y1)\n",
    "plt.plot(x2, y2)\n",
    "plt.plot(x1, z1)\n",
    "plt.plot(x2, z2)\n",
    "plt.legend(['Seno(x1)','Seno(x2)', 'Cos(x1)', 'Cos(x2)'])\n",
    "plt.xlabel('X')\n",
    "plt.ylabel('Y')\n",
    "plt.title('Senos y Cosenos')"
   ]
  },
  {
   "cell_type": "code",
   "execution_count": 25,
   "metadata": {
    "slideshow": {
     "slide_type": "subslide"
    }
   },
   "outputs": [
    {
     "data": {
      "image/png": "[encoded data removed]",
      "text/plain": [
       "<Figure size 432x288 with 1 Axes>"
      ]
     },
     "metadata": {
      "needs_background": "light"
     },
     "output_type": "display_data"
    }
   ],
   "source": [
    "# Datos:\n",
    "x = np.arange(0, 10, 0.01)\n",
    "y = np.exp(-x/2.) * np.sin(2*np.pi*x)\n",
    "\n",
    "# Generación del plot:\n",
    "fig, ax = plt.subplots()\n",
    "ax.plot(x, y)\n",
    "ax.set_xlim(0, 10)\n",
    "ax.set_ylim(-1, 1)\n",
    "\n",
    "xdata, ydata = 5, 0\n",
    "xdisplay, ydisplay = ax.transData.transform_point((xdata, ydata))\n",
    "\n",
    "bbox = dict(boxstyle=\"round\", fc=\"0.8\")\n",
    "arrowprops = dict(\n",
    "    arrowstyle = \"->\",\n",
    "    connectionstyle = \"angle,angleA=0,angleB=90,rad=10\")\n",
    "\n",
    "offset = 72\n",
    "ax.annotate('data = (%.1f, %.1f)'%(xdata, ydata),\n",
    "            (xdata, ydata), xytext=(-2*offset, offset), textcoords='offset points',\n",
    "            bbox=bbox, arrowprops=arrowprops)\n",
    "\n",
    "\n",
    "disp = ax.annotate('display = (%.1f, %.1f)'%(xdisplay, ydisplay),\n",
    "            (xdisplay, ydisplay), xytext=(0.5*offset, -offset),\n",
    "            xycoords='figure pixels',\n",
    "            textcoords='offset points',\n",
    "            bbox=bbox, arrowprops=arrowprops)\n",
    "\n",
    "plt.show() #Esto solo para ficheros .py"
   ]
  },
  {
   "cell_type": "code",
   "execution_count": null,
   "metadata": {},
   "outputs": [],
   "source": []
  }
 ],
 "metadata": {
  "celltoolbar": "Slideshow",
  "kernelspec": {
   "display_name": "Python 3 (ipykernel)",
   "language": "python",
   "name": "python3"
  },
  "language_info": {
   "codemirror_mode": {
    "name": "ipython",
    "version": 3
   },
   "file_extension": ".py",
   "mimetype": "text/x-python",
   "name": "python",
   "nbconvert_exporter": "python",
   "pygments_lexer": "ipython3",
   "version": "3.9.13"
  }
 },
 "nbformat": 4,
 "nbformat_minor": 4
}
