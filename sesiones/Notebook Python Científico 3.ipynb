{
 "cells": [
  {
   "cell_type": "markdown",
   "metadata": {
    "slideshow": {
     "slide_type": "slide"
    }
   },
   "source": [
    "# Sesión 3: Álgebra Lineal y Cálculo numérico\n",
    "\n",
    "$$ $$\n",
    "$$ $$\n",
    "$$ $$\n",
    "$$ $$\n",
    "$$ $$\n",
    "$$ $$\n",
    "  \n",
    "\n",
    "#### Introducción a Python para Ingeniería\n",
    "#### M. Rodríguez, 2020 - 2022"
   ]
  },
  {
   "cell_type": "markdown",
   "metadata": {
    "slideshow": {
     "slide_type": "slide"
    }
   },
   "source": [
    "## Contenido del Notebook:\n",
    "\n",
    "1. Álgebra Lineal en Numpy:\n",
    "    1. Determinante y norma\n",
    "    2. Producto vectorial\n",
    "    3. Producto matricial\n",
    "    4. Autovalor y autovector\n",
    "    5. Carga de datos\n",
    "\n",
    "2. Scipy:\n",
    "    1. Estadística\n",
    "    2. Optimización, ajuste de curva e interpolación\n",
    "    3. Integración numérica\n",
    "    4. Derivación numérica\n"
   ]
  },
  {
   "cell_type": "markdown",
   "metadata": {
    "slideshow": {
     "slide_type": "slide"
    }
   },
   "source": [
    "## 1) Álgebra Lineal en Numpy:\n",
    "\n",
    "\n",
    "Probaremos a continuación algunas de las funcionalidades de álgebra lineal disponibles en Numpy. Podemos obtener una lista del contenido acudiendo a la ayuda del paquete:"
   ]
  },
  {
   "cell_type": "code",
   "execution_count": 1,
   "metadata": {
    "slideshow": {
     "slide_type": "subslide"
    },
    "tags": []
   },
   "outputs": [],
   "source": [
    "import numpy as np"
   ]
  },
  {
   "cell_type": "markdown",
   "metadata": {},
   "source": [
    ">`help(np)`"
   ]
  },
  {
   "cell_type": "markdown",
   "metadata": {
    "slideshow": {
     "slide_type": "subslide"
    }
   },
   "source": [
    "El contenido de la librería de álgebra lineal está compuesto por:\n",
    "- Álgebra lineal\n",
    "  - Norma\n",
    "  - Inversa\n",
    "  - Pseudoinversa\n",
    "  - Determinante\n",
    "  - Mínimos Cuadrados\n",
    "  - Sistema lineal\n",
    "  \n",
    "- Autovalores y Autovectores\n",
    "- Descomposición matricial\n",
    "  - SVD\n",
    "  - QR\n",
    "  - Cholesky\n",
    "- Tensores"
   ]
  },
  {
   "cell_type": "markdown",
   "metadata": {
    "slideshow": {
     "slide_type": "subslide"
    }
   },
   "source": [
    "Para ejemplificar el uso de esta librería, vamos a declarar una matriz:"
   ]
  },
  {
   "cell_type": "code",
   "execution_count": 2,
   "metadata": {
    "slideshow": {
     "slide_type": "fragment"
    }
   },
   "outputs": [],
   "source": [
    "Matriz = np.array([[1,2], [3,4]])"
   ]
  },
  {
   "cell_type": "markdown",
   "metadata": {
    "slideshow": {
     "slide_type": "-"
    }
   },
   "source": [
    "Una matriz se puede definir como tipo `matriz` en lugar de tipo `array`, por practicidad seguiremos como `array`."
   ]
  },
  {
   "cell_type": "markdown",
   "metadata": {
    "slideshow": {
     "slide_type": "subslide"
    }
   },
   "source": [
    "Ahora, con la matriz definida, podemos calcular su determinante:"
   ]
  },
  {
   "cell_type": "code",
   "execution_count": 3,
   "metadata": {
    "slideshow": {
     "slide_type": "fragment"
    }
   },
   "outputs": [
    {
     "data": {
      "text/plain": [
       "-2.0000000000000004"
      ]
     },
     "execution_count": 3,
     "metadata": {},
     "output_type": "execute_result"
    }
   ],
   "source": [
    "np.linalg.det(Matriz)"
   ]
  },
  {
   "cell_type": "markdown",
   "metadata": {
    "slideshow": {
     "slide_type": "subslide"
    }
   },
   "source": [
    "O su descomposición de Cholesky (descomposición en matrices reducidas):"
   ]
  },
  {
   "cell_type": "code",
   "execution_count": 4,
   "metadata": {},
   "outputs": [
    {
     "ename": "LinAlgError",
     "evalue": "Matrix is not positive definite",
     "output_type": "error",
     "traceback": [
      "\u001b[1;31m---------------------------------------------------------------------------\u001b[0m",
      "\u001b[1;31mLinAlgError\u001b[0m                               Traceback (most recent call last)",
      "\u001b[1;32m<ipython-input-4-89cd61a322d3>\u001b[0m in \u001b[0;36m<module>\u001b[1;34m\u001b[0m\n\u001b[1;32m----> 1\u001b[1;33m \u001b[0mnp\u001b[0m\u001b[1;33m.\u001b[0m\u001b[0mlinalg\u001b[0m\u001b[1;33m.\u001b[0m\u001b[0mcholesky\u001b[0m\u001b[1;33m(\u001b[0m\u001b[0mMatriz\u001b[0m\u001b[1;33m)\u001b[0m\u001b[1;33m\u001b[0m\u001b[1;33m\u001b[0m\u001b[0m\n\u001b[0m",
      "\u001b[1;32m<__array_function__ internals>\u001b[0m in \u001b[0;36mcholesky\u001b[1;34m(*args, **kwargs)\u001b[0m\n",
      "\u001b[1;32m~\\anaconda3\\lib\\site-packages\\numpy\\linalg\\linalg.py\u001b[0m in \u001b[0;36mcholesky\u001b[1;34m(a)\u001b[0m\n\u001b[0;32m    761\u001b[0m     \u001b[0mt\u001b[0m\u001b[1;33m,\u001b[0m \u001b[0mresult_t\u001b[0m \u001b[1;33m=\u001b[0m \u001b[0m_commonType\u001b[0m\u001b[1;33m(\u001b[0m\u001b[0ma\u001b[0m\u001b[1;33m)\u001b[0m\u001b[1;33m\u001b[0m\u001b[1;33m\u001b[0m\u001b[0m\n\u001b[0;32m    762\u001b[0m     \u001b[0msignature\u001b[0m \u001b[1;33m=\u001b[0m \u001b[1;34m'D->D'\u001b[0m \u001b[1;32mif\u001b[0m \u001b[0misComplexType\u001b[0m\u001b[1;33m(\u001b[0m\u001b[0mt\u001b[0m\u001b[1;33m)\u001b[0m \u001b[1;32melse\u001b[0m \u001b[1;34m'd->d'\u001b[0m\u001b[1;33m\u001b[0m\u001b[1;33m\u001b[0m\u001b[0m\n\u001b[1;32m--> 763\u001b[1;33m     \u001b[0mr\u001b[0m \u001b[1;33m=\u001b[0m \u001b[0mgufunc\u001b[0m\u001b[1;33m(\u001b[0m\u001b[0ma\u001b[0m\u001b[1;33m,\u001b[0m \u001b[0msignature\u001b[0m\u001b[1;33m=\u001b[0m\u001b[0msignature\u001b[0m\u001b[1;33m,\u001b[0m \u001b[0mextobj\u001b[0m\u001b[1;33m=\u001b[0m\u001b[0mextobj\u001b[0m\u001b[1;33m)\u001b[0m\u001b[1;33m\u001b[0m\u001b[1;33m\u001b[0m\u001b[0m\n\u001b[0m\u001b[0;32m    764\u001b[0m     \u001b[1;32mreturn\u001b[0m \u001b[0mwrap\u001b[0m\u001b[1;33m(\u001b[0m\u001b[0mr\u001b[0m\u001b[1;33m.\u001b[0m\u001b[0mastype\u001b[0m\u001b[1;33m(\u001b[0m\u001b[0mresult_t\u001b[0m\u001b[1;33m,\u001b[0m \u001b[0mcopy\u001b[0m\u001b[1;33m=\u001b[0m\u001b[1;32mFalse\u001b[0m\u001b[1;33m)\u001b[0m\u001b[1;33m)\u001b[0m\u001b[1;33m\u001b[0m\u001b[1;33m\u001b[0m\u001b[0m\n\u001b[0;32m    765\u001b[0m \u001b[1;33m\u001b[0m\u001b[0m\n",
      "\u001b[1;32m~\\anaconda3\\lib\\site-packages\\numpy\\linalg\\linalg.py\u001b[0m in \u001b[0;36m_raise_linalgerror_nonposdef\u001b[1;34m(err, flag)\u001b[0m\n\u001b[0;32m     89\u001b[0m \u001b[1;33m\u001b[0m\u001b[0m\n\u001b[0;32m     90\u001b[0m \u001b[1;32mdef\u001b[0m \u001b[0m_raise_linalgerror_nonposdef\u001b[0m\u001b[1;33m(\u001b[0m\u001b[0merr\u001b[0m\u001b[1;33m,\u001b[0m \u001b[0mflag\u001b[0m\u001b[1;33m)\u001b[0m\u001b[1;33m:\u001b[0m\u001b[1;33m\u001b[0m\u001b[1;33m\u001b[0m\u001b[0m\n\u001b[1;32m---> 91\u001b[1;33m     \u001b[1;32mraise\u001b[0m \u001b[0mLinAlgError\u001b[0m\u001b[1;33m(\u001b[0m\u001b[1;34m\"Matrix is not positive definite\"\u001b[0m\u001b[1;33m)\u001b[0m\u001b[1;33m\u001b[0m\u001b[1;33m\u001b[0m\u001b[0m\n\u001b[0m\u001b[0;32m     92\u001b[0m \u001b[1;33m\u001b[0m\u001b[0m\n\u001b[0;32m     93\u001b[0m \u001b[1;32mdef\u001b[0m \u001b[0m_raise_linalgerror_eigenvalues_nonconvergence\u001b[0m\u001b[1;33m(\u001b[0m\u001b[0merr\u001b[0m\u001b[1;33m,\u001b[0m \u001b[0mflag\u001b[0m\u001b[1;33m)\u001b[0m\u001b[1;33m:\u001b[0m\u001b[1;33m\u001b[0m\u001b[1;33m\u001b[0m\u001b[0m\n",
      "\u001b[1;31mLinAlgError\u001b[0m: Matrix is not positive definite"
     ]
    }
   ],
   "source": [
    "np.linalg.cholesky(Matriz)"
   ]
  },
  {
   "cell_type": "markdown",
   "metadata": {
    "slideshow": {
     "slide_type": "subslide"
    }
   },
   "source": [
    "La matriz debe ser definida positiva... Podemos comprobarlo antes: Los autovalores de una matriz indican si es definida positiva en caso de que sean todos ellos positivos.\n",
    "\n",
    "\n",
    "Para la matriz $  M=\n",
    "  \\left[ {\\begin{array}{cc}\n",
    "   2 & -1 & 1 \\\\\n",
    "   -1 & 1 & 0 \\\\\n",
    "   0 & 0 & 1\\\\\n",
    "  \\end{array} } \\right]$ Empecemos por comprobar sus autovalores:"
   ]
  },
  {
   "cell_type": "code",
   "execution_count": 5,
   "metadata": {
    "slideshow": {
     "slide_type": "-"
    }
   },
   "outputs": [
    {
     "name": "stdout",
     "output_type": "stream",
     "text": [
      "[[ 2 -1  1]\n",
      " [-1  1  0]\n",
      " [ 0  0  1]]\n"
     ]
    }
   ],
   "source": [
    "M=np.array([[2,-1,1], [-1,1,0], [0,0,1]])\n",
    "print(M)"
   ]
  },
  {
   "cell_type": "code",
   "execution_count": 6,
   "metadata": {
    "slideshow": {
     "slide_type": "fragment"
    }
   },
   "outputs": [
    {
     "name": "stdout",
     "output_type": "stream",
     "text": [
      "Autovalores obtenidos: [2.61803399 0.38196601 1.        ]\n",
      "Comprobación del signo de los autovalores. Todos positivos? True\n"
     ]
    }
   ],
   "source": [
    "eigv = np.linalg.eigvals(M)\n",
    "print('Autovalores obtenidos:', eigv)\n",
    "\n",
    "print('Comprobación del signo de los autovalores. Todos positivos?', np.all(eigv>0))"
   ]
  },
  {
   "cell_type": "markdown",
   "metadata": {
    "slideshow": {
     "slide_type": "subslide"
    }
   },
   "source": [
    "Ahora sí, calculamos la descomposición de Cholesky:"
   ]
  },
  {
   "cell_type": "code",
   "execution_count": 7,
   "metadata": {
    "slideshow": {
     "slide_type": "-"
    }
   },
   "outputs": [
    {
     "name": "stdout",
     "output_type": "stream",
     "text": [
      "[[ 1.41421356  0.          0.        ]\n",
      " [-0.70710678  0.70710678  0.        ]\n",
      " [ 0.          0.          1.        ]]\n"
     ]
    }
   ],
   "source": [
    "M_Chlsk = np.linalg.cholesky(M)\n",
    "print(M_Chlsk)"
   ]
  },
  {
   "cell_type": "markdown",
   "metadata": {
    "slideshow": {
     "slide_type": "subslide"
    }
   },
   "source": [
    "Si queremos obtener una trapuesta se puede recurrir a cualquiera de estas opciones:"
   ]
  },
  {
   "cell_type": "code",
   "execution_count": 8,
   "metadata": {},
   "outputs": [
    {
     "data": {
      "text/plain": [
       "array([[ 1.41421356, -0.70710678,  0.        ],\n",
       "       [ 0.        ,  0.70710678,  0.        ],\n",
       "       [ 0.        ,  0.        ,  1.        ]])"
      ]
     },
     "execution_count": 8,
     "metadata": {},
     "output_type": "execute_result"
    }
   ],
   "source": [
    "M_Chlsk.T"
   ]
  },
  {
   "cell_type": "code",
   "execution_count": 9,
   "metadata": {
    "scrolled": true
   },
   "outputs": [
    {
     "data": {
      "text/plain": [
       "array([[ 1.41421356, -0.70710678,  0.        ],\n",
       "       [ 0.        ,  0.70710678,  0.        ],\n",
       "       [ 0.        ,  0.        ,  1.        ]])"
      ]
     },
     "execution_count": 9,
     "metadata": {},
     "output_type": "execute_result"
    }
   ],
   "source": [
    "np.transpose(M_Chlsk)"
   ]
  },
  {
   "cell_type": "markdown",
   "metadata": {
    "slideshow": {
     "slide_type": "subslide"
    }
   },
   "source": [
    "Así, por ejemplo, si queremos recuperar la matriz original desde la descomposición de Cholesky:"
   ]
  },
  {
   "cell_type": "code",
   "execution_count": 12,
   "metadata": {},
   "outputs": [
    {
     "data": {
      "text/plain": [
       "array([[ 2., -1.,  0.],\n",
       "       [-1.,  1.,  0.],\n",
       "       [ 0.,  0.,  1.]])"
      ]
     },
     "execution_count": 12,
     "metadata": {},
     "output_type": "execute_result"
    }
   ],
   "source": [
    "M_Chlsk@M_Chlsk.T"
   ]
  },
  {
   "cell_type": "markdown",
   "metadata": {},
   "source": [
    "De forma que el producto matricial puede obtener de manera sencilla con el operador `@`. La norma de la matriz puede obtenerse:"
   ]
  },
  {
   "cell_type": "markdown",
   "metadata": {
    "slideshow": {
     "slide_type": "subslide"
    }
   },
   "source": [
    "Si ahora definimos un vector $v=[1, 2, 2]$, podemos calcular el producto vectorial mediante:"
   ]
  },
  {
   "cell_type": "markdown",
   "metadata": {
    "slideshow": {
     "slide_type": "fragment"
    }
   },
   "source": [
    "Este producto matriz-vector, si las dimensiones son adecuadas, se puede obtener con el mismo operador `@`."
   ]
  },
  {
   "cell_type": "markdown",
   "metadata": {
    "slideshow": {
     "slide_type": "subslide"
    }
   },
   "source": [
    "El producto escalar entre dos vectores se obtiene también con la misma función:"
   ]
  },
  {
   "cell_type": "code",
   "execution_count": 21,
   "metadata": {},
   "outputs": [],
   "source": [
    "w=np.array([0,0,1])"
   ]
  },
  {
   "cell_type": "code",
   "execution_count": 22,
   "metadata": {},
   "outputs": [
    {
     "data": {
      "text/plain": [
       "2"
      ]
     },
     "execution_count": 22,
     "metadata": {},
     "output_type": "execute_result"
    }
   ],
   "source": [
    "v@w"
   ]
  },
  {
   "cell_type": "markdown",
   "metadata": {
    "slideshow": {
     "slide_type": "subslide"
    }
   },
   "source": [
    "Para el producto vectorial se debe acudir a `np.cross`:"
   ]
  },
  {
   "cell_type": "markdown",
   "metadata": {
    "slideshow": {
     "slide_type": "subslide"
    }
   },
   "source": [
    "Por último, el producto diádico entre ambos vectores nos producirá una matriz:"
   ]
  },
  {
   "cell_type": "markdown",
   "metadata": {
    "slideshow": {
     "slide_type": "subslide"
    }
   },
   "source": [
    "El cálculo de una matriz inversa puede obtenerse fácilmente también, si la matriz tiene inversa:"
   ]
  },
  {
   "cell_type": "markdown",
   "metadata": {
    "slideshow": {
     "slide_type": "subslide"
    }
   },
   "source": [
    "Si recuperamos la multiplicación de matriz y vector anterior:\n",
    "\n",
    "$$  M=\n",
    "  \\left[ {\\begin{array}{cc}\n",
    "   2 & -1 & 1 \\\\\n",
    "   -1 & 1 & 0 \\\\\n",
    "   0 & 0 & 1\\\\\n",
    "  \\end{array} } \\right]$$\n",
    "  \n",
    "  Y definimos un vector: \n",
    "  $$u=\n",
    "  \\left[ {\\begin{array}{cc}\n",
    "  1 & 4 & 0 \\\\ \n",
    "  \\end{array} } \\right]$$\n",
    "  \n",
    "  Podemos plantear el sistema lineal $M·x=u$, donde $x=[x_1, x_2, x_3]$ se pueden despejar:"
   ]
  },
  {
   "cell_type": "markdown",
   "metadata": {
    "slideshow": {
     "slide_type": "fragment"
    }
   },
   "source": [
    "Se obtiene, por tanto, una forma rápida de definir los pesos del sistema lineal a resolver (matriz $M$) y el valor al que se iguala el sistema de ecuaciones (vector $u$)."
   ]
  },
  {
   "cell_type": "markdown",
   "metadata": {
    "slideshow": {
     "slide_type": "slide"
    }
   },
   "source": [
    "### Carga de datos con numpy\n",
    "\n",
    "En la sesión 4 nos centraremos en otro aspecto de Numpy. Variando la temática y dejando atrás el álgebra lineal, se hará uso de la función `loadtxt`para importar datos de ficheros de numpy.\n",
    "\n",
    "La importación de datos externos es siempre un utilidad a tener en cuenta, pues amenudo se dispone de datos recolectados por sensores o producidos por otras aplicaciones que hay que leer para poder luego operar con ellos.\n",
    "\n",
    "Numpy, a diferencia de otros lenguajes de programación como Matlab, Fortran o C, incorpora una lectura estándar de datos externos."
   ]
  },
  {
   "cell_type": "markdown",
   "metadata": {
    "slideshow": {
     "slide_type": "slide"
    }
   },
   "source": [
    "## 2) Scipy:\n",
    "\n",
    "Scipy contiene múltiples módulos. Lo habitual es cargar mediante un `import` sólo los módulos que se van a ejecutar, en lugar de cargar la librería completa como se ahce con `numpy`.\n",
    "\n",
    "Téngase en cuenta que tanto *numpy* como *scipy* son librerías **numéricas**. Para cálculo simbólico se debe acudir a un CAS (*sympy*). \n",
    "\n",
    "## Scipy: Módulo de Estadística\n",
    "\n",
    "Scipy ofrece una manera rápida de obtener datos estadísticos de una muestra. Por ejemplo, sobre los datos anteriores en `datos_arrancada`:"
   ]
  },
  {
   "cell_type": "code",
   "execution_count": 34,
   "metadata": {},
   "outputs": [],
   "source": [
    "from scipy import stats as stats"
   ]
  },
  {
   "cell_type": "markdown",
   "metadata": {},
   "source": [
    "Haciendo uso de la función `describe` se obtiene una vista rápida de los estadísticos del vector:"
   ]
  },
  {
   "cell_type": "code",
   "execution_count": 35,
   "metadata": {
    "slideshow": {
     "slide_type": "subslide"
    }
   },
   "outputs": [
    {
     "data": {
      "text/plain": [
       "DescribeResult(nobs=2040, minmax=(-9.097491, 202.840912), mean=42.098859289705885, variance=4468.234897348262, skewness=1.3328693206377589, kurtosis=0.36900293382759797)"
      ]
     },
     "execution_count": 35,
     "metadata": {},
     "output_type": "execute_result"
    }
   ],
   "source": [
    "# E:\n",
    "stats.describe(datos_arrancada[:,14])"
   ]
  },
  {
   "cell_type": "code",
   "execution_count": 36,
   "metadata": {
    "slideshow": {
     "slide_type": "fragment"
    }
   },
   "outputs": [
    {
     "data": {
      "text/plain": [
       "DescribeResult(nobs=2040, minmax=(325.406647, 1256.300903), mean=772.2958044269608, variance=65211.462777241206, skewness=-0.19507784297156774, kurtosis=-0.7239200043824576)"
      ]
     },
     "execution_count": 36,
     "metadata": {},
     "output_type": "execute_result"
    }
   ],
   "source": [
    "# T4t-1:\n",
    "stats.describe(datos_arrancada[:,9])"
   ]
  },
  {
   "cell_type": "code",
   "execution_count": 37,
   "metadata": {
    "slideshow": {
     "slide_type": "fragment"
    }
   },
   "outputs": [
    {
     "data": {
      "text/plain": [
       "DescribeResult(nobs=2040, minmax=(355.008972, 1312.776855), mean=735.0761074093137, variance=43430.31819288797, skewness=-0.1690647284687926, kurtosis=-0.023260359045802037)"
      ]
     },
     "execution_count": 37,
     "metadata": {},
     "output_type": "execute_result"
    }
   ],
   "source": [
    "# T4t-2:\n",
    "stats.describe(datos_arrancada[:,10])"
   ]
  },
  {
   "cell_type": "markdown",
   "metadata": {
    "slideshow": {
     "slide_type": "subslide"
    }
   },
   "source": [
    "El paquete de de estadística incluye tests y distribucione. Por ejemplo un test de la mediana es tan sencillo como:"
   ]
  },
  {
   "cell_type": "code",
   "execution_count": 38,
   "metadata": {
    "slideshow": {
     "slide_type": "fragment"
    }
   },
   "outputs": [
    {
     "data": {
      "text/plain": [
       "(2.1656862745098038,\n",
       " 0.1411216076253687,\n",
       " 775.097229,\n",
       " array([[1044,  996],\n",
       "        [ 996, 1044]], dtype=int64))"
      ]
     },
     "execution_count": 38,
     "metadata": {},
     "output_type": "execute_result"
    }
   ],
   "source": [
    "stats.median_test(datos_arrancada[:,9], datos_arrancada[:,10])"
   ]
  },
  {
   "cell_type": "markdown",
   "metadata": {
    "slideshow": {
     "slide_type": "subslide"
    }
   },
   "source": [
    "A parte de obtener máximos y mínimos, se pueden aplicar tests, (Chi2, Pearson, Normal, Mediana...), calcular momentos y curtosis, distribuciones de probabilidad..."
   ]
  },
  {
   "cell_type": "code",
   "execution_count": 39,
   "metadata": {
    "slideshow": {
     "slide_type": "fragment"
    }
   },
   "outputs": [
    {
     "name": "stdout",
     "output_type": "stream",
     "text": [
      "(9.615384615384615, 0.0019295404758470829, 779.453583, array([[52, 78],\n",
      "       [78, 52]], dtype=int64))\n",
      "791.70362875\n",
      "793.01297\n"
     ]
    }
   ],
   "source": [
    "print(stats.median_test(T4t1[1040:1170], T4t2[1040:1170]))\n",
    "print(stats.scoreatpercentile(T4t1[1040:1170], per=75))\n",
    "print(stats.scoreatpercentile(T4t2[1040:1170], per=75))"
   ]
  },
  {
   "cell_type": "code",
   "execution_count": 40,
   "metadata": {
    "slideshow": {
     "slide_type": "subslide"
    }
   },
   "outputs": [
    {
     "data": {
      "text/plain": [
       "Text(0.5, 0, 'T [K]')"
      ]
     },
     "execution_count": 40,
     "metadata": {},
     "output_type": "execute_result"
    },
    {
     "data": {
      "image/png": "[encoded data removed]",
      "text/plain": [
       "<Figure size 432x288 with 1 Axes>"
      ]
     },
     "metadata": {
      "needs_background": "light"
     },
     "output_type": "display_data"
    }
   ],
   "source": [
    "plt.figure()\n",
    "plt.plot(T4t1[1040:1170])\n",
    "plt.plot(T4t2[1040:1170])\n",
    "plt.legend(['T4t1', 'T4t2'])\n",
    "plt.ylabel(\"t [s]\")\n",
    "plt.xlabel(\"T [K]\")"
   ]
  },
  {
   "cell_type": "markdown",
   "metadata": {
    "slideshow": {
     "slide_type": "slide"
    }
   },
   "source": [
    "## Interpolación y Ajuste de datos:\n",
    "\n",
    "Supongamos ahora que queremos diezmar los datos de T4t1 y T4t2. Para ello podemos usar la siguiente sintaxis:"
   ]
  },
  {
   "cell_type": "code",
   "execution_count": 41,
   "metadata": {},
   "outputs": [
    {
     "name": "stdout",
     "output_type": "stream",
     "text": [
      "[ 1  2  3  4  5  6  7  8  9 10]\n",
      "[ 1  4  7 10]\n"
     ]
    }
   ],
   "source": [
    "a = np.arange(1,11,1)\n",
    "print(a)\n",
    "print(a[::3])"
   ]
  },
  {
   "cell_type": "markdown",
   "metadata": {
    "slideshow": {
     "slide_type": "subslide"
    }
   },
   "source": [
    "Por tanto, para T4t1 y T4t2:"
   ]
  },
  {
   "cell_type": "code",
   "execution_count": 42,
   "metadata": {
    "slideshow": {
     "slide_type": "fragment"
    }
   },
   "outputs": [
    {
     "data": {
      "text/plain": [
       "Text(0.5, 0, 'T [K]')"
      ]
     },
     "execution_count": 42,
     "metadata": {},
     "output_type": "execute_result"
    },
    {
     "data": {
      "image/png": "[encoded data removed]",
      "text/plain": [
       "<Figure size 432x288 with 1 Axes>"
      ]
     },
     "metadata": {
      "needs_background": "light"
     },
     "output_type": "display_data"
    }
   ],
   "source": [
    "n=50\n",
    "tiempo_d = tiempo[::n]\n",
    "T4t1_d = T4t1[::n]\n",
    "T4t2_d = T4t2[::n]\n",
    "plt.figure()\n",
    "plt.plot(tiempo, T4t1)\n",
    "plt.plot(tiempo_d, T4t1_d, 'x')\n",
    "plt.ylabel(\"t [s]\")\n",
    "plt.xlabel(\"T [K]\")"
   ]
  },
  {
   "cell_type": "markdown",
   "metadata": {
    "slideshow": {
     "slide_type": "subslide"
    }
   },
   "source": [
    "Ahora, interpolando los nuevos datos con Splines:"
   ]
  },
  {
   "cell_type": "code",
   "execution_count": 43,
   "metadata": {},
   "outputs": [],
   "source": [
    "from scipy import interpolate\n",
    "T4t1_spline = interpolate.InterpolatedUnivariateSpline(tiempo_d, T4t1_d)\n",
    "T4t1_remuestreado = T4t1_spline(tiempo)"
   ]
  },
  {
   "cell_type": "code",
   "execution_count": 44,
   "metadata": {},
   "outputs": [
    {
     "data": {
      "text/plain": [
       "Text(0.5, 0, 'T [K]')"
      ]
     },
     "execution_count": 44,
     "metadata": {},
     "output_type": "execute_result"
    },
    {
     "data": {
      "image/png": "[encoded data removed]",
      "text/plain": [
       "<Figure size 432x288 with 1 Axes>"
      ]
     },
     "metadata": {
      "needs_background": "light"
     },
     "output_type": "display_data"
    }
   ],
   "source": [
    "plt.figure()\n",
    "plt.plot(tiempo, T4t1)\n",
    "plt.plot(tiempo, T4t1_remuestreado, '+-')\n",
    "plt.plot(tiempo_d, T4t1_d, 'x-')\n",
    "plt.legend(['Original', 'Interpolada', 'Diezmada'])\n",
    "plt.ylabel(\"t [s]\")\n",
    "plt.xlabel(\"T [K]\")"
   ]
  },
  {
   "cell_type": "markdown",
   "metadata": {},
   "source": [
    "Si aplicamos lo mismo para $T_{4t}^2$:"
   ]
  },
  {
   "cell_type": "code",
   "execution_count": 45,
   "metadata": {},
   "outputs": [
    {
     "data": {
      "text/plain": [
       "Text(0.5, 0, 'T [K]')"
      ]
     },
     "execution_count": 45,
     "metadata": {},
     "output_type": "execute_result"
    },
    {
     "data": {
      "image/png": "[encoded data removed]",
      "text/plain": [
       "<Figure size 432x288 with 1 Axes>"
      ]
     },
     "metadata": {
      "needs_background": "light"
     },
     "output_type": "display_data"
    }
   ],
   "source": [
    "T4t2_spline = interpolate.InterpolatedUnivariateSpline(tiempo_d, T4t2_d)\n",
    "T4t2_remuestreado = T4t2_spline(tiempo)\n",
    "plt.figure()\n",
    "plt.plot(tiempo, T4t2)\n",
    "plt.plot(tiempo, T4t2_remuestreado, '+-')\n",
    "plt.plot(tiempo_d, T4t2_d, 'x-')\n",
    "plt.legend(['Original', 'Diezmada', 'Interpolada'])\n",
    "plt.ylabel(\"t [s]\")\n",
    "plt.xlabel(\"T [K]\")"
   ]
  },
  {
   "cell_type": "code",
   "execution_count": 46,
   "metadata": {
    "slideshow": {
     "slide_type": "subslide"
    }
   },
   "outputs": [
    {
     "data": {
      "text/plain": [
       "Text(0.5, 0, 'T [K]')"
      ]
     },
     "execution_count": 46,
     "metadata": {},
     "output_type": "execute_result"
    },
    {
     "data": {
      "image/png": "[encoded data removed]",
      "text/plain": [
       "<Figure size 432x288 with 1 Axes>"
      ]
     },
     "metadata": {
      "needs_background": "light"
     },
     "output_type": "display_data"
    }
   ],
   "source": [
    "plt.figure()\n",
    "plt.plot(T4t1 - T4t1_remuestreado, 'v-')\n",
    "plt.plot(T4t2 - T4t2_remuestreado, '^-')\n",
    "plt.legend(['Error T4t1', 'Error T4t2'])\n",
    "plt.ylabel(\"t [s]\")\n",
    "plt.xlabel(\"T [K]\")"
   ]
  },
  {
   "cell_type": "markdown",
   "metadata": {
    "slideshow": {
     "slide_type": "subslide"
    }
   },
   "source": [
    "Se produce Overfitting! Scipy y Numpy ofrecen muchos interpoladores según la necesidad de cada función. Probemos ahora a hacer un ajuste de datos mediante un ajuste de mínimos cuadrados no-lineales:\n",
    "\n"
   ]
  },
  {
   "cell_type": "code",
   "execution_count": 47,
   "metadata": {
    "slideshow": {
     "slide_type": "fragment"
    }
   },
   "outputs": [],
   "source": [
    "from scipy.optimize import curve_fit as cf"
   ]
  },
  {
   "cell_type": "markdown",
   "metadata": {
    "slideshow": {
     "slide_type": "-"
    },
    "tags": []
   },
   "source": [
    ">`cf?`"
   ]
  },
  {
   "cell_type": "markdown",
   "metadata": {
    "slideshow": {
     "slide_type": "subslide"
    }
   },
   "source": [
    "De los datos de $T_{4t}^1$ seleccionaremos las muestras $T_{4t}^1[900:1031]$"
   ]
  },
  {
   "cell_type": "code",
   "execution_count": 48,
   "metadata": {},
   "outputs": [],
   "source": [
    "T4t1_subsampl = T4t1[900:1031]\n",
    "tiempo_subsampl = tiempo[900:1031]"
   ]
  },
  {
   "cell_type": "markdown",
   "metadata": {
    "slideshow": {
     "slide_type": "subslide"
    }
   },
   "source": [
    "Preparación del regresor: se hará uso de un regresor cúbico como el siguiente:"
   ]
  },
  {
   "cell_type": "code",
   "execution_count": 49,
   "metadata": {},
   "outputs": [],
   "source": [
    "def regresor(x, a, b, c, d):\n",
    "    poly = a + b*x + c*x*x + d*x*3\n",
    "    return poly"
   ]
  },
  {
   "cell_type": "markdown",
   "metadata": {
    "slideshow": {
     "slide_type": "subslide"
    }
   },
   "source": [
    "Ahora, definiendo unos mínimos cuadrados no lineales con la regresión anterior sobre los datos de temperatura anteriores obtenemos:"
   ]
  },
  {
   "cell_type": "code",
   "execution_count": 50,
   "metadata": {
    "slideshow": {
     "slide_type": "fragment"
    }
   },
   "outputs": [
    {
     "name": "stdout",
     "output_type": "stream",
     "text": [
      "[-2.15175599e+04  1.72156714e+04 -3.64607864e-01 -5.67791721e+03]\n",
      "[[ 1.57069691e+06 -7.85995282e+06  2.69956382e+01  2.61563981e+06]\n",
      " [-7.85942191e+06 -2.46944666e+11 -1.27098454e+02  8.23149093e+10]\n",
      " [ 2.69956382e+01 -1.27107578e+02  4.64547563e-04  4.22944781e+01]\n",
      " [ 2.61546284e+06  8.23149093e+10  4.22914365e+01 -2.74383099e+10]]\n"
     ]
    }
   ],
   "source": [
    "valor_regresores, covarianza = cf(regresor, tiempo_subsampl, T4t1_subsampl)\n",
    "print(valor_regresores)\n",
    "print(covarianza)"
   ]
  },
  {
   "cell_type": "markdown",
   "metadata": {
    "slideshow": {
     "slide_type": "subslide"
    }
   },
   "source": [
    "Con el ajuste de mínimos cuadrados realizado, se pueden aplicar los pesos del regresor recién calculado y obtener la curva de ajuste:"
   ]
  },
  {
   "cell_type": "code",
   "execution_count": 51,
   "metadata": {
    "slideshow": {
     "slide_type": "fragment"
    }
   },
   "outputs": [],
   "source": [
    "T4t_ajustada = regresor(tiempo_subsampl, *valor_regresores)"
   ]
  },
  {
   "cell_type": "markdown",
   "metadata": {
    "slideshow": {
     "slide_type": "fragment"
    }
   },
   "source": [
    "La notación `*valor_regresores` sirve para desempaquetar los valores del `array` a cada una de las variables de `regresor(x, a, b, c, d)`.\n",
    "\n",
    "Ahora, calculando la curva de ajuste y representándola:"
   ]
  },
  {
   "cell_type": "code",
   "execution_count": 52,
   "metadata": {
    "slideshow": {
     "slide_type": "subslide"
    }
   },
   "outputs": [
    {
     "data": {
      "text/plain": [
       "Text(0.5, 0, 'T [K]')"
      ]
     },
     "execution_count": 52,
     "metadata": {},
     "output_type": "execute_result"
    },
    {
     "data": {
      "image/png": "[encoded data removed]",
      "text/plain": [
       "<Figure size 432x288 with 1 Axes>"
      ]
     },
     "metadata": {
      "needs_background": "light"
     },
     "output_type": "display_data"
    }
   ],
   "source": [
    "plt.figure()\n",
    "plt.plot(tiempo_subsampl, T4t1_subsampl)\n",
    "plt.plot(tiempo_subsampl, T4t_ajustada)\n",
    "plt.ylabel(\"t [s]\")\n",
    "plt.xlabel(\"T [K]\")"
   ]
  },
  {
   "cell_type": "markdown",
   "metadata": {
    "slideshow": {
     "slide_type": "slide"
    }
   },
   "source": [
    "## Integrar con Scipy:\n",
    "\n",
    "Integraremos una EDO sencilla tal que $$\\frac{\\delta y}{\\delta t} = -y $$\n",
    "$$ y_0 = 1 $$\n",
    "$$ t_0 = 0 $$"
   ]
  },
  {
   "cell_type": "markdown",
   "metadata": {
    "slideshow": {
     "slide_type": "subslide"
    }
   },
   "source": [
    "Para ello la función a integrar se definirá como una función de python (`def`) con las variables independientes $t, y$:"
   ]
  },
  {
   "cell_type": "code",
   "execution_count": 53,
   "metadata": {
    "slideshow": {
     "slide_type": "fragment"
    }
   },
   "outputs": [],
   "source": [
    "from scipy.integrate import solve_ivp\n",
    "\n",
    "def fun(t, y):\n",
    "    return -y\n",
    "\n",
    "t0 = np.array([0]) #es obligatorio\n",
    "tf = np.array([10])#es obligatorio\n",
    "y0 = np.array([1]) #es obligatorio"
   ]
  },
  {
   "cell_type": "code",
   "execution_count": 54,
   "metadata": {
    "slideshow": {
     "slide_type": "subslide"
    }
   },
   "outputs": [],
   "source": [
    "solucion = solve_ivp(fun, (t0, tf), y0)"
   ]
  },
  {
   "cell_type": "code",
   "execution_count": 55,
   "metadata": {},
   "outputs": [
    {
     "data": {
      "text/plain": [
       "[<matplotlib.lines.Line2D at 0x1c178376608>]"
      ]
     },
     "execution_count": 55,
     "metadata": {},
     "output_type": "execute_result"
    },
    {
     "data": {
      "image/png": "[encoded data removed]",
      "text/plain": [
       "<Figure size 432x288 with 1 Axes>"
      ]
     },
     "metadata": {
      "needs_background": "light"
     },
     "output_type": "display_data"
    }
   ],
   "source": [
    "plt.figure()\n",
    "plt.plot(solucion.t, solucion.y[0,:], 'x-')"
   ]
  },
  {
   "cell_type": "markdown",
   "metadata": {
    "slideshow": {
     "slide_type": "subslide"
    }
   },
   "source": [
    "Existen muchos más métodos de integración y derivación en Scipy. Dependiendo de la complejidad de la EDO/EDP se deben usar unos u otros.\n",
    "\n",
    "La función `solve_ivp` es una implementación en Fortran de un integrador con múltiples esquemas numéricos incorporados. Por defecto se una RK4-5 (Runge Kutta orden 4) pero se pueden seleccionar otros métodos.\n",
    "\n",
    "También se puede acudir directamente al método RK45 en `scipy.integrate.RK45`."
   ]
  },
  {
   "cell_type": "markdown",
   "metadata": {
    "slideshow": {
     "slide_type": "slide"
    }
   },
   "source": [
    "## Derivar con Scipy\n",
    "\n",
    "La derivación numérica se puede acometer con scipy con la función `derivative`. En esta función se aplican unas diferencias finitas centradas de orden seleccionable por el usuario (por defecto orden 1)."
   ]
  },
  {
   "cell_type": "code",
   "execution_count": 56,
   "metadata": {
    "slideshow": {
     "slide_type": "-"
    }
   },
   "outputs": [],
   "source": [
    "from scipy.misc import derivative"
   ]
  },
  {
   "cell_type": "markdown",
   "metadata": {
    "slideshow": {
     "slide_type": "subslide"
    }
   },
   "source": [
    "Se define una función a derivar con `def`. Por ejemplo:\n",
    "\n",
    "$$ f\\left( x \\right) = x^3 + x^2$$\n",
    "\n",
    "La derivada en $x_1=1$ sería:\n",
    "\n",
    "$$ \\frac{\\delta f}{\\delta x} = 3x^2+2x \\rightarrow \\frac{\\delta f}{\\delta x}\\bigg{\\vert} _{x_1}=5$$"
   ]
  },
  {
   "cell_type": "code",
   "execution_count": 57,
   "metadata": {},
   "outputs": [
    {
     "name": "stdout",
     "output_type": "stream",
     "text": [
      "Derivada en x1=1 :  4.999999999921734\n"
     ]
    }
   ],
   "source": [
    "def f(x):\n",
    "    return x**3 + x**2\n",
    "\n",
    "derivada = derivative(f, 1.0, dx=1e-6)\n",
    "print('Derivada en x1=1 : ', derivada)"
   ]
  }
 ],
 "metadata": {
  "celltoolbar": "Slideshow",
  "kernelspec": {
   "display_name": "Python 3 (ipykernel)",
   "language": "python",
   "name": "python3"
  },
  "language_info": {
   "codemirror_mode": {
    "name": "ipython",
    "version": 3
   },
   "file_extension": ".py",
   "mimetype": "text/x-python",
   "name": "python",
   "nbconvert_exporter": "python",
   "pygments_lexer": "ipython3",
   "version": "3.9.13"
  }
 },
 "nbformat": 4,
 "nbformat_minor": 4
}
